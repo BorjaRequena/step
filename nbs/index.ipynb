{
 "cells": [
  {
   "cell_type": "raw",
   "metadata": {},
   "source": [
    "---\n",
    "description: Diffusion properties at every time step\n",
    "output-file: index.html\n",
    "title: STEP - pointwise diffusion characterization\n",
    "\n",
    "---\n",
    "\n"
   ]
  },
  {
   "cell_type": "markdown",
   "metadata": {},
   "source": [
    "<a href=\"https://doi.org/10.5281/zenodo.7480413\"><img src=\"https://zenodo.org/badge/DOI/10.5281/zenodo.7480413.svg\" alt=\"DOI\"></a>\n",
    "\n",
    "STEP is a machine learning model able to predict the diffusion properties of a pointwise level. This means that STEP produces a prediction for every frame of the input trajectory, leveraging multiple ML blocks to account for the different properties normal and anomalous diffusion trajectories have. The model was originally developed for the [Inferring pointwise diffusion properties of single trajectories with deep learning](www.arxiv.org).\n",
    "\n",
    "The repository is still under construction though. We will fill in the tutorials and format the documentation after the initial submission. :)"
   ]
  },
  {
   "cell_type": "markdown",
   "metadata": {},
   "source": [
    "# Cite us\n",
    "\n",
    "If you use this library, please cite us!\n",
    "\n",
    "```\n",
    "@software{Requena2022step,\n",
    "  author       = {Requena, Borja and\n",
    "                  Mu{\\~n}oz-Gil, Gorkal},\n",
    "  title        = {BorjaRequena/step},\n",
    "  month        = dec,\n",
    "  year         = 2022,\n",
    "  publisher    = {Zenodo},\n",
    "  doi          = {10.5281/zenodo.7480413},\n",
    "  url          = {https://doi.org/10.5281/zenodo.7480413}\n",
    "}\n",
    "```"
   ]
  }
 ],
 "metadata": {
  "kernelspec": {
   "display_name": "Python 3 (ipykernel)",
   "language": "python",
   "name": "python3"
  },
  "language_info": {
   "codemirror_mode": {
    "name": "ipython",
    "version": 3
   },
   "file_extension": ".py",
   "mimetype": "text/x-python",
   "name": "python",
   "nbconvert_exporter": "python",
   "pygments_lexer": "ipython3",
   "version": "3.9.12"
  }
 },
 "nbformat": 4,
 "nbformat_minor": 4
}
