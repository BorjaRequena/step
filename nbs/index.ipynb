{
 "cells": [
  {
   "cell_type": "raw",
   "metadata": {},
   "source": [
    "---\n",
    "description: Diffusion properties at every time step\n",
    "output-file: index.html\n",
    "title: STEP\n",
    "---"
   ]
  },
  {
   "attachments": {},
   "cell_type": "markdown",
   "metadata": {},
   "source": [
    "<a href=\"https://doi.org/10.5281/zenodo.7480413\"><img src=\"https://zenodo.org/badge/DOI/10.5281/zenodo.7480413.svg\" alt=\"DOI\"></a>\n",
    "\n",
    "STEP is a machine learning pipeline to study time-dependent diffusion properties. It predicts the desired properties of input trajectories at every time step, allowing us to see where changes in the diffusive behaviour occur (if there are any).\n",
    "\n",
    "The method was originally developed for the paper [Inferring pointwise diffusion properties of single trajectories with deep learning](https://arxiv.org/abs/2302.00410). We provide a [documented](https://borjarequena.github.io/step/) library and extensive [tutorials](https://borjarequena.github.io/step/tutorials/index_tutorials.html) to reproduce the reported results of our work."
   ]
  },
  {
   "attachments": {},
   "cell_type": "markdown",
   "metadata": {},
   "source": [
    "# Cite us\n",
    "\n",
    "If you use this library, please cite us! We would appreciate both a citation to the library and to our original work.\n",
    "\n",
    "To cite the original work:\n",
    "```\n",
    "@misc{Requena2023STEP,\n",
    "  author    = {Requena, Borja and Mas\\'o, Sergi and Bertran, Joan and\n",
    "               Lewenstein, Maciej and Manzo, Carlo and Mu{\\~n}oz-Gil, Gorka},\n",
    "  title     = {Inferring pointwise diffusion properties of single\n",
    "               trajectories with deep learning},\n",
    "  doi       = {10.48550/ARXIV.2302.00410},\n",
    "  url       = {https://arxiv.org/abs/2302.00410},\n",
    "  publisher = {arXiv},\n",
    "  year      = {2023},\n",
    "  keywords  = {Soft Condensed Matter (cond-mat.soft),\n",
    "               Biological Physics (physics.bio-ph),\n",
    "               Data Analysis, Statistics and Probability (physics.data-an),\n",
    "               Quantitative Methods (q-bio.QM), FOS: Physical sciences,\n",
    "               FOS: Biological sciences, FOS: Biological sciences},\n",
    "  copyright = {Creative Commons Attribution Share Alike 4.0 International}\n",
    "}\n",
    "```\n",
    "To cite the library:\n",
    "```\n",
    "@software{Requena2022step,\n",
    "  author    = {Requena, Borja and Mu{\\~n}oz-Gil, Gorka},\n",
    "  title     = {BorjaRequena/step},\n",
    "  month     = dec,\n",
    "  year      = 2022,\n",
    "  publisher = {Zenodo},\n",
    "  doi       = {10.5281/zenodo.7480413},\n",
    "  url       = {https://doi.org/10.5281/zenodo.7480413}\n",
    "}\n",
    "```"
   ]
  }
 ],
 "metadata": {
  "kernelspec": {
   "display_name": "Python 3 (ipykernel)",
   "language": "python",
   "name": "python3"
  }
 },
 "nbformat": 4,
 "nbformat_minor": 4
}
