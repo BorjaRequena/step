{
 "cells": [
  {
   "cell_type": "markdown",
   "metadata": {},
   "source": [
    "<h1 align=\"center\"> --- STEP ---</h1>"
   ]
  },
  {
   "cell_type": "markdown",
   "metadata": {},
   "source": [
    "<p align=\"center\">\n",
    "  <img width=\"350\" src=\"cover_fig.png\">\n",
    "</p>\n",
    "<h4 align=\"center\">Diffusion properties at every time step</h4>"
   ]
  },
  {
   "cell_type": "markdown",
   "metadata": {},
   "source": [
    "<p style=\"text-align:center\">\n",
    "<a href=\"https://doi.org/10.5281/zenodo.7480413\"><img src=\"https://zenodo.org/badge/DOI/10.5281/zenodo.7480413.svg\" alt=\"DOI\"></a>\n",
    "</p>\n",
    "<p style=\"text-align:center\">\n",
    "    <a href=\"#getting-started\">Get started</a> |\n",
    "    <a href=\"https://borjarequena.github.io/step/\">Documentation</a> |\n",
    "    <a href=\"https://borjarequena.github.io/step/tutorials/index_tutorials.html\">Tutorials</a> |\n",
    "    <a href=\"#cite-us\">Cite us</a>\n",
    "</p>\n",
    "\n",
    "<div style=\"text-align: justify\"> \n",
    "STEP is a machine learning pipeline to study time-dependent diffusion properties by extracting them at every time step of the input trajectories.\n",
    "This allows us to infer where changes in the diffusive behaviour occur (if there are any).\n",
    "The method was originally developed for the paper \"[Inferring pointwise diffusion properties of single trajectories with deep learning](https://arxiv.org/abs/2302.00410)\".\n",
    "\n",
    "In order to characterize the mechanisms governing the diffusion of particles in biological scenarios, it is essential to accurately determine their diffusive properties. \n",
    "However, analyzing these trajectories is a challenging task, due to their stochastic nature and other associated technical drawbacks, as for example the presence of noise in their acquisition.\n",
    "Furthermore, we often encounter changes in the motion properties through time, which adds on to the complexity.\n",
    "Typically, these changes are associated with to physical changes of the tracked particles (from animals in the wild to proteins in a cell) but also to their interaction with other components in their environments.\n",
    "\n",
    "Accurately characterizing these time-dependent properties of motion can therefor provide enormous insight sabout the physical systems at hand.\n",
    "With our work, we contribute to the community effort of studying diffusive processes with state-of-the-art machine learning techniques, instigated by initiatives like the [AnDi Challenge](https://www.nature.com/articles/s41467-021-26320-w).\n",
    "We propose **STEP**: a method to extract the diffusion properties of trajectories at every time step.\n",
    "This way, we can easily see any possible changes through time both sudden and continuous, without any prior assumption about the system.\n",
    "\n",
    "We provide a [python library](#getting-started) with [extensive documentation](source/00_data.ipynb) to simulate time-dependent diffusive processes, train machine learning models to characterize them, and analyze their performance.\n",
    "Follow our [tutorials](https://borjarequena.github.io/step/tutorials/index_tutorials.html) to get familiar with our method, reproduce our results, and use STEP to analyze your experiments!\n",
    "</div>\n",
    "\n",
    "::: {.callout-note}\n",
    "We use the [AnDi datasets library](https://andichallenge.github.io/andi_datasets/) to simulate the anomalous diffusion segments in the trajectories.\n",
    ":::"
   ]
  },
  {
   "cell_type": "markdown",
   "metadata": {},
   "source": [
    "## Getting started\n",
    "\n",
    "<div style=\"text-align: justify\">\n",
    "In order to use our library, you will need a system with `python>=3.10`.\n",
    "Then, you can install STEP by first cloning our repository in your filesystem:\n",
    "```\n",
    "git clone https://github.com/BorjaRequena/step.git\n",
    "cd step\n",
    "pip install .\n",
    "```\n",
    "This will install all the necessary dependencies to make full use of the library.\n",
    " \n",
    "To train the machine learning models, we recommend using a GPU to take full advantage of [PyTorch](https://pytorch.org/).\n",
    "A viable option is to use [Google colab](https://colab.research.google.com/).\n",
    "There, you can use hardware accelerators (GPUs and TPUs) from the menu `Runtime>Change runtime type` and selecting your desired accelerator in the `Hardware accelerator` dropdown menu.\n",
    "</div>\n"
   ]
  },
  {
   "cell_type": "markdown",
   "metadata": {},
   "source": [
    "## Contributing\n",
    "\n",
    "<div style=\"text-align: justify\"> \n",
    "Contributions are more than welcome!\n",
    "Should you need support for a new feature, [open an issue](https://github.com/BorjaRequena/step/issues/new/choose)!\n",
    "If you feel like developing it yourself, [open a pull request](https://github.com/BorjaRequena/step/compare)!\n",
    "\n",
    "This repository is based on [nbdev](https://nbdev.fast.ai/).\n",
    "Therefore, you should get familiar with the [basics of nbdev](https://nbdev.fast.ai/getting_started.html) beforehand.\n",
    "However, if you have any doubt, you can open a pull request and ask us.\n",
    "We'll be more than happy to help you out!\n",
    "\n",
    "To be able to contribute, you'll have to first [fork the repository](https://github.com/BorjaRequena/step/fork).\n",
    "Then, clone the fork to your local system and install it in editable mode:\n",
    "```\n",
    "git clone https://github.com/YourUserName/step.git\n",
    "cd step\n",
    "pip install -e .\n",
    "```\n",
    "Then, you'll have to create a branch in your fork where you will commit your edits.\n",
    "```\n",
    "git checkout -b my-feature\n",
    "```\n",
    "Once you have commited the first changes to the branch, you can already [open a pull request](https://github.com/BorjaRequena/step/compare) to merge it into our master branch.\n",
    "This way, we can see your progress and help you with the integration from the start.\n",
    "</div>\n"
   ]
  },
  {
   "cell_type": "markdown",
   "metadata": {},
   "source": [
    "## Cite us\n",
    "\n",
    "If you use this library, please cite us! We would appreciate both a citation to the library and to our original work.\n",
    "\n",
    "To cite the original work:\n",
    "\n",
    "```latex\n",
    "@misc{Requena2023STEP,\n",
    "  author    = {Requena, Borja and Mas\\'o, Sergi and Bertran, Joan and\n",
    "               Lewenstein, Maciej and Manzo, Carlo and Mu{\\~n}oz-Gil, Gorka},\n",
    "  title     = {Inferring pointwise diffusion properties of single\n",
    "               trajectories with deep learning},\n",
    "  doi       = {10.48550/ARXIV.2302.00410},\n",
    "  url       = {https://arxiv.org/abs/2302.00410},\n",
    "  publisher = {arXiv},\n",
    "  year      = {2023},\n",
    "  keywords  = {Soft Condensed Matter (cond-mat.soft),\n",
    "               Biological Physics (physics.bio-ph),\n",
    "               Data Analysis, Statistics and Probability (physics.data-an),\n",
    "               Quantitative Methods (q-bio.QM), FOS: Physical sciences,\n",
    "               FOS: Biological sciences, FOS: Biological sciences},\n",
    "  copyright = {Creative Commons Attribution Share Alike 4.0 International}\n",
    "}\n",
    "```\n",
    "To cite the library:\n",
    "\n",
    "```latex\n",
    "@software{Requena2022step,\n",
    "  author    = {Requena, Borja and Mu{\\~n}oz-Gil, Gorka},\n",
    "  title     = {BorjaRequena/step},\n",
    "  month     = dec,\n",
    "  year      = 2022,\n",
    "  publisher = {Zenodo},\n",
    "  doi       = {10.5281/zenodo.7480413},\n",
    "  url       = {https://doi.org/10.5281/zenodo.7480413}\n",
    "}\n",
    "```"
   ]
  },
  {
   "cell_type": "code",
   "execution_count": null,
   "metadata": {},
   "outputs": [],
   "source": []
  }
 ],
 "metadata": {
  "kernelspec": {
   "display_name": "Python 3 (ipykernel)",
   "language": "python",
   "name": "python3"
  },
  "language_info": {
   "codemirror_mode": {
    "name": "ipython",
    "version": 3
   },
   "file_extension": ".py",
   "mimetype": "text/x-python",
   "name": "python",
   "nbconvert_exporter": "python",
   "pygments_lexer": "ipython3",
   "version": "3.9.12"
  }
 },
 "nbformat": 4,
 "nbformat_minor": 4
}
