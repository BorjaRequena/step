{
 "cells": [
  {
   "cell_type": "raw",
   "metadata": {},
   "source": [
    "---\n",
    "description: Diffusion properties at every time step\n",
    "output-file: index.html\n",
    "title: STEP\n",
    "\n",
    "---\n",
    "\n"
   ]
  },
  {
   "cell_type": "markdown",
   "metadata": {},
   "source": [
    "<a href=\"https://doi.org/10.5281/zenodo.7480413\"><img src=\"https://zenodo.org/badge/DOI/10.5281/zenodo.7480413.svg\" alt=\"DOI\"></a>\n",
    "\n",
    "We have originally developed this library for the paper **Inferring pointwise diffusion properties of single trajectories with deep learning**.\n",
    "\n",
    "The repository is still under construction though. We will fill in the tutorials and format the documentation after the new year :)"
   ]
  },
  {
   "cell_type": "markdown",
   "metadata": {},
   "source": [
    "# Cite us\n",
    "\n",
    "If you use this library, please cite us!\n",
    "\n",
    "```\n",
    "@software{Requena2022step,\n",
    "  author       = {Requena, Borja and\n",
    "                  Mu{\\~n}oz-Gil, Gorkal},\n",
    "  title        = {BorjaRequena/step},\n",
    "  month        = dec,\n",
    "  year         = 2022,\n",
    "  publisher    = {Zenodo},\n",
    "  doi          = {10.5281/zenodo.7480413},\n",
    "  url          = {https://doi.org/10.5281/zenodo.7480413}\n",
    "}\n",
    "```"
   ]
  }
 ],
 "metadata": {
  "kernelspec": {
   "display_name": "Python 3 (ipykernel)",
   "language": "python",
   "name": "python3"
  }
 },
 "nbformat": 4,
 "nbformat_minor": 4
}
