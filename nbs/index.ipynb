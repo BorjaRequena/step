{
 "cells": [
  {
   "cell_type": "raw",
   "metadata": {},
   "source": [
    "---\n",
    "description: Diffusion properties at every time step\n",
    "output-file: index.html\n",
    "title: STEP\n",
    "\n",
    "---\n",
    "\n"
   ]
  },
  {
   "cell_type": "markdown",
   "metadata": {},
   "source": [
    "We have originally developed this library for the paper **Inferring pointwise diffusion properties of single trajectories with deep learning**.\n",
    "\n",
    "The repository is still under construction though. We will fill in the tutorials and format the documentation after the new year :)"
   ]
  }
 ],
 "metadata": {
  "kernelspec": {
   "display_name": "Python 3 (ipykernel)",
   "language": "python",
   "name": "python3"
  }
 },
 "nbformat": 4,
 "nbformat_minor": 4
}
