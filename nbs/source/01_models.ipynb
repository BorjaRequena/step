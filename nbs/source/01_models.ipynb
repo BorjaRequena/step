{
 "cells": [
  {
   "cell_type": "raw",
   "metadata": {},
   "source": [
    "---\n",
    "title: Models\n",
    "description: Architectures for trajectory segmentation.\n",
    "output-file: models.html\n",
    "skip_exec: true\n",
    "---"
   ]
  },
  {
   "cell_type": "code",
   "execution_count": null,
   "metadata": {},
   "outputs": [],
   "source": [
    "#| default_exp models"
   ]
  },
  {
   "cell_type": "code",
   "execution_count": null,
   "metadata": {},
   "outputs": [],
   "source": [
    "#| export\n",
    "import fastai\n",
    "from copy import deepcopy\n",
    "from fastcore.all import *\n",
    "from fastai.vision.all import *\n",
    "\n",
    "from step.data import DEFAULT_TOKEN"
   ]
  },
  {
   "cell_type": "markdown",
   "metadata": {},
   "source": [
    "# Utility layers"
   ]
  },
  {
   "cell_type": "code",
   "execution_count": null,
   "metadata": {},
   "outputs": [],
   "source": [
    "#| export\n",
    "def get_act(vocab_sz, yrange=(0, 2.05)):\n",
    "    \"\"\"Provides a sigmoid or softmax activation according to\n",
    "    inferring the task (regression or classification) from `vocab_sz`.\"\"\"\n",
    "    if vocab_sz == 1:\n",
    "        act = SigmoidRange(*yrange)\n",
    "    else:\n",
    "        act = nn.Softmax(dim=-1)\n",
    "    return act\n",
    "\n",
    "def _get_acts(n_class, yrange=(0, 2.05)):\n",
    "    act = SigmoidRange(*yrange) if n_class == 1 else noop\n",
    "    activation = nn.Softmax(dim=-1) if n_class > 1 else noop\n",
    "    return act, activation\n",
    "    \n",
    "class Normalization(Module):\n",
    "    \"Z-Normalization over the designated dimension.\"\n",
    "    def __init__(self, dim=-1): self.dim = dim\n",
    "    def forward(self, x): \n",
    "        return (x - x.mean(self.dim).unsqueeze(self.dim))/x.std(self.dim).unsqueeze(self.dim)\n",
    "    \n",
    "class Transpose(Module):\n",
    "    \"Transposition layer of dims.\"\n",
    "    def __init__(self, dims): self.dims = dims\n",
    "    def forward(self, x): return x.transpose(*self.dims)\n",
    "\n",
    "class ConcatPooling(Module):\n",
    "    \"Perform max and average pool over `dim`. Outputs [avg_pool, max_pool].\"\n",
    "    def __init__(self, dim=-1): self.dim = dim\n",
    "    def forward(self, x): return torch.cat([x.mean(dim=self.dim), x.max(dim=self.dim)[0]], dim=1)\n",
    "    \n",
    "def tfm_encoder(dim, n_head=1, n_layers=8, dim_ff=1024, dropout=0.1, activation='relu'):\n",
    "    \"Creates a `nn.TransformerEncoder`.\"\n",
    "    encoder_layer = nn.TransformerEncoderLayer(dim, n_head, dim_ff, dropout, activation)\n",
    "    encoder_norm = nn.LayerNorm(dim)\n",
    "    return nn.TransformerEncoder(encoder_layer, n_layers, encoder_norm)"
   ]
  },
  {
   "cell_type": "markdown",
   "metadata": {},
   "source": [
    "# Dense layers"
   ]
  },
  {
   "cell_type": "code",
   "execution_count": null,
   "metadata": {},
   "outputs": [],
   "source": [
    "#| export\n",
    "class Classifier(Module):\n",
    "    \"Dense classifier.\"\n",
    "    def __init__(self, dims, ps, final_act=False, yrange=None, trp=(2, 1)):\n",
    "        if len(ps) != len(dims)-1: \n",
    "            raise ValueError(f\"\"\"Number of layers {len(dims)} and dropout\n",
    "                                 values {len(ps)} don't match.\"\"\")\n",
    "        acts = [nn.ReLU(inplace=True)] * (len(dims) - 2) + [None]\n",
    "        layers = [LinBnDropTrp(i, o, p=p, act=a, trp=trp)\n",
    "                  for i,o,p,a in zip(dims[:-1], dims[1:], ps, acts)]\n",
    "        if final_act: layers.append(get_act(dims[-1], yrange=yrange))\n",
    "        self.layers = nn.Sequential(*layers)\n",
    "        \n",
    "    def forward(self, x): return self.layers(x)\n",
    "    \n",
    "class LinBnDropTrp(nn.Sequential):\n",
    "    \"Linear layer with batch norm, dropout and transposition.\"\n",
    "    def __init__(self, n_in, n_out, bn=True, p=0., trp=(2, 1), act=None, ndim=1):\n",
    "        layers = [BatchNorm(n_in, ndim=ndim)] if bn else []\n",
    "        if p!=0.: layers.append(nn.Dropout(p))\n",
    "        if trp: layers = [Transpose(trp)] + layers + [Transpose(trp)]\n",
    "        layers.append(nn.Linear(n_in, n_out, bias=not bn))\n",
    "        if act is not None: layers.append(act)\n",
    "        super().__init__(*layers)"
   ]
  },
  {
   "cell_type": "markdown",
   "metadata": {},
   "source": [
    "We use the `Classifier` at the end of most of our models. It is comprised of `LinBnDropTrp` layers that allow us to obtain the desired output dimension for any task. Furthermore, we can specify whether to apply a final activation function through `final_act`. In classification tasks with pytorch, where we use `CrossEntropyLoss` or fastai's `CrossEntropyLossFlat`, we do not want to apply the softmax activation function to the logits before passing them to the loss function. "
   ]
  },
  {
   "cell_type": "markdown",
   "metadata": {},
   "source": [
    "# Self-attention-based models\n",
    "\n",
    "Extracting pointwise properties of a sequence can be understood as a translation task. Thus, it is natural to tackle the problem using a transformer or other purely self-attention-based architectures. Here, we provide a full `Transformer` (encoder + decoder), and an encoder-only model `EncoderClassifier`.  "
   ]
  },
  {
   "cell_type": "code",
   "execution_count": null,
   "metadata": {},
   "outputs": [],
   "source": [
    "#| export\n",
    "class Transformer(nn.Module):\n",
    "    \"Transformer architecture.\"\n",
    "    def __init__(self, dim, n_class=5, nhead_enc=1, nhead_dec=1, num_encoder_layers=6,\n",
    "                 num_decoder_layers=6, dim_ff=2048, dropout=0.1, activation='relu'):\n",
    "        super(Transformer, self).__init__()\n",
    "        store_attr('dim,n_class')\n",
    "        encoder_layer = nn.TransformerEncoderLayer(dim, nhead_enc, dim_ff, dropout, activation)\n",
    "        encoder_norm = nn.LayerNorm(dim)\n",
    "        self.encoder = nn.TransformerEncoder(encoder_layer, num_encoder_layers, encoder_norm)\n",
    "        self.linear_enc_dec = nn.Linear(dim, n_class)\n",
    "        \n",
    "        decoder_layer = nn.TransformerDecoderLayer(n_class, nhead_dec, dim_ff, dropout, activation)\n",
    "        decoder_norm = nn.LayerNorm(n_class)\n",
    "        self.decoder = nn.TransformerDecoder(decoder_layer, num_decoder_layers, decoder_norm)\n",
    "        self.memory_norm = deepcopy(decoder_norm)\n",
    "        \n",
    "        self.generator = nn.Linear(n_class, n_class)\n",
    "        self.activation = nn.Softmax(dim=-1)\n",
    "        \n",
    "        self._reset_parameters()\n",
    "        \n",
    "    def forward(self, src, tgt, use_mask=True, src_mask=None, tgt_mask=None,\n",
    "                memory_mask=None, src_key_padding_mask=None, tgt_key_padding_mask=None,\n",
    "                memory_key_padding_mask=None):\n",
    "        \"`src` is the input to predict `tgt`.\"\n",
    "        src, tgt = [x.transpose(1, 0) for x in (src, tgt)]\n",
    "        if use_mask and tgt_mask is None: tgt_mask = self.get_square_subsequent_mask(tgt.shape[0])\n",
    "        memory = self.encoder(src, mask=src_mask, src_key_padding_mask=src_key_padding_mask)\n",
    "        memory = self.memory_norm(self.linear_enc_dec(memory)) # Our cheecky lil' trick\n",
    "        output = self.decoder(tgt, memory, tgt_mask=tgt_mask, memory_mask=memory_mask,\n",
    "                              tgt_key_padding_mask=tgt_key_padding_mask,\n",
    "                              memory_key_padding_mask=memory_key_padding_mask)\n",
    "        return self.generator(output).transpose(1, 0)\n",
    "    \n",
    "    def segment(self, x, n_class=5, y=None, length=None):\n",
    "        \"Segmentation of input `x` without target reference.\"\n",
    "        x = self._check_rank(x)\n",
    "        if length is None: bs, length, _ = x.shape\n",
    "        else:              bs = x.shape[0]\n",
    "        y = DEFAULT_TOKEN * torch.ones(bs, 1, self.n_class).type_as(x) if y is None else y\n",
    "        outs, preds = [], []\n",
    "        # Check preds shapes to stack them afterwards\n",
    "        for _ in range(length):\n",
    "            out = self.forward(x, y, use_mask=False)[:, -1].unsqueeze(1)\n",
    "            prob = self.activation(out)\n",
    "            pred = prob.argmax(-1)\n",
    "            next_y = torch.zeros(bs, n_class, device=x.device\n",
    "                                ).scatter_(-1, pred, 1).unsqueeze(1)\n",
    "            y = torch.cat([y, next_y], dim=1)\n",
    "            preds.append(pred); outs.append(out)\n",
    "        return torch.cat(preds, dim=1), y[:, 1:], torch.cat(outs, dim=1)\n",
    "        \n",
    "    def get_square_subsequent_mask(self, sz):\n",
    "        r\"\"\"Generate a square mask for the sequence. Masked positions are filled with\n",
    "            float('-inf'). Unmasked positions are filled with float(0.0).\"\"\"\n",
    "        mask = (torch.triu(torch.ones(sz, sz)) == 1).transpose(0, 1)\n",
    "        mask = mask.float().masked_fill(mask == False, float('-inf')).masked_fill(mask, float(0.))\n",
    "        return mask.to(default_device())\n",
    "    \n",
    "    def _check_rank(self, x):\n",
    "        \"Checks that input rank is correct.\"\n",
    "        rank = len(x.shape)\n",
    "        if   rank == 1: return x.unsqueeze(0).unsqueeze(-1)\n",
    "        elif rank == 2: return x.unsqueeze(0)\n",
    "        elif rank == 3: return x\n",
    "        else: raise ValueError(f\"Input should be rank 1, 2 or 3 tensor. Got rank {rank}.\")\n",
    "         \n",
    "    def _reset_parameters(self):\n",
    "        \"Initiate parameters in the transformer model.\"\n",
    "        for p in self.parameters():\n",
    "            if p.dim() > 1:\n",
    "                nn.init.xavier_uniform_(p)"
   ]
  },
  {
   "cell_type": "markdown",
   "metadata": {},
   "source": [
    "The `Transformer` implements a basic transformer architecture as introduced in [Attention is all you need](https://proceedings.neurips.cc/paper/2017/hash/3f5ee243547dee91fbd053c1c4a845aa-Abstract.html) from Vaswani, et. al., in 2017."
   ]
  },
  {
   "cell_type": "code",
   "execution_count": null,
   "metadata": {},
   "outputs": [],
   "source": [
    "#| hide\n",
    "from step.data import get_transformer_dls, MODEL_PATH"
   ]
  },
  {
   "cell_type": "markdown",
   "metadata": {},
   "source": [
    "Let's see an example of how to train a transformer to perform a segmentation task of the anomalous diffusion model in heterogeneous trajectories."
   ]
  },
  {
   "cell_type": "code",
   "execution_count": null,
   "metadata": {},
   "outputs": [],
   "source": [
    "# Data loaders\n",
    "tfm_dls = get_transformer_dls(bs=128)\n",
    "tfm_dls.device = default_device()\n",
    "# Model\n",
    "my_tf = Transformer(1, num_encoder_layers=4, num_decoder_layers=4, dim_ff=500)\n",
    "my_tf.to(default_device())\n",
    "# Learner\n",
    "learn = Learner(tfm_dls, my_tf, loss_func=CrossEntropyLossFlat(), model_dir=MODEL_PATH)"
   ]
  },
  {
   "cell_type": "code",
   "execution_count": null,
   "metadata": {},
   "outputs": [
    {
     "data": {
      "text/html": [
       "<table border=\"1\" class=\"dataframe\">\n",
       "  <thead>\n",
       "    <tr style=\"text-align: left;\">\n",
       "      <th>epoch</th>\n",
       "      <th>train_loss</th>\n",
       "      <th>valid_loss</th>\n",
       "      <th>time</th>\n",
       "    </tr>\n",
       "  </thead>\n",
       "  <tbody>\n",
       "    <tr>\n",
       "      <td>0</td>\n",
       "      <td>0.081026</td>\n",
       "      <td>0.063063</td>\n",
       "      <td>00:41</td>\n",
       "    </tr>\n",
       "    <tr>\n",
       "      <td>1</td>\n",
       "      <td>0.047181</td>\n",
       "      <td>0.045920</td>\n",
       "      <td>00:40</td>\n",
       "    </tr>\n",
       "    <tr>\n",
       "      <td>2</td>\n",
       "      <td>0.044656</td>\n",
       "      <td>0.043783</td>\n",
       "      <td>00:41</td>\n",
       "    </tr>\n",
       "    <tr>\n",
       "      <td>3</td>\n",
       "      <td>0.043903</td>\n",
       "      <td>0.043491</td>\n",
       "      <td>00:40</td>\n",
       "    </tr>\n",
       "    <tr>\n",
       "      <td>4</td>\n",
       "      <td>0.043756</td>\n",
       "      <td>0.043521</td>\n",
       "      <td>00:41</td>\n",
       "    </tr>\n",
       "    <tr>\n",
       "      <td>5</td>\n",
       "      <td>0.043616</td>\n",
       "      <td>0.043354</td>\n",
       "      <td>00:41</td>\n",
       "    </tr>\n",
       "    <tr>\n",
       "      <td>6</td>\n",
       "      <td>0.043514</td>\n",
       "      <td>0.043158</td>\n",
       "      <td>00:40</td>\n",
       "    </tr>\n",
       "    <tr>\n",
       "      <td>7</td>\n",
       "      <td>0.043429</td>\n",
       "      <td>0.043019</td>\n",
       "      <td>00:41</td>\n",
       "    </tr>\n",
       "    <tr>\n",
       "      <td>8</td>\n",
       "      <td>0.043339</td>\n",
       "      <td>0.043081</td>\n",
       "      <td>00:41</td>\n",
       "    </tr>\n",
       "    <tr>\n",
       "      <td>9</td>\n",
       "      <td>0.043207</td>\n",
       "      <td>0.042961</td>\n",
       "      <td>00:41</td>\n",
       "    </tr>\n",
       "    <tr>\n",
       "      <td>10</td>\n",
       "      <td>0.043100</td>\n",
       "      <td>0.042880</td>\n",
       "      <td>00:41</td>\n",
       "    </tr>\n",
       "    <tr>\n",
       "      <td>11</td>\n",
       "      <td>0.043028</td>\n",
       "      <td>0.042799</td>\n",
       "      <td>00:41</td>\n",
       "    </tr>\n",
       "    <tr>\n",
       "      <td>12</td>\n",
       "      <td>0.042846</td>\n",
       "      <td>0.042705</td>\n",
       "      <td>00:40</td>\n",
       "    </tr>\n",
       "    <tr>\n",
       "      <td>13</td>\n",
       "      <td>0.042833</td>\n",
       "      <td>0.042656</td>\n",
       "      <td>00:41</td>\n",
       "    </tr>\n",
       "    <tr>\n",
       "      <td>14</td>\n",
       "      <td>0.042852</td>\n",
       "      <td>0.042683</td>\n",
       "      <td>00:41</td>\n",
       "    </tr>\n",
       "  </tbody>\n",
       "</table>"
      ],
      "text/plain": [
       "<IPython.core.display.HTML object>"
      ]
     },
     "metadata": {},
     "output_type": "display_data"
    }
   ],
   "source": [
    "learn.fit_one_cycle(15, lr_max=1e-2)"
   ]
  },
  {
   "cell_type": "markdown",
   "metadata": {},
   "source": [
    "::: {.callout-warning}\n",
    "The task is particularly bad conditioned for a naive transformer training such as this one. The loss does get low, but it is mainly because the model learns to predict whatever the previous token was, so be careful!\n",
    ":::\n",
    "\n",
    "In these segmentation tasks over piecewise constant segments, the target may look like $[2,2,2,2,2,1,1,1,1,1]$. With such naive training scheme, the transformer learns to replicate whatever the last digit is and it fails to find the changepoints. Let's have a look at some predictions."
   ]
  },
  {
   "cell_type": "code",
   "execution_count": null,
   "metadata": {},
   "outputs": [],
   "source": [
    "x, y_one_hot, y = dls.one_batch()\n",
    "learn.model.eval()\n",
    "preds, pred_one_hot, outs = learn.model.segment(x)"
   ]
  },
  {
   "cell_type": "code",
   "execution_count": null,
   "metadata": {},
   "outputs": [
    {
     "data": {
      "text/plain": [
       "tensor([[4, 4, 4, 4, 4, 4, 4, 4, 4, 4],\n",
       "        [4, 4, 4, 4, 4, 4, 4, 4, 4, 4],\n",
       "        [4, 4, 4, 4, 4, 4, 4, 4, 4, 4],\n",
       "        [4, 4, 4, 4, 4, 4, 4, 4, 4, 4],\n",
       "        [4, 4, 4, 4, 4, 4, 4, 4, 4, 4],\n",
       "        [4, 4, 4, 4, 4, 4, 4, 4, 4, 4],\n",
       "        [4, 4, 4, 4, 4, 4, 4, 4, 4, 4],\n",
       "        [4, 4, 4, 4, 4, 4, 4, 4, 4, 4],\n",
       "        [4, 4, 4, 4, 4, 4, 4, 4, 4, 4],\n",
       "        [4, 4, 4, 4, 4, 4, 4, 4, 4, 4]], device='cuda:0')"
      ]
     },
     "execution_count": null,
     "metadata": {},
     "output_type": "execute_result"
    }
   ],
   "source": [
    "preds[:10, :10]"
   ]
  },
  {
   "cell_type": "code",
   "execution_count": null,
   "metadata": {},
   "outputs": [
    {
     "data": {
      "text/plain": [
       "tensor([[4, 4, 4, 4, 4, 4, 4, 4, 4, 4],\n",
       "        [0, 0, 0, 0, 0, 0, 0, 0, 0, 0],\n",
       "        [2, 2, 2, 2, 2, 2, 2, 2, 2, 2],\n",
       "        [3, 3, 3, 3, 3, 3, 3, 3, 3, 3],\n",
       "        [1, 1, 1, 1, 1, 1, 1, 1, 1, 1],\n",
       "        [2, 2, 2, 2, 2, 2, 2, 2, 2, 2],\n",
       "        [3, 3, 3, 3, 3, 3, 3, 3, 3, 3],\n",
       "        [0, 0, 0, 0, 0, 0, 0, 0, 0, 0],\n",
       "        [0, 0, 0, 0, 0, 0, 0, 0, 0, 0],\n",
       "        [4, 4, 4, 4, 4, 4, 4, 4, 4, 4]], device='cuda:0')"
      ]
     },
     "execution_count": null,
     "metadata": {},
     "output_type": "execute_result"
    }
   ],
   "source": [
    "y[:10, :10]"
   ]
  },
  {
   "cell_type": "markdown",
   "metadata": {},
   "source": [
    "The model has correctly predicted the label for the first segment: `4` corresponding to SBM. However, it has then proceeded to replicate the label over the whole trajectory. You'll need some extra tricks to train this :)"
   ]
  },
  {
   "cell_type": "code",
   "execution_count": null,
   "metadata": {},
   "outputs": [],
   "source": [
    "#| export\n",
    "class PositionalEncoding(Module):\n",
    "    def __init__(self, d_model, dropout=0.1, max_len=10000):\n",
    "        r\"Positional encoding of the form $sin(\\omega_k t), cos(\\omega_k t)$ with $\\omega_k=\\frac{1}{10000^{2k/d}} for even `d_model`.\"\n",
    "        super().__init__()\n",
    "        self.dropout = nn.Dropout(p=dropout)\n",
    "\n",
    "        position = torch.arange(max_len).unsqueeze(1)\n",
    "        omega = 1/(10000**(torch.arange(0, d_model, 2)/d_model)) # d_model must be even\n",
    "        pos_enc = torch.zeros(max_len, 1, d_model)\n",
    "        pos_enc[:, 0, 0::2] = torch.sin(omega*position)\n",
    "        pos_enc[:, 0, 1::2] = torch.cos(omega*position)\n",
    "#         self.pos_enc = pos_enc\n",
    "        self.register_buffer('pos_enc', pos_enc)\n",
    "\n",
    "    def forward(self, x):\n",
    "        \"Adds positional encoding to input `x` with shape [length, batch_size, d_model].\"\n",
    "        x = x + self.pos_enc[:x.size(0)]\n",
    "        return self.dropout(x)"
   ]
  },
  {
   "cell_type": "markdown",
   "metadata": {},
   "source": [
    "Transformers see the trajectories all at once without any notion of distance between the points. Here, we implement a positional encoding based on the addition of sines and cosines to the data, as introduced in [the original paper](https://proceedings.neurips.cc/paper/2017/file/3f5ee243547dee91fbd053c1c4a845aa-Paper.pdf)."
   ]
  },
  {
   "cell_type": "code",
   "execution_count": null,
   "metadata": {},
   "outputs": [],
   "source": [
    "pe = PositionalEncoding(14, max_len=100)\n",
    "pos_enc = pe.pos_enc.squeeze()"
   ]
  },
  {
   "cell_type": "code",
   "execution_count": null,
   "metadata": {},
   "outputs": [
    {
     "data": {
      "image/png": "[encoded data removed]",
      "text/plain": [
       "<Figure size 1008x576 with 2 Axes>"
      ]
     },
     "metadata": {
      "needs_background": "light"
     },
     "output_type": "display_data"
    }
   ],
   "source": [
    "#| code-fold: true\n",
    "fontsize, ticksize = 20, 15\n",
    "fig, axes = plt.subplots(2, sharex=True, figsize=(14, 8))\n",
    "for sin, cos in zip(pos_enc.T[::2], pos_enc.T[1::2]):\n",
    "    axes[0].plot(sin)\n",
    "    axes[1].plot(cos)\n",
    "\n",
    "axes[1].set_xlabel(\"Position\", fontsize=fontsize)\n",
    "axes[0].set_ylabel(\"sin activation\", fontsize=fontsize)\n",
    "axes[1].set_ylabel(\"cos activation\", fontsize=fontsize)\n",
    "for ax in axes:\n",
    "    ax.grid()\n",
    "    ax.tick_params(labelsize=ticksize)"
   ]
  },
  {
   "cell_type": "code",
   "execution_count": null,
   "metadata": {},
   "outputs": [],
   "source": [
    "#| export\n",
    "class EncoderClassifier(Module):\n",
    "    \"Transformer encoder with a linear classifier.\"\n",
    "    @delegates(Classifier.__init__)\n",
    "    def __init__(self, dim, length=200, n_class=5, nhead_enc=1, num_encoder_layers=6,\n",
    "                 dim_ff=2048, dropout=0.1, activation='relu', linear_layers=[1024],\n",
    "                 ps=None, yrange=(0, 2.05), **kwargs):\n",
    "        super(EncoderClassifier, self).__init__()\n",
    "        store_attr('dim,n_class')\n",
    "        self.norm = Normalization(1)\n",
    "        self.encoder = tfm_encoder(dim, nhead_enc, num_encoder_layers,\n",
    "                                   dim_ff, dropout, activation)\n",
    "#         self.concat_pool = ConcatPooling()\n",
    "        lin_dim = [2*length] + linear_layers + [n_class]\n",
    "        if ps is None: ps = [dropout]*(len(linear_layers)+1)\n",
    "        self.linear = Classifier(lin_dim, ps, **kwargs)\n",
    "        self.act, self.activation = _get_acts(n_class, yrange)\n",
    "        \n",
    "        self._reset_parameters()\n",
    "        \n",
    "    def forward(self, x, use_mask=False, src_mask=None, src_key_padding_mask=None):\n",
    "        \"to ease the integration with fastai.\"\n",
    "        src = x.transpose(1, 0)\n",
    "        if use_mask and src_mask is None: src_mask = self.get_random_mask(src.shape[0])\n",
    "        out_enc = self.encoder(src, mask=src_mask, src_key_padding_mask=src_key_padding_mask)\n",
    "#         pool_out_enc = self.concat_pool(out_enc.transpose(1, 0))\n",
    "        return self.act(self.linear(out_enc.transpose(1, 0)))\n",
    "    \n",
    "    def get_random_mask(self, sz, pct=0.15):\n",
    "        \"Returns random mask with `pct` probability of dropping every input.\"\n",
    "        mask = torch.rand(sz, sz) >= pct\n",
    "        mask = mask.float().masked_fill(mask == False, float('-inf')).masked_fill(mask, float(0.))\n",
    "        return mask.to(default_device())\n",
    "        \n",
    "    def _reset_parameters(self):\n",
    "        \"Initiate parameters in the transformer model.\"\n",
    "        for p in self.parameters():\n",
    "            if p.dim() > 1:\n",
    "                nn.init.xavier_uniform_(p)"
   ]
  },
  {
   "cell_type": "code",
   "execution_count": null,
   "metadata": {},
   "outputs": [],
   "source": [
    "#| hide\n",
    "from step.data import get_segmentation_dls"
   ]
  },
  {
   "cell_type": "code",
   "execution_count": null,
   "metadata": {},
   "outputs": [],
   "source": [
    "dls = get_segmentation_dls()\n",
    "dls.device = default_device()\n",
    "enc = EncoderClassifier(1, num_encoder_layers=12, dim_ff=1024)\n",
    "enc.to(default_device())\n",
    "learn = Learner(dls, enc, loss_func=CrossEntropyLossFlat(), model_dir=MODEL_PATH)"
   ]
  },
  {
   "cell_type": "code",
   "execution_count": null,
   "metadata": {},
   "outputs": [
    {
     "data": {
      "text/html": [
       "<table border=\"1\" class=\"dataframe\">\n",
       "  <thead>\n",
       "    <tr style=\"text-align: left;\">\n",
       "      <th>epoch</th>\n",
       "      <th>train_loss</th>\n",
       "      <th>valid_loss</th>\n",
       "      <th>time</th>\n",
       "    </tr>\n",
       "  </thead>\n",
       "  <tbody>\n",
       "    <tr>\n",
       "      <td>0</td>\n",
       "      <td>1.611631</td>\n",
       "      <td>1.609615</td>\n",
       "      <td>00:58</td>\n",
       "    </tr>\n",
       "    <tr>\n",
       "      <td>1</td>\n",
       "      <td>1.611847</td>\n",
       "      <td>1.613333</td>\n",
       "      <td>00:58</td>\n",
       "    </tr>\n",
       "    <tr>\n",
       "      <td>2</td>\n",
       "      <td>1.611033</td>\n",
       "      <td>1.609803</td>\n",
       "      <td>00:59</td>\n",
       "    </tr>\n",
       "    <tr>\n",
       "      <td>3</td>\n",
       "      <td>1.609777</td>\n",
       "      <td>1.609575</td>\n",
       "      <td>00:59</td>\n",
       "    </tr>\n",
       "    <tr>\n",
       "      <td>4</td>\n",
       "      <td>1.609749</td>\n",
       "      <td>1.609633</td>\n",
       "      <td>01:00</td>\n",
       "    </tr>\n",
       "  </tbody>\n",
       "</table>"
      ],
      "text/plain": [
       "<IPython.core.display.HTML object>"
      ]
     },
     "metadata": {},
     "output_type": "display_data"
    }
   ],
   "source": [
    "learn.fit_one_cycle(5, lr_max=1e-1)"
   ]
  },
  {
   "cell_type": "markdown",
   "metadata": {},
   "source": [
    "# Combined convolutional and self-attention models\n",
    "\n",
    "Convolutional models have seen great success characterizing diffusion trajectories, specially combined with recurrent neural networks, as seen in the [AnDi challenge paper](https://www.nature.com/articles/s41467-021-26320-w). We provide a few models that combine convolutional feature extractors with self-attention mechanisms."
   ]
  },
  {
   "cell_type": "code",
   "execution_count": null,
   "metadata": {},
   "outputs": [],
   "source": [
    "#| export\n",
    "class ConvAttn(Module):\n",
    "    \"Convolution layers with a transformer encoder.\"\n",
    "    def __init__(self, dim, n_class=5, conv_dims=[64, 128, 128], nhead_enc=1, num_encoder_layers=6, \n",
    "                 dim_ff=2048, dropout=0.1, linear_layers=[128], activation='relu', yrange=(0, 2.05)):\n",
    "        store_attr('dim,n_class')\n",
    "        self.norm = Normalization(1)\n",
    "        conv_dims = [dim] + conv_dims\n",
    "        conv_layers = [ConvLayer(ni, nf, ndim=1) for ni, nf in zip(conv_dims[:-1],conv_dims[1:])]\n",
    "        self.convs = nn.Sequential(*conv_layers)\n",
    "        self.encoder = tfm_encoder(conv_dims[-1], nhead_enc, num_encoder_layers, dim_ff, dropout, activation)\n",
    "        linear_layers = [conv_dims[-1]] + linear_layers + [n_class]\n",
    "        ps = [dropout]*(len(linear_layers)-1)\n",
    "        self.linear = Classifier(linear_layers, ps, trp=(2, 1))\n",
    "        # act is called in forward, activation is called in validation functions.\n",
    "        self.act, self.activation = _get_acts(n_class, yrange)\n",
    "        \n",
    "    def forward(self, x, use_mask=False, src_mask=None, src_key_padding_mask=None):\n",
    "        x = self.norm(x)\n",
    "        x = self.convs(x.transpose(2, 1)).transpose(2, 1)\n",
    "        src = x.transpose(1, 0)\n",
    "        if use_mask and src_mask is None: src_mask = self.get_random_mask(src.shape[0])\n",
    "        out_enc = self.encoder(src, mask=src_mask, src_key_padding_mask=src_key_padding_mask)\n",
    "        return self.act(self.linear(out_enc.transpose(1, 0)))\n",
    "    \n",
    "    def _reset_parameters(self):\n",
    "        \"Initiate parameters in the transformer model.\"\n",
    "        for p in self.parameters():\n",
    "            if p.dim() > 1:\n",
    "                nn.init.xavier_uniform_(p)  "
   ]
  },
  {
   "cell_type": "markdown",
   "metadata": {},
   "source": [
    "`ConvAttn` is built out of basic convolutional layers that act as an embedding for a transformer encoder. There is a dense `Classifier` at the end that achieves the desired output dimensions. "
   ]
  },
  {
   "cell_type": "code",
   "execution_count": null,
   "metadata": {},
   "outputs": [],
   "source": [
    "#| hide\n",
    "from step.data import get_segmentation_dls, MODEL_PATH"
   ]
  },
  {
   "cell_type": "markdown",
   "metadata": {},
   "source": [
    "Performing a diffusion model segmentation task is the most straightforward, simply specify the trajectory dimension, which defaults to `dim=1` in the dataloaders and provide the appropiate loss function `CrossEntropyLossFlat`. "
   ]
  },
  {
   "cell_type": "code",
   "execution_count": null,
   "metadata": {},
   "outputs": [],
   "source": [
    "dls = get_segmentation_dls()\n",
    "dls.device = default_device()\n",
    "model = ConvAttn(2, conv_dims=[64, 128, 128], num_encoder_layers=8, dim_ff=512, nhead_enc=8, linear_layers=[])\n",
    "model.to(default_device())\n",
    "learn = Learner(dls, model, loss_func=CrossEntropyLossFlat(), model_dir=MODEL_PATH)"
   ]
  },
  {
   "cell_type": "markdown",
   "metadata": {},
   "source": [
    "For anomalous exponent segmentation, we must specify the target `target='y_exp'` as well as provide the corresponding loss function, either `L1LossFlat` or `MSELossFlat`. Don't forget to provide the model with the proper number of classes `n_class=1`."
   ]
  },
  {
   "cell_type": "code",
   "execution_count": null,
   "metadata": {},
   "outputs": [],
   "source": [
    "dls = get_segmentation_dls(target='y_exp')\n",
    "dls.device = default_device()\n",
    "model = ConvAttn(1, n_class=1, conv_dims=[32, 64, 128, 256], num_encoder_layers=8, dim_ff=512, nhead_enc=8, linear_layers=[])\n",
    "model.to(default_device())\n",
    "learn = Learner(dls, model, loss_func=L1LossFlat(), model_dir=MODEL_PATH)"
   ]
  },
  {
   "cell_type": "markdown",
   "metadata": {},
   "source": [
    "To train, we simply call `learn.fit_one_cycle`."
   ]
  },
  {
   "cell_type": "code",
   "execution_count": null,
   "metadata": {},
   "outputs": [],
   "source": [
    "#| export\n",
    "class XResBlocks(nn.Sequential):\n",
    "    \"XResNet block.\"\n",
    "    @delegates(ResBlock)\n",
    "    def __init__(self, block, layers, expansion=1, p=0.0, c_in=1, n_out=1000, stem_szs=(32,32,64),\n",
    "                 block_szs=None, widen=1.0, ndim=1, ks=3, stride=2, sa=False, stem_stride=False,\n",
    "                 act_cls=defaults.activation, **kwargs):\n",
    "        store_attr('block,expansion,act_cls,ndim,ks')\n",
    "        if ks % 2 == 0: raise Exception(f'Kernel size has to be odd! Input ks={ks}.')\n",
    "        stem_szs = [c_in, *stem_szs]\n",
    "        stem = [ConvLayer(stem_szs[i], stem_szs[i+1], ks=ks, stride=stride if (i==0 and stem_stride) else 1,\n",
    "                          act_cls=act_cls, ndim=ndim) for i in range(len(stem_szs)-1)]\n",
    "        if len(stem) > 1: stem += [MaxPool(ks=ks, stride=stride, padding=ks//2, ndim=ndim)]\n",
    "        n_layers = len(layers)\n",
    "        block_szs = [128, 256, 512] + [256]*(n_layers-4) if block_szs is None else block_szs\n",
    "        block_szs = [int(o*widen) for o in block_szs[:n_layers]]\n",
    "        block_szs = [stem_szs[-1]//expansion] + block_szs\n",
    "        blocks    = self._make_blocks(layers, block_szs, sa, stride, **kwargs)\n",
    "        \n",
    "        super().__init__(*stem, *blocks)\n",
    "        init_cnn(self)\n",
    "        \n",
    "    def _make_blocks(self, layers, block_szs, sa, stride, **kwargs):\n",
    "        return [self._make_layer(ni=block_szs[i], nf=block_szs[i+1], blocks=l,\n",
    "                                 stride=1 if i==0 else stride, sa=sa and i==len(layers)-4, **kwargs)\n",
    "                for i,l in enumerate(layers)]\n",
    "\n",
    "    def _make_layer(self, ni, nf, blocks, stride, sa, **kwargs):\n",
    "        return nn.Sequential(\n",
    "            *[self.block(self.expansion, ni if i==0 else nf, nf, stride=stride if i==0 else 1,\n",
    "                      sa=sa and i==(blocks-1), act_cls=self.act_cls, ndim=self.ndim, ks=self.ks, **kwargs)\n",
    "              for i in range(blocks)])"
   ]
  },
  {
   "cell_type": "markdown",
   "metadata": {},
   "source": [
    "`XResBlocks` follow the [XResNet architecture](https://openaccess.thecvf.com/content_CVPR_2019/html/He_Bag_of_Tricks_for_Image_Classification_with_Convolutional_Neural_Networks_CVPR_2019_paper.html) to build a convolutional neural network feature extractor.\n",
    "\n",
    "The blocks start with an initial purely-convolutional stem. Then, every subsequent block consists of two convolutional layers with a skip connection or identity path. The identity paths have a single convolutional layer with kernel size 1 to match the channel dimension of their corresponding convolutional paths. "
   ]
  },
  {
   "cell_type": "code",
   "execution_count": null,
   "metadata": {},
   "outputs": [],
   "source": [
    "#| export\n",
    "@delegates(XResBlocks.__init__)\n",
    "class XResAttn(Module):\n",
    "    \"Xresnet blocks with attention at the end.\"\n",
    "    def __init__(self, dim, n_class=5, conv_blocks=[1, 1], block=ResBlock, block_szs=[64, 128],\n",
    "                 nhead_enc=1, n_encoder_layers=6, dim_ff=2048, dropout=0.1, pos_enc=True, \n",
    "                 linear_layers=[128], activation='relu', norm=True, yrange=(0, 2.05), **kwargs):\n",
    "        store_attr('dim,n_class')\n",
    "        self.norm = Normalization(1) if norm else noop\n",
    "        self.convs = XResBlocks(block, conv_blocks, c_in=dim, block_szs=block_szs, stride=1, **kwargs)\n",
    "        self.encoder = tfm_encoder(block_szs[-1], nhead_enc, n_encoder_layers, dim_ff, dropout, activation)\n",
    "        self.pos_enc = PositionalEncoding(block_szs[-1]) if pos_enc else noop\n",
    "        linear_layers = [block_szs[-1]] + linear_layers + [n_class]\n",
    "        ps = [dropout]*(len(linear_layers)-1)\n",
    "        self.linear = Classifier(linear_layers, ps, trp=(2, 1))\n",
    "        # act is called in forward, activation is called in validation functions.\n",
    "        self.act, self.activation = _get_acts(n_class, yrange)\n",
    "        \n",
    "    def forward(self, x, use_mask=False, src_mask=None, src_key_padding_mask=None):\n",
    "        x = self.norm(x)\n",
    "        x = self.convs(x.transpose(2, 1)).transpose(2, 1)\n",
    "        src = self.pos_enc(x.transpose(1, 0))\n",
    "        if use_mask and src_mask is None: src_mask = self.get_random_mask(src.shape[0])\n",
    "        out_enc = self.encoder(src, mask=src_mask, src_key_padding_mask=src_key_padding_mask)\n",
    "        return self.act(self.linear(out_enc.transpose(1, 0)))\n",
    "    \n",
    "    def _reset_parameters(self):\n",
    "        \"Initiate parameters in the transformer model.\"\n",
    "        for p in self.parameters():\n",
    "            if p.dim() > 1:\n",
    "                nn.init.xavier_uniform_(p)"
   ]
  },
  {
   "cell_type": "markdown",
   "metadata": {},
   "source": [
    "`XResAttn` is an evolution of `ConvAttn` in which we replace the basic convolutional layer by `XResBlocks`."
   ]
  },
  {
   "cell_type": "code",
   "execution_count": null,
   "metadata": {},
   "outputs": [],
   "source": [
    "dim = 2\n",
    "dls = get_segmentation_dls(dim=dim, target='y_exp', size=10000)\n",
    "dls.device = default_device()\n",
    "model = XResAttn(dim, n_class=1, stem_szs=(32,), conv_blocks=[1, 1], block_szs=[64, 128], \n",
    "                 n_encoder_layers=6, dim_ff=512, nhead_enc=8, linear_layers=[])\n",
    "model.to(default_device())\n",
    "learn = Learner(dls, model, loss_func=L1LossFlat(), model_dir=MODEL_PATH)"
   ]
  },
  {
   "cell_type": "code",
   "execution_count": null,
   "metadata": {},
   "outputs": [
    {
     "data": {
      "text/html": [
       "<table border=\"1\" class=\"dataframe\">\n",
       "  <thead>\n",
       "    <tr style=\"text-align: left;\">\n",
       "      <th>epoch</th>\n",
       "      <th>train_loss</th>\n",
       "      <th>valid_loss</th>\n",
       "      <th>time</th>\n",
       "    </tr>\n",
       "  </thead>\n",
       "  <tbody>\n",
       "    <tr>\n",
       "      <td>0</td>\n",
       "      <td>0.351831</td>\n",
       "      <td>0.341731</td>\n",
       "      <td>05:52</td>\n",
       "    </tr>\n",
       "    <tr>\n",
       "      <td>1</td>\n",
       "      <td>0.317376</td>\n",
       "      <td>0.313373</td>\n",
       "      <td>05:53</td>\n",
       "    </tr>\n",
       "    <tr>\n",
       "      <td>2</td>\n",
       "      <td>0.296154</td>\n",
       "      <td>0.291456</td>\n",
       "      <td>05:53</td>\n",
       "    </tr>\n",
       "    <tr>\n",
       "      <td>3</td>\n",
       "      <td>0.276105</td>\n",
       "      <td>0.274482</td>\n",
       "      <td>05:53</td>\n",
       "    </tr>\n",
       "    <tr>\n",
       "      <td>4</td>\n",
       "      <td>0.265737</td>\n",
       "      <td>0.263980</td>\n",
       "      <td>05:53</td>\n",
       "    </tr>\n",
       "    <tr>\n",
       "      <td>5</td>\n",
       "      <td>0.256997</td>\n",
       "      <td>0.253854</td>\n",
       "      <td>05:53</td>\n",
       "    </tr>\n",
       "    <tr>\n",
       "      <td>6</td>\n",
       "      <td>0.245702</td>\n",
       "      <td>0.243755</td>\n",
       "      <td>05:53</td>\n",
       "    </tr>\n",
       "    <tr>\n",
       "      <td>7</td>\n",
       "      <td>0.243005</td>\n",
       "      <td>0.237430</td>\n",
       "      <td>05:53</td>\n",
       "    </tr>\n",
       "    <tr>\n",
       "      <td>8</td>\n",
       "      <td>0.235679</td>\n",
       "      <td>0.235492</td>\n",
       "      <td>05:53</td>\n",
       "    </tr>\n",
       "    <tr>\n",
       "      <td>9</td>\n",
       "      <td>0.231861</td>\n",
       "      <td>0.231436</td>\n",
       "      <td>05:53</td>\n",
       "    </tr>\n",
       "    <tr>\n",
       "      <td>10</td>\n",
       "      <td>0.231640</td>\n",
       "      <td>0.229545</td>\n",
       "      <td>05:53</td>\n",
       "    </tr>\n",
       "    <tr>\n",
       "      <td>11</td>\n",
       "      <td>0.225968</td>\n",
       "      <td>0.227001</td>\n",
       "      <td>05:53</td>\n",
       "    </tr>\n",
       "    <tr>\n",
       "      <td>12</td>\n",
       "      <td>0.223144</td>\n",
       "      <td>0.226924</td>\n",
       "      <td>05:54</td>\n",
       "    </tr>\n",
       "    <tr>\n",
       "      <td>13</td>\n",
       "      <td>0.223188</td>\n",
       "      <td>0.226133</td>\n",
       "      <td>05:54</td>\n",
       "    </tr>\n",
       "    <tr>\n",
       "      <td>14</td>\n",
       "      <td>0.219965</td>\n",
       "      <td>0.225446</td>\n",
       "      <td>05:53</td>\n",
       "    </tr>\n",
       "  </tbody>\n",
       "</table>"
      ],
      "text/plain": [
       "<IPython.core.display.HTML object>"
      ]
     },
     "metadata": {},
     "output_type": "display_data"
    }
   ],
   "source": [
    "learn.fit_one_cycle(15, lr_max=2e-4)"
   ]
  },
  {
   "cell_type": "markdown",
   "metadata": {},
   "source": [
    "## U-net\n",
    "\n",
    "[U-nets](https://link.springer.com/chapter/10.1007/978-3-319-24574-4_28) were originally conceived to perform image segmentation. Therefore, they are particularly well-suited for the trajectory segmentation task.\n",
    "\n",
    "We provide a dynamic U-net that takes the backbone of a model and transforms it into the U-like architecture."
   ]
  },
  {
   "cell_type": "code",
   "execution_count": null,
   "metadata": {},
   "outputs": [],
   "source": [
    "#| export\n",
    "class GeneralPixleShuffle(Module):\n",
    "    \"Generalized Pixle Shuffle to work with any data dimensionality.\"\n",
    "    def __init__(self, upscale_factor): self.scale = upscale_factor\n",
    "    def forward(self, x):\n",
    "        in_size = list(x.size())\n",
    "        dim = len(in_size) - 2\n",
    "        in_size[1] //= (self.scale**dim)\n",
    "        out_size = [dim*self.scale for dim in in_size[2:]]\n",
    "        in_view = x.contiguous().view(*in_size[:2], *(([self.scale]*dim) + in_size[2:]))\n",
    "        idx = list(range(2, 2+2*dim))\n",
    "        idx = idx[1::2] + idx[0::2]\n",
    "        shuffle_out = (in_view.permute(0, 1, *(idx[::-1])).contiguous() if dim > 1 else\n",
    "                       in_view.permute(0, 1, *idx).contiguous())                    \n",
    "        return shuffle_out.view(*in_size[:2], *out_size)\n",
    "        \n",
    "def icnr_init_general(x, scale=2, init=nn.init.kaiming_normal_):\n",
    "    \"Generalized version of `icnr_init`.\"\n",
    "    ni, nf, *shape = x.shape\n",
    "    ni2 = int(ni/scale**len(shape))\n",
    "    k = init(x.new_zeros([ni2, nf, *shape])).transpose(0, 1)\n",
    "    k = k.contiguous().view(ni2, nf, -1)\n",
    "    k = k.repeat(1, 1, scale**len(shape))\n",
    "    return k.contiguous().view([nf, ni, *shape]).transpose(0, 1)"
   ]
  },
  {
   "cell_type": "code",
   "execution_count": null,
   "metadata": {},
   "outputs": [],
   "source": [
    "#| export\n",
    "class PixelShuffleUpsampling(nn.Sequential):\n",
    "    \"Updample by `scale` from `ni` filters to `nf` using `GeneralPixleShuffle`.\"\n",
    "    def __init__(self, ni, nf=None, scale=2, ndim=2, blur=False,\n",
    "                 norm_type=NormType.Weight, act_cls=defaults.activation):\n",
    "        super().__init__()\n",
    "        nf = ifnone(nf, ni)\n",
    "        layers = [ConvLayer(ni, nf*(scale**ndim), ks=1, ndim=ndim, norm_type=norm_type,\n",
    "                            act_cls=act_cls, bias_std=0),\n",
    "                  GeneralPixleShuffle(scale)]\n",
    "        layers[0][0].weight.data.copy_(icnr_init_general(layers[0][0].weight.data))\n",
    "        if blur:\n",
    "            pad = getattr(nn, f\"ReplicationPad{int(ndim)}d\")\n",
    "            avg_pool = getattr(nn, f\"AvgPool{int(ndim)}d\")\n",
    "            layers += [pad((1, 0)*ndim), avg_pool(2, stride=1)]\n",
    "        super().__init__(*layers)"
   ]
  },
  {
   "cell_type": "code",
   "execution_count": null,
   "metadata": {},
   "outputs": [],
   "source": [
    "#| export\n",
    "class UnetBlock(Module):\n",
    "    \"A quasi-UNet block using pixel shuffle upsampling.\"\n",
    "    @delegates(ConvLayer.__init__)\n",
    "    def __init__(self, up_in_c, x_in_c, hook, ndim=1, final_div=True, blur=False,\n",
    "                 act_cls=defaults.activation, self_attention=False, init=nn.init.kaiming_normal_,\n",
    "                 norm_type=None, **kwargs):\n",
    "        self.dim = ndim\n",
    "        self.hook = hook\n",
    "        self.shuf = PixelShuffleUpsampling(up_in_c, up_in_c//2, ndim=ndim, blur=blur,\n",
    "                                           act_cls=act_cls, norm_type=norm_type)\n",
    "        self.bn = BatchNorm(x_in_c, ndim=ndim)\n",
    "        ni = up_in_c//2 + x_in_c\n",
    "        nf = ni if final_div else ni//2\n",
    "        # Beware: using attention like this improved results in initial tests check whether it needs a transpose\n",
    "#         self.attn = tfm_encoder(ni, n_head=1, n_layers=2, dim_ff=ni, dropout=0.1, activation='relu')\n",
    "        self.conv1 = ConvLayer(ni, nf, ndim=ndim, act_cls=act_cls, norm_type=norm_type, **kwargs)\n",
    "        self.conv2 = ConvLayer(nf, nf, ndim=ndim, act_cls=act_cls, norm_type=norm_type,\n",
    "                               xtra=SelfAttention(nf) if self_attention else None, **kwargs)\n",
    "        self.relu = act_cls()\n",
    "        apply_init(nn.Sequential(self.conv1, self.conv2), init) # Add attention here accordingly\n",
    "\n",
    "    def forward(self, up_in):\n",
    "        s = self.hook.stored\n",
    "        up_out = self.shuf(up_in)\n",
    "        ssh = s.shape[-self.dim:]\n",
    "        if ssh != up_out.shape[-self.dim:]:\n",
    "            up_out = F.interpolate(up_out, s.shape[-self.dim:], mode='nearest')\n",
    "        cat_x = self.relu(torch.cat([up_out, self.bn(s)], dim=1))\n",
    "        return self.conv2(self.conv1(cat_x))"
   ]
  },
  {
   "cell_type": "markdown",
   "metadata": {},
   "source": [
    "A key element of the U-net is the upsmapling branch. We do it by stacking `UnetBlock`s that perform convolution-based upsampling with pixel shuffle. We implement a `PixelShuffleUpsampling` layer that uses our `GeneralPixleShuffle`, which is a generalized version of the [original pixel shuffle](https://www.cv-foundation.org/openaccess/content_cvpr_2016/html/Shi_Real-Time_Single_Image_CVPR_2016_paper.html).\n",
    "\n",
    "To build the downsampling branch, we take the desired architecture and we pass a dummy input through it to extract relevant information, such as the points at which dimensions change, which then need to be connected to the upsampling branch. "
   ]
  },
  {
   "cell_type": "code",
   "execution_count": null,
   "metadata": {},
   "outputs": [],
   "source": [
    "#| export\n",
    "def get_sz_change_idxs(sizes):\n",
    "    \"Get the indexes of the layers where the size of the activation changes.\"\n",
    "    feature_szs = [size[-1] for size in sizes]\n",
    "    sz_chg_idxs = list(np.where(np.array(feature_szs[:-1]) != np.array(feature_szs[1:]))[0])\n",
    "    return sz_chg_idxs\n",
    "\n",
    "def model_sizes(m, size=(64,64)):\n",
    "    \"Pass a dummy input through the model `m` to get the various sizes of activations.\"\n",
    "    with hook_outputs(m) as hooks:\n",
    "        _ = dummy_eval(m, size=size)\n",
    "        return [o.stored.shape for o in hooks]\n",
    "\n",
    "def in_channels(m):\n",
    "    \"Return the shape of the first weight layer in `m `.\"\n",
    "    for l in flatten_model(m):\n",
    "        if getattr(l, 'weight', None) is not None and l.weight.ndim>=3: #conv1d or 2d\n",
    "            return l.weight.shape[1]\n",
    "    raise Exception('No weight layer')\n",
    "    \n",
    "def dummy_eval(m, size=(64,64)):\n",
    "    \"Evaluate `m` on a dummy input of a certain `size`\"\n",
    "    ch_in = in_channels(m)\n",
    "    x = one_param(m).new(1, ch_in, *size).requires_grad_(False).uniform_(-1.,1.)\n",
    "    with torch.no_grad(): return m.eval()(x)"
   ]
  },
  {
   "cell_type": "code",
   "execution_count": null,
   "metadata": {},
   "outputs": [],
   "source": [
    "#| export\n",
    "class ResizeToOrig(Module):\n",
    "    \"Merge a shortcut with the module result by adding or concatenating them if `dense=True`.\"\n",
    "    def __init__(self, mode='nearest'): self.mode = mode\n",
    "    def forward(self, x):\n",
    "        dim = len(x.shape) - 2\n",
    "        if x.orig.shape[-dim:] != x.shape[-dim:]:\n",
    "            x = F.interpolate(x, x.orig.shape[-dim:], mode=self.mode)\n",
    "        return x"
   ]
  },
  {
   "cell_type": "code",
   "execution_count": null,
   "metadata": {},
   "outputs": [],
   "source": [
    "#| export\n",
    "\n",
    "class AttnDynamicUnet(SequentialEx):\n",
    "    \"Create a U-Net from a given architecture.\"\n",
    "    def __init__(self, encoder, n_out, img_size, ndim=1, num_encoder_layers=6, nhead_enc=8, \n",
    "                 dim_ff=1024, p=0.1, act='relu', blur=False, blur_final=True, self_attention=False,\n",
    "                 y_range=None, last_cross=True, bottle=False, act_cls=defaults.activation,\n",
    "                 init=nn.init.kaiming_normal_, norm_type=None, **kwargs):\n",
    "        imsize = img_size\n",
    "        sizes = model_sizes(encoder, size=imsize)\n",
    "        sz_chg_idxs = list(reversed(get_sz_change_idxs(sizes)))\n",
    "        self.sfs = hook_outputs([encoder[i] for i in sz_chg_idxs], detach=False)\n",
    "        x = dummy_eval(encoder, imsize).detach()\n",
    "\n",
    "        ni = sizes[-1][1]\n",
    "        middle_conv = nn.Sequential(ConvLayer(ni, ni*2, act_cls=act_cls, norm_type=norm_type,\n",
    "                                              ndim=ndim, **kwargs),\n",
    "                                    ConvLayer(ni*2, ni, act_cls=act_cls, norm_type=norm_type,\n",
    "                                              ndim=ndim, **kwargs)).eval()\n",
    "        x = middle_conv(x)\n",
    "\n",
    "        tfm_enc = tfm_encoder(ni, nhead_enc, num_encoder_layers, dim_ff, p, act)\n",
    "        transp = Transpose((2, 1))\n",
    "        x = transp(tfm_enc(transp(x)))\n",
    "        \n",
    "        layers = [encoder, BatchNorm(ni, ndim=ndim), nn.ReLU(),\n",
    "                  middle_conv, transp, tfm_enc, transp]\n",
    "\n",
    "        for i,idx in enumerate(sz_chg_idxs):\n",
    "            not_final = i!=len(sz_chg_idxs)-1\n",
    "            up_in_c, x_in_c = int(x.shape[1]), int(sizes[idx][1])\n",
    "            do_blur = blur and (not_final or blur_final)\n",
    "            sa = self_attention and (i==len(sz_chg_idxs)-3)\n",
    "            unet_block = UnetBlock(up_in_c, x_in_c, self.sfs[i], ndim=ndim, final_div=not_final,\n",
    "                                   blur=do_blur, self_attention=sa, act_cls=act_cls, init=init,\n",
    "                                   norm_type=norm_type, **kwargs).eval()\n",
    "            layers.append(unet_block)\n",
    "            x = unet_block(x)\n",
    "\n",
    "        ni = x.shape[1]\n",
    "        if imsize != sizes[0][-ndim:]:\n",
    "            layers.append(PixelShuffleUpsampling(ni, ndim=ndim, act_cls=act_cls,\n",
    "                                                 norm_type=norm_type))\n",
    "        layers.append(ResizeToOrig())\n",
    "        if last_cross:\n",
    "            layers.append(MergeLayer(dense=True))\n",
    "            ni += in_channels(encoder)\n",
    "            layers.append(ResBlock(1, ni, ni//2 if bottle else ni, act_cls=act_cls,\n",
    "                                   norm_type=norm_type, ndim=ndim, **kwargs))\n",
    "        layers += [ConvLayer(ni, n_out, ks=1, act_cls=None, norm_type=norm_type,\n",
    "                             ndim=ndim, **kwargs)]\n",
    "        apply_init(nn.Sequential(layers[3], layers[-2]), init)\n",
    "        if y_range is not None: layers.append(SigmoidRange(*y_range))\n",
    "        super().__init__(*layers)\n",
    "\n",
    "    def __del__(self):\n",
    "        if hasattr(self, \"sfs\"): self.sfs.remove()"
   ]
  },
  {
   "cell_type": "markdown",
   "metadata": {},
   "source": [
    "`AttnDynamicUnet` builds a U-net like architecture from a given architecture (`encoder`). The input encoder conforms the downsampling branch, then, we add a convolution and a transformer encoder at the center (bottom of the U), and build the upsampling branch with `UnetBlock`s that have skip connections wherever the dimension in the encoder changes."
   ]
  },
  {
   "cell_type": "code",
   "execution_count": null,
   "metadata": {},
   "outputs": [],
   "source": [
    "#| export\n",
    "class UnetModel(SequentialEx):\n",
    "    \"U-net with a final dense layer.\"\n",
    "    @delegates(AttnDynamicUnet.__init__)\n",
    "    def __init__(self, encoder, n_class, img_size, nf=64, linear_layers=[128], p=0.1, y_range=(0, 2.05), **kwargs): \n",
    "        norm = Normalization(1)\n",
    "        unet = AttnDynamicUnet(encoder, nf, img_size, p=p, **kwargs)\n",
    "        tp = Transpose((2, 1))\n",
    "        linear_layers = [nf] + linear_layers + [n_class]\n",
    "        ps = [p]*(len(linear_layers)-1)\n",
    "        linear = Classifier(linear_layers, ps, trp=(2, 1))\n",
    "        act, self.activation =  _get_acts(n_class, yrange=y_range)\n",
    "        \n",
    "        layers = [norm, tp, unet, tp, linear, act]\n",
    "        super().__init__(*layers)"
   ]
  },
  {
   "cell_type": "markdown",
   "metadata": {},
   "source": [
    "`UnetModel` uses `AttnDynamicUnet` to build a U-net from a desired architecture and appends a `Classifier` at the end to obtain the desired output dimension for the task.\n",
    "\n",
    "For example, we can easily build a U-net with an XResNet encoder to infer the anomalous diffusion exponent $\\alpha$ at every time step of the input trajectories."
   ]
  },
  {
   "cell_type": "code",
   "execution_count": null,
   "metadata": {},
   "outputs": [],
   "source": [
    "#| hide\n",
    "from step.data import get_segmentation_dls"
   ]
  },
  {
   "cell_type": "code",
   "execution_count": null,
   "metadata": {},
   "outputs": [],
   "source": [
    "dls = get_segmentation_dls(target='y_exp')\n",
    "dls.device = default_device()\n",
    "encoder = XResBlocks(ResBlock, [1, 2, 1], c_in=1, stem_szs=(32,), block_szs=[64, 128, 256])\n",
    "umodel = UnetModel(encoder, 1, (200,), num_encoder_layers=4, dim_ff=512, linear_layers=[], y_range=(0, 2.05))\n",
    "umodel.to(default_device())\n",
    "ulearn = Learner(dls, umodel, loss_func=L1LossFlat(), model_dir=MODEL_PATH)"
   ]
  },
  {
   "cell_type": "code",
   "execution_count": null,
   "metadata": {},
   "outputs": [
    {
     "data": {
      "text/html": [
       "<table border=\"1\" class=\"dataframe\">\n",
       "  <thead>\n",
       "    <tr style=\"text-align: left;\">\n",
       "      <th>epoch</th>\n",
       "      <th>train_loss</th>\n",
       "      <th>valid_loss</th>\n",
       "      <th>time</th>\n",
       "    </tr>\n",
       "  </thead>\n",
       "  <tbody>\n",
       "    <tr>\n",
       "      <td>0</td>\n",
       "      <td>0.353012</td>\n",
       "      <td>0.344957</td>\n",
       "      <td>00:35</td>\n",
       "    </tr>\n",
       "    <tr>\n",
       "      <td>1</td>\n",
       "      <td>0.335089</td>\n",
       "      <td>0.334739</td>\n",
       "      <td>00:35</td>\n",
       "    </tr>\n",
       "    <tr>\n",
       "      <td>2</td>\n",
       "      <td>0.332037</td>\n",
       "      <td>0.327504</td>\n",
       "      <td>00:35</td>\n",
       "    </tr>\n",
       "    <tr>\n",
       "      <td>3</td>\n",
       "      <td>0.324102</td>\n",
       "      <td>0.323693</td>\n",
       "      <td>00:36</td>\n",
       "    </tr>\n",
       "    <tr>\n",
       "      <td>4</td>\n",
       "      <td>0.317840</td>\n",
       "      <td>0.316003</td>\n",
       "      <td>00:36</td>\n",
       "    </tr>\n",
       "    <tr>\n",
       "      <td>5</td>\n",
       "      <td>0.312131</td>\n",
       "      <td>0.314038</td>\n",
       "      <td>00:36</td>\n",
       "    </tr>\n",
       "    <tr>\n",
       "      <td>6</td>\n",
       "      <td>0.309137</td>\n",
       "      <td>0.310193</td>\n",
       "      <td>00:35</td>\n",
       "    </tr>\n",
       "    <tr>\n",
       "      <td>7</td>\n",
       "      <td>0.308097</td>\n",
       "      <td>0.305047</td>\n",
       "      <td>00:35</td>\n",
       "    </tr>\n",
       "    <tr>\n",
       "      <td>8</td>\n",
       "      <td>0.303723</td>\n",
       "      <td>0.304123</td>\n",
       "      <td>00:36</td>\n",
       "    </tr>\n",
       "    <tr>\n",
       "      <td>9</td>\n",
       "      <td>0.299942</td>\n",
       "      <td>0.302303</td>\n",
       "      <td>00:36</td>\n",
       "    </tr>\n",
       "    <tr>\n",
       "      <td>10</td>\n",
       "      <td>0.299658</td>\n",
       "      <td>0.300621</td>\n",
       "      <td>00:36</td>\n",
       "    </tr>\n",
       "    <tr>\n",
       "      <td>11</td>\n",
       "      <td>0.297696</td>\n",
       "      <td>0.300281</td>\n",
       "      <td>00:36</td>\n",
       "    </tr>\n",
       "    <tr>\n",
       "      <td>12</td>\n",
       "      <td>0.293374</td>\n",
       "      <td>0.299450</td>\n",
       "      <td>00:36</td>\n",
       "    </tr>\n",
       "    <tr>\n",
       "      <td>13</td>\n",
       "      <td>0.292193</td>\n",
       "      <td>0.299131</td>\n",
       "      <td>00:36</td>\n",
       "    </tr>\n",
       "    <tr>\n",
       "      <td>14</td>\n",
       "      <td>0.290734</td>\n",
       "      <td>0.299084</td>\n",
       "      <td>00:36</td>\n",
       "    </tr>\n",
       "  </tbody>\n",
       "</table>"
      ],
      "text/plain": [
       "<IPython.core.display.HTML object>"
      ]
     },
     "metadata": {},
     "output_type": "display_data"
    }
   ],
   "source": [
    "ulearn.fit_one_cycle(15, lr_max=1e-3)"
   ]
  }
 ],
 "metadata": {
  "kernelspec": {
   "display_name": "python3",
   "language": "python",
   "name": "python3"
  }
 },
 "nbformat": 4,
 "nbformat_minor": 4
}
