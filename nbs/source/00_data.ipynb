{
 "cells": [
  {
   "cell_type": "raw",
   "metadata": {},
   "source": [
    "---\n",
    "title: Data\n",
    "description: Data generation and data loading methods for anomalous diffusion segmentation.\n",
    "output-file: data.html\n",
    "skip_exec: true\n",
    "---"
   ]
  },
  {
   "cell_type": "code",
   "execution_count": null,
   "metadata": {},
   "outputs": [],
   "source": [
    "#| default_exp data"
   ]
  },
  {
   "cell_type": "code",
   "execution_count": null,
   "metadata": {},
   "outputs": [],
   "source": [
    "#| export\n",
    "import os\n",
    "import numpy as np\n",
    "import pandas as pd\n",
    "from copy import deepcopy\n",
    "from fastcore.all import *\n",
    "from fastai.vision.all import *\n",
    "from andi_datasets.datasets_theory import datasets_theory\n",
    "from andi_datasets.utils_trajectories import normalize\n",
    "from collections.abc import Iterable, Callable"
   ]
  },
  {
   "attachments": {},
   "cell_type": "markdown",
   "metadata": {},
   "source": [
    "# Data info\n",
    "\n",
    "We provide a set of variables with default information about the nature of the data and the default path to save it."
   ]
  },
  {
   "cell_type": "code",
   "execution_count": null,
   "metadata": {},
   "outputs": [],
   "source": [
    "#| exports\n",
    "ROOT = Path(os.path.dirname(os.path.abspath('../')))\n",
    "DATA_PATH = ROOT/\"data/\"\n",
    "DATA_PATH.mkdir(exist_ok=True, parents=True)\n",
    "FIG_PATH = DATA_PATH/\"figures\"\n",
    "FIG_PATH.mkdir(exist_ok=True, parents=True)\n",
    "MODEL_PATH = ROOT/\"models\"\n",
    "MODEL_PATH.mkdir(exist_ok=True, parents=True)\n",
    "\n",
    "MODEL_DATA = {\n",
    "    0: {'name': 'attm', 'exps': (0.05, 1.)},\n",
    "    1: {'name': 'ctrw', 'exps': (0.05, 1.)},\n",
    "    2: {'name': 'fbm',  'exps': (0.05, 1.95)},\n",
    "    3: {'name': 'lw',   'exps': (1.05, 2.)},\n",
    "    4: {'name': 'sbm',  'exps': (0.05, 2.)}\n",
    "    }\n",
    "              \n",
    "DEFAULT_TOKEN = -1"
   ]
  },
  {
   "attachments": {},
   "cell_type": "markdown",
   "metadata": {},
   "source": [
    "By default, we keep the root of the repository in `ROOT`, from which we define `DATA_PATH=ROOT/'data'` and `MODEL_PATH=ROOT/'models'`, subsequently, we define `FIG_PATH=DATA_PATH/'figures'`. We use these as default paths to save and load the data, the trained models and the output figures.\n",
    "\n",
    "Then, `MODEL_DATA` is a dictionary containing the information about the different anomalous diffusion models that we consider.\n",
    "And `DEFAULT_TOKEN=-1` is the default value for the beginning of sequence token.\n",
    "\n",
    "# Data generation\n",
    "\n",
    "To train our models, we make extensive use of simulated trajectories. The goal is to simulate realistic conditions in experiments to help our models generalize well in experimental applications.\n",
    "\n",
    "We follow two main approaches to simulate our data depending on whether we're working with anomalous diffusion or Brownian motion (normal diffusion).\n",
    " \n",
    "However, the main framework is common for both. To generate trajectories with changes in diffusive behaviour, we simulate as many full trajectories as different segments we wish to have. Then, we take a sample segment of each and combine them together to obtain the resulting heterogeneous trajectory."
   ]
  },
  {
   "cell_type": "code",
   "execution_count": null,
   "metadata": {},
   "outputs": [],
   "source": [
    "#| export\n",
    "def combine_trajectories(datasets, dim, margin=10, random_lengths=False):\n",
    "    \"\"\"Combine the trajectories in `datasets` to create heterogeneous\n",
    "    trajectories by assigning random changepoints in between.\"\"\"\n",
    "    n_change = len(datasets) - 1\n",
    "    min_t = (n_change + 1)*margin \n",
    "    n_trajs, max_t = datasets[0].shape[0], datasets[0][0, 2:].reshape(dim, -1).shape[-1]\n",
    "    if max_t < min_t: \n",
    "        raise ValueError(\"Trajectory length must be, at least, (change points + 1) times\" +\n",
    "                         f\"the margin. Got length {max_t} for margin {margin}\" +\n",
    "                         f\"and {n_change} change points.\")\n",
    "    lengths = (np.random.randint(min_t, max_t+1, n_trajs) if random_lengths \n",
    "               else np.ones(n_trajs, dtype=int)*max_t)\n",
    "    change_points = _get_change_points(n_change, lengths, margin)\n",
    "    datasets = _permute_datasets(datasets)\n",
    "    trajectories, labels = [], []\n",
    "    for n in range(n_trajs):\n",
    "        trajs = [datasets[c][n, 2:] for c in range(n_change+1)]\n",
    "        trajectories.append(_merge_trajectories(trajs, change_points[n], dim, max_t=lengths[n]))\n",
    "        labels.append(np.concatenate([datasets[c][n, :2] for c in range(n_change+1)]))\n",
    "    return trajectories, labels, change_points\n",
    "                \n",
    "def _add_permutation_sample(repeated, datasets, idx):\n",
    "    \"Checks conditions in order add an additional sample from which to perform permutations\"\n",
    "    check_length = len(repeated) <= 2\n",
    "    check_ds = [len(np.unique(ds[i[repeated], 0]))==1 or len(np.unique(ds[i[repeated], 1]))==1 \n",
    "                for ds,i in zip(datasets, idx)]\n",
    "    return check_length or np.any(check_ds)\n",
    "      \n",
    "def _merge_trajectories(trajs, change_points, dim, max_t=None):\n",
    "    \"Merges trajectories `trajs` with `change_points` accounting for dimension.\"\n",
    "    trajs = [traj.reshape(dim, -1) for traj in trajs]\n",
    "    cps = [0] + list(change_points) + [max_t]\n",
    "    slices = [slice(cps[c], cps[c+1]) for c in range(len(cps)-1)]\n",
    "    offsets = [np.zeros((dim, 1))] + [np.expand_dims(t1[:, c] - t2[:, c], -1) \n",
    "                                      for t1, t2, c in zip(trajs[:-1], trajs[1:], change_points)]\n",
    "    offsets = np.cumsum(offsets, axis=0)\n",
    "    return np.concatenate([traj[:, s]+o for traj, s, o in zip(trajs, slices, offsets)], axis=1)\n",
    "    \n",
    "def _get_change_points(n_change, lengths, margin):\n",
    "    n_trajs = lengths.shape[0]\n",
    "    change_points = np.zeros((n_trajs, n_change), dtype=int)\n",
    "    if n_change == 1:\n",
    "        change_points[:, 0] = np.random.randint(margin, lengths-margin, n_trajs)\n",
    "        return change_points\n",
    "    \n",
    "    change_points[:, 0] = np.random.triangular(margin, margin, lengths-n_change*margin, n_trajs).astype(int)\n",
    "    for n in range(n_change-1):\n",
    "        min_t, max_t = change_points[:, n]+margin, lengths-(n_change-n-1)*margin\n",
    "        if n < n_change - 2:\n",
    "            change_points[:, n+1] = np.random.triangular(min_t, min_t, max_t, n_trajs).astype(int)\n",
    "        else: \n",
    "            change_points[:, n+1] = np.random.randint(min_t, max_t, n_trajs)\n",
    "    # Workaround to account for imbalances in sampling. Works decently until n_change=4\n",
    "    mask = np.random.randint(0, 2, n_trajs, dtype=bool)\n",
    "#     change_points[mask] = np.sort(np.abs(change_points[mask] - lengths[mask, None]))\n",
    "    return change_points\n",
    "\n",
    "def _permute_datasets(datasets, max_iter=1000):\n",
    "    \"Permutes datasets to prevent having the same labels in contiguous segments.\"\n",
    "    n_traj = datasets[0].shape[0]\n",
    "    idx = [np.random.permutation(n_traj) for ds in datasets]\n",
    "    for d in range(1, len(datasets)):\n",
    "        i = slice(d-1, d)\n",
    "        diff = np.abs(datasets[d-1][idx[d-1], :2] - datasets[d][idx[d], :2]).sum(1)\n",
    "        repeated = np.argwhere(diff==0)[:, 0]\n",
    "        it = 0\n",
    "        while len(repeated) > 0 and it < max_iter:\n",
    "            if _add_permutation_sample(repeated, datasets[i], idx[i]): \n",
    "                repeated = np.append(repeated, np.random.randint(0, n_traj))\n",
    "                idx[d][repeated] = idx[d][np.random.permutation(repeated)]\n",
    "            else:                  \n",
    "                idx[d][repeated] = idx[d][np.random.permutation(repeated)]\n",
    "            diff = np.abs(datasets[d-1][idx[d-1], :2] - datasets[d][idx[d], :2]).sum(1)\n",
    "            repeated = np.argwhere(diff==0)[:, 0]\n",
    "            it += 1\n",
    "        if it == max_iter: \n",
    "            for k in range(len(datasets)):\n",
    "                idx[k] = np.delete(idx[k], repeated, axis=0)\n",
    "    \n",
    "    return [ds[i] for ds,i in zip(datasets, idx)]"
   ]
  },
  {
   "attachments": {},
   "cell_type": "markdown",
   "metadata": {},
   "source": [
    "We use [pandas dataframes](https://pandas.pydata.org/docs/reference/api/pandas.DataFrame.html) to store our data."
   ]
  },
  {
   "cell_type": "code",
   "execution_count": null,
   "metadata": {},
   "outputs": [],
   "source": [
    "#| export\n",
    "def trajs2df(trajectories, labels, change_points, dim, noise=None):\n",
    "    \"Stores all the trajectory information in a `pandas.DataFrame`.\"\n",
    "    data = []\n",
    "    for traj, l, cp in zip(trajectories, labels, change_points):\n",
    "        x, cp = tensor(traj), tensor(cp)\n",
    "        length, n_cp = x.shape[1], len(cp)\n",
    "        models, exps = tensor(l[::2]).to(int), tensor(l[1::2])\n",
    "        y_mod, y_exp = torch.zeros(1, length, dtype=int), torch.zeros(1, length)\n",
    "        lims = [0] + cp.tolist() + [None]\n",
    "        for l0, l1, model, exp in zip(lims[:-1], lims[1:], models, exps): \n",
    "            s = slice(l0, l1)\n",
    "            y_mod[:, s], y_exp[:, s] = model, exp\n",
    "        y = torch.cat((y_mod, y_exp), dim=0)\n",
    "        data.append({'dim': dim, 'len': length, 'n_cp': n_cp, 'cp': cp, 'models': models, \n",
    "                     'exps': exps, 'x': x, 'y': y, 'y_mod': y_mod, 'y_exp': y_exp})\n",
    "    df = pd.DataFrame.from_records(data)\n",
    "    if noise is not None: \n",
    "        df.loc[:, 'noise'] = noise\n",
    "    return df"
   ]
  },
  {
   "attachments": {},
   "cell_type": "markdown",
   "metadata": {},
   "source": [
    "Every row contains the information corresponding to a trajectory:\n",
    "\n",
    "- `dim`: dimension of the trajecotry (1D, 2D, 3D, ...) (`int`).\n",
    "- `len`: trajectory length (`int`).\n",
    "- `n_cp`: number of changepoints (`int`).\n",
    "- `cp`: changepoint positions (`torch.tensor`).\n",
    "- `models`: anomalous diffusion model of each segment (`torch.tensor`).\n",
    "- `exps`: anomalous diffusion exponent of each segment (`torch.tensor`).\n",
    "- `x`: trajectory (`torch.tensor`).\n",
    "- `y`: models and exps for every time step (`torch.tensor`).\n",
    "- `y_mod`: anomalous diffusion model for every time step (`torch.tensor`).\n",
    "- `y_exp`: anomalous diffusion exponent for every time step (`torch.tensor`). \n",
    "\n",
    "## Anomalous diffusion segmentation dataset\n",
    "\n",
    "We simulate anomalous diffusion trajectories following a similar recipe to the proposed in [andi_datasets](https://github.com/AnDiChallenge/andi_datasets) for the [AnDi challenge](http://andi-challenge.org/).\n",
    "\n",
    "As we specify in `MODEL_DATA`, there are five anomalous diffusion models that we consider, each with a different range of anomalous diffusion exponent $\\alpha$:\n",
    "\n",
    " - Annealed transit time (ATTM) with $\\alpha\\in\\left[0.05, 1\\right]$.\n",
    " - Continuous time random walk (CTRW) with $\\alpha\\in\\left[0.05, 1\\right]$.\n",
    " - Fractional Brownian motion (FBM) with $\\alpha\\in\\left[0.05, 1.95\\right]$.\n",
    " - Lévy Walk (LW) with $\\alpha\\in\\left[1.05, 2\\right]$.\n",
    " - Scaled Brownian motion (SBM) with $\\alpha\\in\\left[0.05, 2\\right]$.\n",
    "\n",
    " We take $\\alpha$ values in intervals of 0.05 within the specified ranges.\n",
    "\n",
    " Furthermore, we add localization noise in the form of white noise $\\sim\\mathcal{N}(0, \\sigma_{\\text{noise}})$. We also show how to build a data augmentation scheme with localization noise, for which having noiseless trajectories is useful. Simply, specify `noise=[0]` for that. "
   ]
  },
  {
   "cell_type": "code",
   "execution_count": null,
   "metadata": {},
   "outputs": [],
   "source": [
    "#| export\n",
    "def create_andi_trajectories(n_traj, max_t, dim, exponents, models, noise=[0.1, 0.5, 1.]):\n",
    "    \"Creates anomalous diffusion trajectories.\"\n",
    "    ad = datasets_theory()\n",
    "    n_per_class = _get_balanced_dataset_numbers(n_traj, exponents, models)\n",
    "    dataset = ad.create_dataset(T=max_t, N_models=n_per_class, exponents=exponents,\n",
    "                                models=models, dimension=dim)\n",
    "\n",
    "    # Normalize trajectories\n",
    "    n_traj = dataset.shape[0]\n",
    "    norm_trajs = normalize(dataset[:, 2:].reshape(n_traj*dim, max_t))\n",
    "    dataset[:, 2:] = norm_trajs.reshape(dataset[:, 2:].shape)\n",
    "\n",
    "    # Add localization error, Gaussian noise with\n",
    "    if noise is not None:\n",
    "        noisy_trajs, _ = add_localization_noise(dataset[:, 2:].reshape(n_traj, dim, -1), \n",
    "                                                noise_amplitude=noise)\n",
    "        dataset[:, 2:] = noisy_trajs.reshape(dataset[:, 2:].shape)\n",
    "\n",
    "    # Add random diffusion coefficients\n",
    "    trajs = dataset[:, 2:].reshape(n_traj*dim, max_t)\n",
    "    displacements = trajs[:, 1:] - trajs[:, :-1]\n",
    "    # Get new diffusion coefficients and displacements\n",
    "    diffusion_coefficients = np.random.randn(trajs.shape[0])\n",
    "    new_displacements = (displacements.transpose()*diffusion_coefficients).transpose()  \n",
    "    # Generate new trajectories and add to dataset\n",
    "    new_trajs = np.cumsum(new_displacements, axis=1)\n",
    "    new_trajs = np.concatenate((np.zeros((new_trajs.shape[0], 1)), new_trajs), axis=1)\n",
    "    dataset[:, 2:] = new_trajs.reshape(dataset[:, 2:].shape)\n",
    "    \n",
    "    return dataset\n",
    "\n",
    "def add_localization_noise(trajs, noise_amplitude=[0.01, 0.5, 1]):\n",
    "    \"Adds white noise with standard deviation `noise_amplitude`.\"\n",
    "    noise_amp = np.random.choice(np.array(noise_amplitude), size=len(trajs))\n",
    "    try: \n",
    "        trajs = np.array(trajs)\n",
    "        noise = np.random.randn(*trajs.shape)*noise_amp[:, None, None]\n",
    "        noisy_trajs = trajs + noise - noise[:, :, 0, None]\n",
    "    except:\n",
    "        noisy_trajs = [t + na*np.concatenate((np.zeros((t.shape[0], 1)), \n",
    "                                              np.random.randn(*t[:, :-1].shape)), axis=-1) \n",
    "                       for t, na in zip(trajs, noise_amp)]     \n",
    "    return noisy_trajs, noise_amp\n",
    "    \n",
    "def _get_balanced_dataset_numbers(N, exponents, models):\n",
    "    n_exp, n_models = len(exponents), len(models)\n",
    "    n_per_model = N/n_models\n",
    "    n_per_class = np.zeros((n_models, n_exp))\n",
    "    for m, model in enumerate(models):\n",
    "        which_exps = (MODEL_DATA[model]['exps'][0] <= exponents) & (exponents <= MODEL_DATA[model]['exps'][1])\n",
    "        n_per_class[m, which_exps] = round(n_per_model/sum(which_exps))\n",
    "    return n_per_class"
   ]
  },
  {
   "attachments": {},
   "cell_type": "markdown",
   "metadata": {},
   "source": [
    "For instance, we can generate a bunch of 2D FBM and SBM trajectories of 20 time steps and two levels of noise $\\sigma_{\\text{noise}}=\\left\\{0.1, 0.5\\right\\}$. Furthermore, we can specify the desired values for $\\alpha$. Since both models can have a wide range of values, let's make them purely super-diffusive $\\alpha>1$."
   ]
  },
  {
   "cell_type": "code",
   "execution_count": null,
   "metadata": {},
   "outputs": [],
   "source": [
    "n_traj = 60\n",
    "max_t = 20\n",
    "dim = 2\n",
    "exponents = np.arange(1.2, 2., 0.05)\n",
    "models = [2, 4] # FBM and SBM\n",
    "noise = [0.1, 0.5]\n",
    "trajectories = create_andi_trajectories(n_traj, max_t, dim, exponents, models, noise=noise)"
   ]
  },
  {
   "attachments": {},
   "cell_type": "markdown",
   "metadata": {},
   "source": [
    "The function `create_andi_trajectories` tries to balance the classes for diffusion model and $\\alpha$. Usually, this results into little deviations from the specified number of trajectories. Sorry for the inconvenience! "
   ]
  },
  {
   "cell_type": "code",
   "execution_count": null,
   "metadata": {},
   "outputs": [
    {
     "name": "stdout",
     "output_type": "stream",
     "text": [
      "We asked for 60 trajectories and got 62\n"
     ]
    }
   ],
   "source": [
    "#| code-fold: true\n",
    "print(f\"We asked for {n_traj} trajectories and got {trajectories.shape[0]}\")"
   ]
  },
  {
   "attachments": {},
   "cell_type": "markdown",
   "metadata": {},
   "source": [
    "As this uses `andi_datasets.datasets_theory` to generate the trajectories, the result is an $N\\times(2+d*T)$ matrix, where $N$ is the number of trajectories, $d$ is the dimension, and $T$ is the trajectory length. The first two columns contain the trajectory information: model and $\\alpha$."
   ]
  },
  {
   "cell_type": "code",
   "execution_count": null,
   "metadata": {},
   "outputs": [
    {
     "data": {
      "text/plain": [
       "(62, 42)"
      ]
     },
     "execution_count": null,
     "metadata": {},
     "output_type": "execute_result"
    }
   ],
   "source": [
    "trajectories.shape"
   ]
  },
  {
   "cell_type": "code",
   "execution_count": null,
   "metadata": {},
   "outputs": [
    {
     "data": {
      "text/plain": [
       "array([[2.  , 1.2 ],\n",
       "       [2.  , 1.2 ],\n",
       "       [2.  , 1.25],\n",
       "       [2.  , 1.25],\n",
       "       [2.  , 1.3 ],\n",
       "       [2.  , 1.3 ]])"
      ]
     },
     "execution_count": null,
     "metadata": {},
     "output_type": "execute_result"
    }
   ],
   "source": [
    "trajectories[:6, :2]"
   ]
  },
  {
   "attachments": {},
   "cell_type": "markdown",
   "metadata": {},
   "source": [
    "However, this method is limited to exclusively generate trajectories without changes along the way. As we mention above, we use it as a building block to generate our heterogeneous trajectories."
   ]
  },
  {
   "cell_type": "code",
   "execution_count": null,
   "metadata": {},
   "outputs": [],
   "source": [
    "#| export\n",
    "@delegates(combine_trajectories)\n",
    "def create_andi_segmentation_dataset(\n",
    "    n_traj:int,                     # Number of trajectories\n",
    "    max_t:int=200,                  # Maximum trajectory length\n",
    "    dim:int=1,                      # Trajectory dimension\n",
    "    n_change_points:int=1,          # Number of changepoints in the trajectories\n",
    "    models:list=[0, 1, 2, 3, 4],    # Diffusion models to consider\n",
    "    exponents:np.ndarray|None=None, # Anomalous exponents to consider. Defaults to full range\n",
    "    noise:list=[0.1, 0.5, 1.],      # Noise standard deviation\n",
    "    path:Path|str|None=None,        # Path to save the data\n",
    "    save:bool=True,                 # Save or not the data\n",
    "    **kwargs\n",
    "    )->pd.DataFrame:\n",
    "    \"Creates a dataset for trajectory segmentation of anomalous diffusion.\"\n",
    "    n_ds = n_change_points+1\n",
    "    if exponents is None: exponents = np.arange(0.05, 2.01, 0.05)\n",
    "    datasets = [create_andi_trajectories(n_traj, max_t, dim, exponents, models, None)\n",
    "                for _ in range(n_ds)]\n",
    "    trajectories, labels, change_points = combine_trajectories(datasets, dim, **kwargs)\n",
    "    trajectories, noise_amplitudes = add_localization_noise(trajectories, noise)\n",
    "    seg_dataset = trajs2df(trajectories, labels, change_points, dim, noise_amplitudes)\n",
    "    save_path = DATA_PATH/get_andids_fname(n_change_points, max_t, dim) if path is None else path\n",
    "    if save: seg_dataset.to_pickle(save_path)\n",
    "    return seg_dataset\n",
    "\n",
    "def get_andids_fname(n_change_points, max_t, dim):\n",
    "    \"Returns standardized file name for segmentation dataset.\"\n",
    "    return f\"segds_{n_change_points}changes_T{max_t}_dim{dim}.pkl\""
   ]
  },
  {
   "attachments": {},
   "cell_type": "markdown",
   "metadata": {},
   "source": [
    "Let's create a segmentation dataset of a few trajectories."
   ]
  },
  {
   "cell_type": "code",
   "execution_count": null,
   "metadata": {},
   "outputs": [],
   "source": [
    "#| hide\n",
    "np.random.seed(0)\n",
    "import matplotlib.pyplot as plt"
   ]
  },
  {
   "cell_type": "code",
   "execution_count": null,
   "metadata": {},
   "outputs": [],
   "source": [
    "n_traj = 100\n",
    "df = create_andi_segmentation_dataset(n_traj, save=False)"
   ]
  },
  {
   "attachments": {},
   "cell_type": "markdown",
   "metadata": {},
   "source": [
    "The resulting `DataFrame` contains trajectories with one change point (by default), and combines all possible diffusion models and anomalous diffusion exponents."
   ]
  },
  {
   "cell_type": "code",
   "execution_count": null,
   "metadata": {},
   "outputs": [
    {
     "data": {
      "text/plain": [
       "Index(['dim', 'len', 'n_cp', 'cp', 'models', 'exps', 'x', 'y', 'y_mod',\n",
       "       'y_exp', 'noise'],\n",
       "      dtype='object')"
      ]
     },
     "execution_count": null,
     "metadata": {},
     "output_type": "execute_result"
    }
   ],
   "source": [
    "df.columns"
   ]
  },
  {
   "attachments": {},
   "cell_type": "markdown",
   "metadata": {},
   "source": [
    "Let's look at an example."
   ]
  },
  {
   "cell_type": "code",
   "execution_count": null,
   "metadata": {},
   "outputs": [
    {
     "data": {
      "text/plain": [
       "(tensor([0.2500, 0.2500]), tensor([1, 2]), tensor([113]))"
      ]
     },
     "execution_count": null,
     "metadata": {},
     "output_type": "execute_result"
    }
   ],
   "source": [
    "x0 = df.loc[0]\n",
    "x0.exps, x0.models, x0.cp"
   ]
  },
  {
   "attachments": {},
   "cell_type": "markdown",
   "metadata": {},
   "source": [
    "This trajectory changes from CTRW with $\\alpha=0.25$ to FBM with $\\alpha=0.25$ at frame 113. "
   ]
  },
  {
   "cell_type": "code",
   "execution_count": null,
   "metadata": {},
   "outputs": [
    {
     "data": {
      "image/png": "[encoded data removed]",
      "text/plain": [
       "<Figure size 700x400 with 1 Axes>"
      ]
     },
     "metadata": {},
     "output_type": "display_data"
    }
   ],
   "source": [
    "#| code-fold: true\n",
    "plt.figure(figsize=(7,4))\n",
    "plt.plot(x0.x[0])\n",
    "plt.vlines(x0.cp.item(), min(x0.x[0]), max(x0.x[0]), linestyles='dashed', colors='k')\n",
    "plt.grid()\n",
    "plt.title(\"Trajectory with one change point\")\n",
    "plt.xlabel(\"Time step\")\n",
    "plt.ylabel(\"Position\");"
   ]
  },
  {
   "attachments": {},
   "cell_type": "markdown",
   "metadata": {},
   "source": [
    "## Brownian motion\n",
    "\n",
    "We simulate Brownian motion taking the displacements as white noise with standard deviation $\\sqrt{2D\\delta t}$, where $D$ is the diffusion coefficient and $\\delta t$ is the time-step duration (we generally take $\\delta t=1$)."
   ]
  },
  {
   "cell_type": "code",
   "execution_count": null,
   "metadata": {},
   "outputs": [],
   "source": [
    "#| export\n",
    "def brownian_motion(n_traj, max_t, D, dim=1, dt=1):\n",
    "    \"Simulate Brownian motion trajectories.\"\n",
    "    bm = (np.sqrt(2*D*dt)*np.random.randn(n_traj, dim, max_t)).cumsum(-1)\n",
    "    return bm - bm[:, :, 0, None]"
   ]
  },
  {
   "cell_type": "code",
   "execution_count": null,
   "metadata": {},
   "outputs": [],
   "source": [
    "#| export\n",
    "@delegates(brownian_motion)\n",
    "def create_bm_trajectories(n_traj, max_t, Ds=[1.], shuffle=True, **kwargs):\n",
    "    \"Simulate Brownian motion trajectories with various diffusion coefficients.\"\n",
    "    if not isinstance(Ds, Iterable): Ds = [Ds]\n",
    "    n_per_d = n_traj//len(Ds)\n",
    "    Ds = np.repeat(np.array(Ds), n_per_d)\n",
    "    bms = brownian_motion(len(Ds), max_t, Ds[:, None, None], **kwargs)\n",
    "    info = np.tile(Ds, (2, 1)).T\n",
    "    trajs = np.concatenate((info, bms.reshape(info.shape[0], -1)), -1)\n",
    "    return np.random.permutation(trajs) if shuffle else trajs"
   ]
  },
  {
   "attachments": {},
   "cell_type": "markdown",
   "metadata": {},
   "source": [
    "Similar to `create_andi_trajectories`, `create_bm_trajectories` evenly distributes the amount of trajectories for each diffusion coefficient we consider."
   ]
  },
  {
   "cell_type": "code",
   "execution_count": null,
   "metadata": {},
   "outputs": [
    {
     "data": {
      "text/plain": [
       "(8, 7)"
      ]
     },
     "execution_count": null,
     "metadata": {},
     "output_type": "execute_result"
    }
   ],
   "source": [
    "n_traj = 9\n",
    "max_t = 5\n",
    "trajectories = create_bm_trajectories(n_traj, max_t, dim=1, Ds=[1., 2.], shuffle=False)\n",
    "trajectories.shape"
   ]
  },
  {
   "attachments": {},
   "cell_type": "markdown",
   "metadata": {},
   "source": [
    "Despite only having one parameter: the diffusion coefficient $D$, we still find two additional terms in the trajectory length which are, simply, two copies of $D$. This is to keep a consistent formatting with the anomalous diffusion trajectories that need to store the model and $\\alpha$."
   ]
  },
  {
   "cell_type": "code",
   "execution_count": null,
   "metadata": {},
   "outputs": [],
   "source": [
    "#| export\n",
    "@delegates(combine_trajectories)\n",
    "def create_bm_segmentation_dataset(\n",
    "    n_traj:int,              # Number of trajectories\n",
    "    max_t:int=200,           # Maximum trajectory length\n",
    "    dim:int=1,               # Trajectory dimension\n",
    "    n_change_points:int=1,   # Number of changepoints in the trajectories\n",
    "    Ds:Iterable|None=None,   # Diffusion coefficients to consider defaults to logspace(-3, 3)\n",
    "    path:Path|str|None=None, # Path to save the data\n",
    "    save:bool=True,          # Save or not the data\n",
    "    **kwargs\n",
    "    )->pd.DataFrame:\n",
    "    \"Creates a segmentation dataset to tell between diffusion coefficients.\"\n",
    "    n_ds = n_change_points + 1\n",
    "    Ds = np.logspace(-3, 3, n_traj//100) if Ds is None else Ds\n",
    "    datasets = [create_bm_trajectories(n_traj, max_t, Ds=Ds, dim=dim) for _ in range(n_ds)]\n",
    "    trajectories, labels, change_points = combine_trajectories(datasets, dim, **kwargs)\n",
    "    seg_dataset = trajs2df(trajectories, labels, change_points, dim)\n",
    "    save_path = DATA_PATH/get_bmds_fname(n_change_points, max_t, dim) if path is None else path\n",
    "    if save: seg_dataset.to_pickle(save_path)\n",
    "    return seg_dataset\n",
    "\n",
    "def get_bmds_fname(n_change_points, max_t, dim):\n",
    "    \"Returns consistent file name for segmentation dataset.\"\n",
    "    return f\"bmds_{n_change_points}changes_T{max_t}_dim{dim}.pkl\""
   ]
  },
  {
   "attachments": {},
   "cell_type": "markdown",
   "metadata": {},
   "source": [
    "The behaviour is very similar to `create_andi_segmentation_dataset`. Let's see an example."
   ]
  },
  {
   "cell_type": "code",
   "execution_count": null,
   "metadata": {},
   "outputs": [],
   "source": [
    "N = 100\n",
    "df = create_bm_segmentation_dataset(N, Ds=[10, 50, 100], save=False)"
   ]
  },
  {
   "cell_type": "code",
   "execution_count": null,
   "metadata": {},
   "outputs": [
    {
     "data": {
      "text/plain": [
       "(tensor([100.,  10.]), tensor([54]))"
      ]
     },
     "execution_count": null,
     "metadata": {},
     "output_type": "execute_result"
    }
   ],
   "source": [
    "x0 = df.iloc[1]\n",
    "x0.exps, x0.cp"
   ]
  },
  {
   "attachments": {},
   "cell_type": "markdown",
   "metadata": {},
   "source": [
    "The trajectory changes from $D=100$ to $D=10$ at the 54th time-step."
   ]
  },
  {
   "cell_type": "code",
   "execution_count": null,
   "metadata": {},
   "outputs": [
    {
     "data": {
      "image/png": "[encoded data removed]",
      "text/plain": [
       "<Figure size 700x400 with 1 Axes>"
      ]
     },
     "metadata": {},
     "output_type": "display_data"
    }
   ],
   "source": [
    "#| code-fold: true\n",
    "plt.figure(figsize=(7,4))\n",
    "plt.plot(x0.x[0])\n",
    "plt.vlines(x0.cp.item(), min(x0.x[0]), max(x0.x[0]), linestyles='dashed', colors='k')\n",
    "plt.grid()\n",
    "plt.title(\"Trajectory with one change point\")\n",
    "plt.xlabel(\"Time step\")\n",
    "plt.ylabel(\"Position\");"
   ]
  },
  {
   "attachments": {},
   "cell_type": "markdown",
   "metadata": {},
   "source": [
    "### ATTM trajectories\n",
    "\n",
    "Annealed transit time (ATTM) is an anomalous diffusion model consisting of piecewise normal diffusion. Every segment has a random diffusion coefficient $D$ drawn with probability \n",
    "$$P(D) = \\frac{D^{\\sigma - 1}\\exp(-D/b)}{b^\\sigma\\Gamma(\\sigma)}\\,,$$\n",
    "with parameters $\\sigma$ and $b$. The residence time in each diffusive state, $\\tau$, depends on the magnitude of the diffusion coefficient: $$P_\\tau(\\tau|D)=\\frac{D^\\gamma}{k}\\exp(-\\tau D^\\gamma/k)\\,,$$ with parameters $\\gamma$ and $k$. The parameters $\\sigma$ and $\\gamma$ in these distributions determine the anomalous exponent $\\alpha=\\sigma/\\gamma$, whenever $\\sigma<\\gamma<\\sigma+1$. Thus, for every $\\alpha$ there are infinitely many valid combinations of $\\sigma, \\,\\gamma$. \n",
    "\n",
    "In [andi_datasets](https://github.com/AnDiChallenge/andi_datasets), these parameters are randomly sampled given a fixed $\\alpha$. Here, we wish to extract $\\sigma$ and $\\gamma$ and, thus, we need a consistent way to simulate ATTM trajectories with those parameters fixed.\n",
    "\n",
    "::: {.callout-note}\n",
    "In [our work](https://arxiv.org/abs/2302.00410), we use ATTM trajectories to show how to characterize anomalous diffusion directly from changes in normal diffusion.\n",
    ":::"
   ]
  },
  {
   "cell_type": "code",
   "execution_count": null,
   "metadata": {},
   "outputs": [],
   "source": [
    "#| export\n",
    "def create_fixed_attm_trajs(n_traj, max_t, sigma, gamma):\n",
    "    \"Creates 2-D ATTM trajectories with fixed sigma and gamma.\"\n",
    "    trajs = np.zeros((n_traj, 2, max_t))\n",
    "    Ds = np.zeros((n_traj, max_t))\n",
    "    t0, t1 = np.ones(n_traj, dtype=int), np.zeros(n_traj, dtype=int)\n",
    "    idx = np.arange(n_traj)\n",
    "    while (t0 < max_t).any():\n",
    "        not_done = t0 < max_t \n",
    "        D = (1 - np.random.uniform(low=0.1, high=0.99, size=not_done.sum()))**(1/sigma)\n",
    "        t1[not_done] = t0[not_done] + (D**(-gamma)).astype(int)\n",
    "        t1 = np.where((t1 > max_t) & not_done, max_t, t1)\n",
    "        dt = t1 - t0\n",
    "        for i, d in zip(idx[not_done], D):\n",
    "            trajs[i, : , t0[i]:t1[i]] = (np.expand_dims(trajs[i, :, t0[i]-1], -1)\n",
    "                                         + brownian_motion(1, dt[i]+1, d, dim=2)[0, :, 1:])\n",
    "            Ds[i, t0[i]:t1[i]] = d\n",
    "        t0 = np.copy(t1)\n",
    "    Ds[:, 0] = Ds[:, 1]\n",
    "    return trajs, Ds"
   ]
  },
  {
   "attachments": {},
   "cell_type": "markdown",
   "metadata": {},
   "source": [
    "Let's generate some ATTM trajectories with fixed $\\sigma=0.3$ and $\\gamma=0.4$, meaning that $\\alpha=0.75$."
   ]
  },
  {
   "cell_type": "code",
   "execution_count": null,
   "metadata": {},
   "outputs": [],
   "source": [
    "#| hide\n",
    "np.random.seed(7)"
   ]
  },
  {
   "cell_type": "code",
   "execution_count": null,
   "metadata": {},
   "outputs": [],
   "source": [
    "n_traj = 2\n",
    "max_t = 15\n",
    "sigma, gamma = 0.3, 0.4\n",
    "trajs, ds = create_fixed_attm_trajs(n_traj, max_t, sigma, gamma)"
   ]
  },
  {
   "cell_type": "code",
   "execution_count": null,
   "metadata": {},
   "outputs": [
    {
     "data": {
      "image/png": "[encoded data removed]",
      "text/plain": [
       "<Figure size 700x300 with 2 Axes>"
      ]
     },
     "metadata": {},
     "output_type": "display_data"
    }
   ],
   "source": [
    "#| code-fold: true\n",
    "fig, axes = plt.subplots(nrows=1, ncols=2, figsize=(7, 3), constrained_layout=True)\n",
    "axes[0].plot(trajs[0].T)\n",
    "axes[0].set_xlabel(\"Time\", fontsize=16)\n",
    "axes[0].set_ylabel(\"Position\", fontsize=16)\n",
    "axes[0].tick_params(labelsize=14)\n",
    "\n",
    "axes[1].semilogy(ds[0])\n",
    "axes[1].set_xlabel(\"Time\", fontsize=16)\n",
    "axes[1].set_ylabel(\"D\", fontsize=16)\n",
    "axes[1].tick_params(labelsize=14)"
   ]
  },
  {
   "attachments": {},
   "cell_type": "markdown",
   "metadata": {},
   "source": [
    "## Datasets with variable number of change points\n",
    "\n",
    "So far we have shown how to build data sets with a fixed number of changepoints. In order to make a dataset that contains a variable number of change points, we can simply combine several of those in a smart way.\n",
    "\n",
    "This will make our models much more robust and allow us to generalize better to experimental data with an arbitrary number of changes along the trajectories."
   ]
  },
  {
   "cell_type": "code",
   "execution_count": null,
   "metadata": {},
   "outputs": [],
   "source": [
    "#| export\n",
    "def combine_datasets(datasets, shuffle=True):\n",
    "    \"Combines data sets together.\"\n",
    "    dataset = pd.concat(datasets, ignore_index=True)\n",
    "    if shuffle: dataset = dataset.sample(frac=1).reset_index(drop=True)\n",
    "    return dataset"
   ]
  },
  {
   "attachments": {},
   "cell_type": "markdown",
   "metadata": {},
   "source": [
    "### Example: Brownian motion\n",
    "\n",
    "With this code, we have generated the main test set of Brownian motion trajectories to validate our models."
   ]
  },
  {
   "cell_type": "code",
   "execution_count": null,
   "metadata": {},
   "outputs": [],
   "source": [
    "N_per_set = 12000\n",
    "max_t = 200\n",
    "dim = 2\n",
    "Ds = np.logspace(-3, 3, 1000) \n",
    "cps = [1, 2, 3, 4]\n",
    "# Choose a function to create datasets either brownian motion or anomalous diffusion\n",
    "ds_fun = partial(create_bm_segmentation_dataset,\n",
    "                 max_t=max_t, dim=dim, Ds=Ds, save=False)"
   ]
  },
  {
   "cell_type": "code",
   "execution_count": null,
   "metadata": {},
   "outputs": [],
   "source": [
    "datasets = [ds_fun(N_per_set, n_change_points=n_cp) for n_cp in cps]\n",
    "dataset = combine_datasets(datasets)\n",
    "\n",
    "save_path = DATA_PATH/get_bmds_fname(f'{min(cps)}_to_{max(cps)}_test', max_t, dim)\n",
    "dataset.to_pickle(save_path)"
   ]
  },
  {
   "attachments": {},
   "cell_type": "markdown",
   "metadata": {},
   "source": [
    "### Example: anomalous diffusion\n",
    "\n",
    "With this code, we have generated the main test set of anomalous diffusion trajectories to validate our models."
   ]
  },
  {
   "cell_type": "code",
   "execution_count": null,
   "metadata": {},
   "outputs": [],
   "source": [
    "N_per_set = 12500\n",
    "max_t = 200\n",
    "dim = 2 \n",
    "cps = [1, 2, 3, 4]\n",
    "# Choose a function to create datasets either brownian motion or anomalous diffusion\n",
    "ds_fun = partial(create_andi_segmentation_dataset,\n",
    "                 models=models, max_t=max_t, dim=dim, noise=[0.], save=False)"
   ]
  },
  {
   "cell_type": "code",
   "execution_count": null,
   "metadata": {},
   "outputs": [],
   "source": [
    "datasets = [ds_fun(N_per_set, n_change_points=n_cp) for n_cp in cps]\n",
    "dataset = combine_datasets(datasets)\n",
    "\n",
    "save_path = DATA_PATH/get_andids_fname(f'{min(cps)}_to_{max(cps)}_test', max_t, dim)\n",
    "dataset.to_pickle(save_path)"
   ]
  },
  {
   "attachments": {},
   "cell_type": "markdown",
   "metadata": {},
   "source": [
    "# Validation with AnDi\n",
    "\n",
    "It is useful to validate our models over the [AnDi challenge](http://andi-challenge.org/) data sets to compare them with the top performing models of the challenge.\n",
    "\n",
    "By default, we asume the data is in `DATA_PATH/andi_val_{task_number}`."
   ]
  },
  {
   "cell_type": "code",
   "execution_count": null,
   "metadata": {},
   "outputs": [],
   "source": [
    "#| export\n",
    "def load_andi_data(dim=1, task=1, path=None):\n",
    "    \"Loads data from AnDi.\"\n",
    "    path = DATA_PATH/f'andi_val_{task}' if path is None else path\n",
    "    try: \n",
    "        df = pd.read_pickle(path.with_suffix(\".pkl\"))\n",
    "    except: \n",
    "        _txt2df(path)\n",
    "        df = pd.read_pickle(path.with_suffix(\".pkl\"))    \n",
    "    return df[df['dim']==dim].reset_index(drop=True)\n",
    "\n",
    "def _txt2df(path):\n",
    "    \"Extracts dataset and saves it in a DataFrame.\"\n",
    "    txt_path = path.with_suffix(\".txt\")\n",
    "    toy_y = tensor([])\n",
    "    data = []\n",
    "    with open(txt_path, 'r') as f:\n",
    "        trajs = csv.reader(f, delimiter=\";\", lineterminator=\"\\n\",\n",
    "                           quoting=csv.QUOTE_NONNUMERIC)\n",
    "        for t in trajs:\n",
    "            dim, x = int(t[0]), tensor(t[1:])\n",
    "            x = x.view(dim, -1)\n",
    "            data.append({'dim': dim, 'len': x.shape[1], 'x': x, 'y': toy_y})\n",
    "    df = pd.DataFrame.from_records(data)\n",
    "    df.to_pickle(path.with_suffix(\".pkl\"))"
   ]
  },
  {
   "cell_type": "code",
   "execution_count": null,
   "metadata": {},
   "outputs": [
    {
     "data": {
      "text/plain": [
       "(10000, 4)"
      ]
     },
     "execution_count": null,
     "metadata": {},
     "output_type": "execute_result"
    }
   ],
   "source": [
    "df = load_andi_data(dim=2)\n",
    "df.shape"
   ]
  },
  {
   "cell_type": "code",
   "execution_count": null,
   "metadata": {},
   "outputs": [
    {
     "data": {
      "text/html": [
       "<div>\n",
       "<style scoped>\n",
       "    .dataframe tbody tr th:only-of-type {\n",
       "        vertical-align: middle;\n",
       "    }\n",
       "\n",
       "    .dataframe tbody tr th {\n",
       "        vertical-align: top;\n",
       "    }\n",
       "\n",
       "    .dataframe thead th {\n",
       "        text-align: right;\n",
       "    }\n",
       "</style>\n",
       "<table border=\"1\" class=\"dataframe\">\n",
       "  <thead>\n",
       "    <tr style=\"text-align: right;\">\n",
       "      <th></th>\n",
       "      <th>dim</th>\n",
       "      <th>len</th>\n",
       "      <th>x</th>\n",
       "      <th>y</th>\n",
       "    </tr>\n",
       "  </thead>\n",
       "  <tbody>\n",
       "    <tr>\n",
       "      <th>0</th>\n",
       "      <td>2</td>\n",
       "      <td>200</td>\n",
       "      <td>[[tensor(0.), tensor(-0.5156), tensor(-0.8383), tensor(-1.4615), tensor(-1.7552), tensor(-1.6362), tensor(-1.4192), tensor(-1.3548), tensor(-1.2144), tensor(-1.7406), tensor(-1.6199), tensor(-1.4474), tensor(-0.2902), tensor(0.5447), tensor(0.5666), tensor(0.1618), tensor(-0.1004), tensor(-0.1377), tensor(-1.1998), tensor(-1.9200), tensor(-3.1992), tensor(-4.4678), tensor(-5.7045), tensor(-6.3007), tensor(-6.6895), tensor(-7.5415), tensor(-7.9907), tensor(-9.3120), tensor(-10.1935), tensor(-10.5246), tensor(-11.5122), tensor(-12.5124), tensor(-13.6076), tensor(-13.9701), tensor(-14.3846), ...</td>\n",
       "      <td>[]</td>\n",
       "    </tr>\n",
       "    <tr>\n",
       "      <th>1</th>\n",
       "      <td>2</td>\n",
       "      <td>200</td>\n",
       "      <td>[[tensor(0.), tensor(1.8434), tensor(2.5901), tensor(3.3360), tensor(3.3675), tensor(5.1754), tensor(6.7046), tensor(6.5266), tensor(5.5823), tensor(4.2652), tensor(2.6675), tensor(2.0960), tensor(1.3606), tensor(-0.0349), tensor(-1.4965), tensor(-0.4068), tensor(-1.8796), tensor(-1.7324), tensor(-1.8430), tensor(-0.4918), tensor(0.8988), tensor(1.1704), tensor(2.8995), tensor(3.4126), tensor(3.3071), tensor(4.3777), tensor(4.9901), tensor(6.3406), tensor(7.1728), tensor(8.1412), tensor(9.1267), tensor(9.0713), tensor(9.1243), tensor(11.2437), tensor(12.1926), tensor(12.3969), tensor(12.98...</td>\n",
       "      <td>[]</td>\n",
       "    </tr>\n",
       "  </tbody>\n",
       "</table>\n",
       "</div>"
      ],
      "text/plain": [
       "  dim  len  \\\n",
       "0   2  200   \n",
       "1   2  200   \n",
       "\n",
       "                                                                                                                                                                                                                                                                                                                                                                                                                                                                                                                                                                                                                         x  \\\n",
       "0  [[tensor(0.), tensor(-0.5156), tensor(-0.8383), tensor(-1.4615), tensor(-1.7552), tensor(-1.6362), tensor(-1.4192), tensor(-1.3548), tensor(-1.2144), tensor(-1.7406), tensor(-1.6199), tensor(-1.4474), tensor(-0.2902), tensor(0.5447), tensor(0.5666), tensor(0.1618), tensor(-0.1004), tensor(-0.1377), tensor(-1.1998), tensor(-1.9200), tensor(-3.1992), tensor(-4.4678), tensor(-5.7045), tensor(-6.3007), tensor(-6.6895), tensor(-7.5415), tensor(-7.9907), tensor(-9.3120), tensor(-10.1935), tensor(-10.5246), tensor(-11.5122), tensor(-12.5124), tensor(-13.6076), tensor(-13.9701), tensor(-14.3846), ...   \n",
       "1  [[tensor(0.), tensor(1.8434), tensor(2.5901), tensor(3.3360), tensor(3.3675), tensor(5.1754), tensor(6.7046), tensor(6.5266), tensor(5.5823), tensor(4.2652), tensor(2.6675), tensor(2.0960), tensor(1.3606), tensor(-0.0349), tensor(-1.4965), tensor(-0.4068), tensor(-1.8796), tensor(-1.7324), tensor(-1.8430), tensor(-0.4918), tensor(0.8988), tensor(1.1704), tensor(2.8995), tensor(3.4126), tensor(3.3071), tensor(4.3777), tensor(4.9901), tensor(6.3406), tensor(7.1728), tensor(8.1412), tensor(9.1267), tensor(9.0713), tensor(9.1243), tensor(11.2437), tensor(12.1926), tensor(12.3969), tensor(12.98...   \n",
       "\n",
       "    y  \n",
       "0  []  \n",
       "1  []  "
      ]
     },
     "metadata": {},
     "output_type": "display_data"
    }
   ],
   "source": [
    "df.head(2)"
   ]
  },
  {
   "attachments": {},
   "cell_type": "markdown",
   "metadata": {},
   "source": [
    "# DataLoaders\n",
    "\n",
    "Data loaders are essential to train our machine learning models. We provide functions that load the data and return appropiate `fastai.DataLoaders` for the segmentation tasks."
   ]
  },
  {
   "cell_type": "code",
   "execution_count": null,
   "metadata": {},
   "outputs": [],
   "source": [
    "#| export\n",
    "def load_dataset(n_change=1, max_t=200, dim=1, path=None, bm=False):\n",
    "    \"Loads dataset according to `n_change`, `max_t` and `dim` or straight from `path`.\"\n",
    "    name_fn = get_bmds_fname if bm else get_andids_fname\n",
    "    load_path = DATA_PATH/name_fn(n_change, max_t, dim) if path is None else path\n",
    "    return pd.read_pickle(load_path)"
   ]
  },
  {
   "cell_type": "code",
   "execution_count": null,
   "metadata": {},
   "outputs": [],
   "source": [
    "#| export\n",
    "@delegates(load_dataset)\n",
    "def get_segmentation_dls(\n",
    "    target:str='y_mod',       # Task target `y_mod`, `y_exp` or `y` for both. \n",
    "    models:list|None=None,    # List of models to consider. Defaults to all.\n",
    "    exps:Iterable|None=None,  # List of anomalous exponents to consider. Deafults to all.\n",
    "    size:int|None=None,       # Maximum data set size. Defaults to full data set.\n",
    "    bs:int=128,               # Batch size.\n",
    "    split_pct:float=0.2,      # Validation set split percentage from training data.\n",
    "    shuffle:bool=True,        # Shuffle the dataset.\n",
    "    tfm_y:Callable|None=None, # Transformation to apply to the target, e.g., `torch.log10`.\n",
    "    n_change:int|str=1,       # Number of changes in the trajectories, e.g., '1_to_4'.\n",
    "    **kwargs\n",
    "    )->DataLoaders:\n",
    "    \"Obtain `DataLoaders` from dataset filtered by `models` and `exps` to predict `target`.\"\n",
    "    ds = load_dataset(**kwargs)\n",
    "    if models is not None or exps is not None: ds = _filter_dataset(ds, models, exps, n_change)\n",
    "    if size is not None and size <= ds.shape[0]: ds = _subsample_dataset(ds, size)\n",
    "    x = ds['x'].map(partial(torch.transpose, dim0=1, dim1=0))\n",
    "    y = ds[target].map(torch.squeeze)\n",
    "    if tfm_y is not None: y = y.map(tfm_y)\n",
    "    ds = L(zip(x, y))\n",
    "    return _get_dls_from_ds(ds, split_pct=split_pct, bs=bs, shuffle=shuffle)\n",
    "\n",
    "def _filter_dataset(dataset, models=None, exps=None, n_change=1):\n",
    "    \"Returns dataset filtered by `models` and `exps`.\"\n",
    "    if models is not None: dataset = dataset[_check_in(dataset.models, models, n_change)]\n",
    "    if exps is not None:   dataset = dataset[_check_in(dataset.exps, exps, n_change)]\n",
    "    return dataset\n",
    "\n",
    "def _check_in(series, objects, n_change):\n",
    "    \"Checks whether objects are in elements of a given `pandas.Series`.\"\n",
    "    return sum([series.apply(lambda x: o in x) for o in objects]) > n_change\n",
    "\n",
    "def _subsample_dataset(dataset, n_max):\n",
    "    \"Takes `n_max` samples from `dataset` in `pandas.DataFrame` format.\"\n",
    "    return dataset.sample(n_max).reset_index(drop=True)\n",
    "\n",
    "def _get_dls_from_ds(ds, split_pct=0.2, bs=128, shuffle=True):\n",
    "    \"Returns `DataLoaders` built from `ds`.\"\n",
    "    idx = torch.randperm(len(ds)) if shuffle else tensor(range(len(ds)))\n",
    "    cut = int(len(ds)*split_pct)\n",
    "    train_ds, val_ds = ds[idx[cut:]], ds[idx[:cut]]\n",
    "    return DataLoaders.from_dsets(train_ds, val_ds, bs=bs, shuffle=shuffle)"
   ]
  },
  {
   "attachments": {},
   "cell_type": "markdown",
   "metadata": {},
   "source": [
    "This is the main function to obtain `DataLoaders` for a segmentation task. These provide the trajetories with their corresponding labels at every time step.\n",
    "\n",
    "Let's see an example for a classification task (setting `target='y_mod'`). We take a sub-sample of the dataset of `size=100` with a batch size `bs=4`."
   ]
  },
  {
   "cell_type": "code",
   "execution_count": null,
   "metadata": {},
   "outputs": [
    {
     "data": {
      "text/plain": [
       "(torch.Size([4, 200, 1]), torch.Size([4, 200]))"
      ]
     },
     "metadata": {},
     "output_type": "display_data"
    }
   ],
   "source": [
    "seg_dls = get_segmentation_dls(size=100, bs=4)\n",
    "x, y = seg_dls.one_batch()\n",
    "x.shape, y.shape"
   ]
  },
  {
   "attachments": {},
   "cell_type": "markdown",
   "metadata": {},
   "source": [
    "In this example, we have 1-dimensional trajectories with 200 time steps. Thus, the target is also 200 frames long. "
   ]
  },
  {
   "cell_type": "code",
   "execution_count": null,
   "metadata": {},
   "outputs": [
    {
     "data": {
      "text/plain": [
       "(tensor([[0.0000],\n",
       "         [3.3110],\n",
       "         [4.2102],\n",
       "         [7.4056],\n",
       "         [4.6176]]),\n",
       " tensor([3, 3, 3, 3, 3]))"
      ]
     },
     "metadata": {},
     "output_type": "display_data"
    }
   ],
   "source": [
    "x[0, :5], y[0, :5]"
   ]
  },
  {
   "cell_type": "code",
   "execution_count": null,
   "metadata": {},
   "outputs": [],
   "source": [
    "#| export\n",
    "@delegates(TfmdLists.dataloaders)\n",
    "def get_transformer_dls(target='y_mod', dim=1, n_change=1, max_t=200, valid_pct=0.2, models=None,\n",
    "                        exps=None, size=None, data_path=None, init_token=None, **kwargs):\n",
    "    \"Obtain `DataLoaders` from filtered dataset prepared for transformer training.\"\n",
    "    ds = load_dataset(n_change=n_change, max_t=max_t, dim=dim, path=data_path)\n",
    "    if models is not None or exps is not None: ds = _filter_dataset(ds, models, exps, n_change)\n",
    "    if size is not None and size <= ds.shape[0]: ds = _subsample_dataset(ds, size)\n",
    "    n_class = _get_n_class(target, ds)\n",
    "    splits = RandomSplitter(valid_pct=valid_pct)(list(ds.index))\n",
    "    tfm = SegmentationTransform(target=target, n_class=n_class, init_token=init_token)\n",
    "    tfl = TfmdLists(ds, tfm, splits=splits)\n",
    "    return tfl.dataloaders(**kwargs)\n",
    "\n",
    "class SegmentationTransform(Transform):\n",
    "    def __init__(self, target='y_mod', n_class=5, init_token=None):\n",
    "        \"Transform to process rows from dataset in `pandas.DataFrame` format.\"\n",
    "        store_attr('target,n_class,init_token')\n",
    "        self.one_hot_encode = target == 'y' or target == 'y_mod'\n",
    "        \n",
    "    def encodes(self, row):\n",
    "        x, y = self._get_xy(row)\n",
    "        y_one_hot = _one_hot_encode(y, self.n_class) if self.one_hot_encode else deepcopy(y)\n",
    "        y_one_hot = _prepend_initial_token(y_one_hot, self.init_token)\n",
    "        return (x, y_one_hot.squeeze(), y.squeeze())\n",
    "        \n",
    "    def _get_xy(self, row):\n",
    "        return row['x'].transpose(1,0), row[self.target].transpose(1,0)\n",
    "\n",
    "def _one_hot_encode(sample, n_class=5):\n",
    "    \"One-hot encodes the labels in sample.\"\n",
    "    idx = sample[:, 0].long().unsqueeze(-1)\n",
    "    one_hot_sample = torch.zeros(idx.shape[0], n_class)\n",
    "    one_hot_sample.scatter_(-1, idx, 1)\n",
    "    if sample.shape[1] == 2: one_hot_sample[:, -1] = deepcopy(sample[:, -1])\n",
    "    return one_hot_sample\n",
    "\n",
    "def _prepend_initial_token(sample, token=None):\n",
    "    \"Prepends an initial token into the sample trajectory dropping the last point.\"\n",
    "    if token is None: token = DEFAULT_TOKEN * torch.ones([1, sample.shape[1]])\n",
    "    return torch.cat([token, sample[:-1]], dim=0)\n",
    "\n",
    "def _get_n_class(task, df):\n",
    "    \"Figures the output size for the `task` (prediction target) given the dataset `df`.\"\n",
    "    if task == 'y_exp': return 1\n",
    "    else: \n",
    "        n_class = len(torch.cat(tuple(df['models'])).unique())\n",
    "        if task == 'y': n_class += 1\n",
    "    return n_class"
   ]
  },
  {
   "attachments": {},
   "cell_type": "markdown",
   "metadata": {},
   "source": [
    "Transformer data loaders provide three items: raw trajectory (src), one-hot encoding of labels (tgt) and the labels to compute the loss. These are mainly intended for pointwise classification tasks, such as inferring the anomalous diffusion model behind the simulation. Otherwise, the one-hot-encoding does not make much sense."
   ]
  },
  {
   "cell_type": "code",
   "execution_count": null,
   "metadata": {},
   "outputs": [],
   "source": [
    "tfm_dls = get_transformer_dls(size=100, bs=4)"
   ]
  },
  {
   "cell_type": "code",
   "execution_count": null,
   "metadata": {},
   "outputs": [
    {
     "data": {
      "text/plain": [
       "(torch.Size([4, 200, 1]), torch.Size([4, 200, 5]), torch.Size([4, 200]))"
      ]
     },
     "execution_count": null,
     "metadata": {},
     "output_type": "execute_result"
    }
   ],
   "source": [
    "x, y_one_hot, y = tfm_dls.one_batch()\n",
    "x.shape, y_one_hot.shape, y.shape"
   ]
  },
  {
   "cell_type": "code",
   "execution_count": null,
   "metadata": {},
   "outputs": [
    {
     "data": {
      "text/plain": [
       "(tensor([[ 0.0000],\n",
       "         [-0.0976],\n",
       "         [-0.0456],\n",
       "         [ 0.0426],\n",
       "         [ 0.0395]], device='cuda:0'),\n",
       " tensor([[-1., -1., -1., -1., -1.],\n",
       "         [ 0.,  0.,  1.,  0.,  0.],\n",
       "         [ 0.,  0.,  1.,  0.,  0.],\n",
       "         [ 0.,  0.,  1.,  0.,  0.],\n",
       "         [ 0.,  0.,  1.,  0.,  0.]], device='cuda:0'),\n",
       " tensor([2, 2, 2, 2, 2], device='cuda:0'))"
      ]
     },
     "execution_count": null,
     "metadata": {},
     "output_type": "execute_result"
    }
   ],
   "source": [
    "idx = 0\n",
    "x[idx, :5], y_one_hot[idx, :5], y[idx, :5]"
   ]
  },
  {
   "cell_type": "code",
   "execution_count": null,
   "metadata": {},
   "outputs": [],
   "source": [
    "#| export\n",
    "@delegates(load_andi_data)\n",
    "def get_andi_valid_dls(bs=128, pct=1, **kwargs):\n",
    "    \"Obtain `DataLoaders` from AnDi challenge validation data.\"\n",
    "    ds = load_andi_data(**kwargs)\n",
    "    x = ds['x'].map(partial(torch.transpose, dim0=1, dim1=0))\n",
    "    y = ds['y']\n",
    "    ds = L(zip(x, y))\n",
    "    return _get_dls_from_ds(ds, split_pct=pct, bs=bs, shuffle=False)"
   ]
  },
  {
   "attachments": {},
   "cell_type": "markdown",
   "metadata": {},
   "source": [
    "When validating on the [AnDi challenge](http://andi-challenge.org/) data, in some cases, it may be convenient to work with `DataLoaders` instaed of `DataFrames`, which can be obtained through `load_andi_data`. These are mainly intended to test our models. Thus, notice that the split percentage for train/validation is set to 100% validation by default. "
   ]
  },
  {
   "cell_type": "code",
   "execution_count": null,
   "metadata": {},
   "outputs": [
    {
     "data": {
      "text/plain": [
       "(torch.Size([128, 200, 2]), torch.Size([128, 0]))"
      ]
     },
     "execution_count": null,
     "metadata": {},
     "output_type": "execute_result"
    }
   ],
   "source": [
    "andi_dls = get_andi_valid_dls(dim=2)\n",
    "x, y = andi_dls.valid.one_batch()\n",
    "x.shape, y.shape"
   ]
  },
  {
   "cell_type": "code",
   "execution_count": null,
   "metadata": {},
   "outputs": [
    {
     "data": {
      "text/plain": [
       "tensor([[ 0.0000,  0.0000],\n",
       "        [-0.5156,  0.5875],\n",
       "        [-0.8383,  0.5096],\n",
       "        [-1.4615,  0.5320],\n",
       "        [-1.7552,  0.4109]])"
      ]
     },
     "execution_count": null,
     "metadata": {},
     "output_type": "execute_result"
    }
   ],
   "source": [
    "x[0, :5]"
   ]
  }
 ],
 "metadata": {
  "kernelspec": {
   "display_name": "andi",
   "language": "python",
   "name": "python3"
  }
 },
 "nbformat": 4,
 "nbformat_minor": 4
}
