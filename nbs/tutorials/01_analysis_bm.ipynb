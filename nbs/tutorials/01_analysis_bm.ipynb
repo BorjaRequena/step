{
 "cells": [
  {
   "attachments": {},
   "cell_type": "markdown",
   "id": "1a24cbe9-b619-4704-848c-65d764bc4b77",
   "metadata": {},
   "source": [
    "# Benchmark: Brownian motion\n",
    "> We show how to use our approach to study Brownian motion trajectories with changes."
   ]
  },
  {
   "cell_type": "code",
   "execution_count": null,
   "id": "474e76b0",
   "metadata": {},
   "outputs": [],
   "source": [
    "#| hide\n",
    "from step.data import *\n",
    "from step.models import *\n",
    "from step.utils import *\n",
    "from step.baselines import diffusion_coefficient_tamsd\n",
    "\n",
    "from tqdm.auto import tqdm\n",
    "from fastai.vision.all import *"
   ]
  },
  {
   "attachments": {},
   "cell_type": "markdown",
   "id": "4e54ab99-8d23-45c7-ad17-497354abd7e8",
   "metadata": {},
   "source": [
    "The main goal is to characterize heterogeneous diffusion processes without any kind of prior konwledge. To do so, we predict the diffusion coefficient at every time step, which naturally highlights potential changes in the behaviour along the trajectories. This allows us to obtain a deeper understanding of the underlying physical systems that drive the dynamics. \n",
    "\n",
    "In the following analysis, we provide a thorough characterization of the model performance in terms of the segment lengths, the number of segments, the position of the change points, the differences between the segments along a trajectory, and the amount of localization noise that we may have."
   ]
  },
  {
   "attachments": {},
   "cell_type": "markdown",
   "id": "aa3742b7-49d1-46d9-8cb6-8291194412e9",
   "metadata": {},
   "source": [
    "# Load the model\n",
    "First of all, we need to load a trained model with which to perform the analysis.\n",
    "\n",
    "::: {.callout-note}\n",
    "We refer to the [model training tutorial](https://borjarequena.github.io/step/tutorials/00_model_training.html) for details about how to train and save your models.\n",
    ":::\n",
    "\n",
    "To load the models within a `Leaner`, we need to provide some data loaders. However, we will use the model to study various scenarios, so we provide an empty dataloader and load the different data sets as we need them."
   ]
  },
  {
   "cell_type": "code",
   "execution_count": null,
   "id": "aee989b0-8ca8-4f7c-91bf-293f912800f0",
   "metadata": {},
   "outputs": [],
   "source": [
    "dim = 2\n",
    "dls = DataLoaders.from_dsets([], []) # Empty train and validation datasets\n",
    "model = XResAttn(dim, n_class=1, stem_szs=(64,), conv_blocks=[1, 1, 1],\n",
    "                 block_szs=[128, 256, 512], pos_enc=False,\n",
    "                 n_encoder_layers=4, dim_ff=512, nhead_enc=8,\n",
    "                 linear_layers=[], norm=False, yrange=(-3.1, 3.1))\n",
    "model.to(default_device())\n",
    "learn_diff = Learner(dls, model, loss_func=L1LossFlat(), model_dir=MODEL_PATH)"
   ]
  },
  {
   "attachments": {},
   "cell_type": "markdown",
   "id": "26bbea77",
   "metadata": {},
   "source": [
    "Now we can load the trained model weights."
   ]
  },
  {
   "cell_type": "code",
   "execution_count": null,
   "id": "0a82fa0b-5a40-42a0-8272-2aa7ff185c10",
   "metadata": {},
   "outputs": [],
   "source": [
    "learn_diff.load(f'xresattn_bm_{dim}d_1_to_4cp')\n",
    "learn_diff.model.eval();"
   ]
  },
  {
   "attachments": {},
   "cell_type": "markdown",
   "id": "35835a43",
   "metadata": {},
   "source": [
    "::: {.callout-warning}\n",
    "It is very important to define the model exactly with the same layers as we did during training. Otherwise, we won't be able to load the trained parameters!\n",
    ":::\n",
    "\n",
    "# Pointwise prediction error\n",
    "\n",
    "We study the overall performance of the method over heterogeneous Brownian motion trajectories. We look at the performance as function of the segment length and its resilience to noise.\n",
    "\n",
    "We compare our approach with a reference method based on the time-averaged mean squared displacement (TA-MSD) (see [baselines]()). However, since this method cannot account for any heterogeneity in the trajectories, we provide it with the pre-segmented trajectories. This provides it with a massive advantage and, thus, we also pass the pre-cut segments through our model. \n",
    "\n",
    "With this segment-wise analysis, we can easily study the performance of all the methods as function of the segment lengths. \n",
    "\n",
    "## Generate the data\n",
    "\n",
    "To evaluate the different methods, we need a proper test set. We can generate one in the same way that we genereate the train set in the [model training tutorial](https://borjarequena.github.io/step/tutorials/00_model_training.html).\n",
    "\n",
    "::: {.callout-note}\n",
    "Skip the data generation if you already have a test set!\n",
    ":::"
   ]
  },
  {
   "cell_type": "code",
   "execution_count": null,
   "id": "edfee5c7-8713-4847-b7c0-0292fe3efe6c",
   "metadata": {},
   "outputs": [],
   "source": [
    "# OPTIONAL: create the test set. Don't need to run this cell if it already exists.\n",
    "N_per_set, max_t, dim = 12000, 200, 2\n",
    "Ds = np.logspace(-3, 3, 1000) \n",
    "cps = [1, 2, 3, 4]\n",
    "ds_fun = partial(create_bm_segmentation_dataset,\n",
    "                 max_t=max_t, dim=dim, Ds=Ds, save=False)\n",
    "datasets = [ds_fun(N_per_set, n_change_points=n_cp) for n_cp in cps]\n",
    "ds = combine_datasets(datasets)\n",
    "save_path = DATA_PATH/get_bmds_fname(f\"{min(cps)}_to_{max(cps)}_test\", max_t, dim)\n",
    "ds.to_pickle(save_path)"
   ]
  },
  {
   "attachments": {},
   "cell_type": "markdown",
   "id": "2f652f53",
   "metadata": {},
   "source": [
    "Load the test set."
   ]
  },
  {
   "cell_type": "code",
   "execution_count": null,
   "id": "e41c5b17-baec-45ec-ab32-68e72a56b255",
   "metadata": {},
   "outputs": [],
   "source": [
    "# Skip this cell if you just generated it.\n",
    "ds_name = '1_to_4_test'\n",
    "ds = load_dataset(n_change=ds_name, dim=dim, bm=True)"
   ]
  },
  {
   "attachments": {},
   "cell_type": "markdown",
   "id": "3648059c",
   "metadata": {},
   "source": [
    "We also load the data as data loaders with `split_pct=1` (all data for validation). This allows us to loop over batches much more easily setting `shuffle=False`."
   ]
  },
  {
   "cell_type": "code",
   "execution_count": null,
   "id": "5e06363b-ef27-43ca-91fb-5f396f92f835",
   "metadata": {},
   "outputs": [],
   "source": [
    "bs = 200\n",
    "dls = get_segmentation_dls(target='y_exp', dim=dim, n_change=ds_name,\n",
    "                           tfm_y=torch.log10, bm=True, bs=bs,\n",
    "                           shuffle=False, split_pct=1.)\n",
    "dls.device = default_device()"
   ]
  },
  {
   "attachments": {},
   "cell_type": "markdown",
   "id": "5f2388d8-c3e4-4435-a094-78563621ac94",
   "metadata": {},
   "source": [
    "## Get the predictions\n",
    "\n",
    "We now perform the predictions of the trajectories as a whole and store them in the dataframe to process them later."
   ]
  },
  {
   "cell_type": "code",
   "execution_count": null,
   "id": "609b0397-a94c-4293-b9c0-0223d520bb34",
   "metadata": {},
   "outputs": [
    {
     "data": {
      "application/vnd.jupyter.widget-view+json": {
       "model_id": "dc1fe43a5d4e45498f7271f4cb315e3a",
       "version_major": 2,
       "version_minor": 0
      },
      "text/plain": [
       "0it [00:00, ?it/s]"
      ]
     },
     "metadata": {},
     "output_type": "display_data"
    }
   ],
   "source": [
    "for i, (x, y) in tqdm(enumerate(dls.valid)):\n",
    "    pred = to_detach(learn_diff.model(x).squeeze())\n",
    "    metric = to_detach((learn_diff.model(x).squeeze()-y).abs().mean(-1)) # MAE\n",
    "    l_pred = np.array([p for p in pred], dtype=object)\n",
    "    ds.loc[i*bs:(i+1)*bs-1, 'mae'] = metric.numpy()\n",
    "    ds.loc[i*bs:(i+1)*bs-1, 'pred'] = l_pred"
   ]
  },
  {
   "attachments": {},
   "cell_type": "markdown",
   "id": "102fb2e6-ac43-4be3-b335-af3734be1d57",
   "metadata": {},
   "source": [
    "With the full-trajectory predictions, we can proceed to perform the segment-wise analysis. We split the trajectories and their predictions by the *true* changepoints. Then, we perform the prediction especifically for each segment with both the model and the TA-MSD method. We choose the standard TA-MSD 2-4 to perform the evaluation.\n",
    "\n",
    "Let's define some functions to simplify the code."
   ]
  },
  {
   "cell_type": "code",
   "execution_count": null,
   "id": "8b1f611c-a9f2-450f-a706-1619d9625c95",
   "metadata": {},
   "outputs": [],
   "source": [
    "def predict(model, x):\n",
    "    xb = x.unsqueeze(0).to(default_device())\n",
    "    return to_detach(model(xb).squeeze())\n",
    "\n",
    "def mean_absolute_error(pred, true): \n",
    "    return (pred - true).abs().mean()\n",
    "\n",
    "def mean_relative_error(pred, true, base=10): \n",
    "    error = pred - true\n",
    "    return (base**error - 1).abs().mean()"
   ]
  },
  {
   "attachments": {},
   "cell_type": "markdown",
   "id": "09ba3815",
   "metadata": {},
   "source": [
    "Now we can proceed to process the trajectories. The following piece of code is rather chonky so let us give a brief overview. For every trajectory (outer loop), we process each of its segments (inner loop). For every segment, we compute the mean absolute error (MAE) and the mean relative error with the three aforementioned approaches."
   ]
  },
  {
   "cell_type": "code",
   "execution_count": null,
   "id": "e804aa37-84fc-4230-bf52-9ae6fcf25c47",
   "metadata": {},
   "outputs": [
    {
     "data": {
      "application/vnd.jupyter.widget-view+json": {
       "model_id": "24b1146bc980410681d154a55d686a04",
       "version_major": 2,
       "version_minor": 0
      },
      "text/plain": [
       "0it [00:00, ?it/s]"
      ]
     },
     "metadata": {},
     "output_type": "display_data"
    }
   ],
   "source": [
    "segment_data = []\n",
    "\n",
    "for i, row in tqdm(ds.iterrows()):\n",
    "    x, y, pred, cps = row.x, torch.log10(row.y_exp.squeeze()), row.pred, row.cp\n",
    "    split_x = split_tensor(x.T, cps)\n",
    "    split_y, split_pred = split_tensor(y, cps), split_tensor(pred, cps)\n",
    "    \n",
    "    for j, (seg_x, seg_y, pred_cut) in enumerate(zip(split_x, split_y, split_pred)):\n",
    "        # Prediction over full trajectory cut with true changepoints\n",
    "        mae = mean_absolute_error(pred_cut, seg_y)\n",
    "        rel_err = mean_relative_error(pred_cut, seg_y)\n",
    "        mae_mean = mean_absolute_error(pred_cut.mean(), seg_y[0])\n",
    "        rel_err_mean = (10**(pred_cut.mean() - seg_y[0]) - 1).abs()\n",
    "        \n",
    "        # Prediction over segment\n",
    "        pred_segment = predict(learn_diff.model, seg_x - seg_x[0])\n",
    "        mae_segment = mean_absolute_error(pred_segment, seg_y)\n",
    "        rel_err_segment = mean_relative_error(pred_segment, seg_y)\n",
    "        mae_segment_mean = mean_absolute_error(pred_segment.mean(), seg_y[0])\n",
    "        rel_err_segment_mean = (10**(pred_segment.mean() - seg_y[0]) - 1).abs()\n",
    "        \n",
    "        # Prediction over segment with TA-MSD\n",
    "        pred_tmsd = diffusion_coefficient_tamsd(seg_x)\n",
    "        mae_tmsd = mean_absolute_error(pred_tmsd, 10**seg_y[0])\n",
    "        rel_err_tmsd = (pred_tmsd*10**(-seg_y[0]) - 1).abs()\n",
    "        \n",
    "        # Save the segment metrics\n",
    "        segment_data.append({'sample': i, 'segment_idx': j, 'length': len(seg_y),\n",
    "                             'x': seg_x, 'y': seg_y, 'pred_cut': pred_cut,\n",
    "                             'pred_segment': pred_segment, 'pred_tmsd': pred_tmsd,\n",
    "                             'mae': mae, 'rel_err': rel_err, 'mae_mean': mae_mean,\n",
    "                             'rel_err_mean': rel_err_mean,\n",
    "                             'mae_segment': mae_segment,\n",
    "                             'rel_err_segment': rel_err_segment,\n",
    "                             'mae_segment_mean': mae_segment_mean,\n",
    "                             'rel_err_segment_mean': rel_err_segment_mean,\n",
    "                             'mae_tmsd': mae_tmsd,\n",
    "                             'rel_err_tmsd': rel_err_tmsd})\n",
    "segment_ds = pd.DataFrame.from_records(segment_data)"
   ]
  },
  {
   "cell_type": "markdown",
   "id": "0727ec71-3570-4bf4-aec4-6a67c1563b10",
   "metadata": {},
   "source": [
    "Finally, we save all the data for its posterior post-processing. It is extremely heavy and slow :D"
   ]
  },
  {
   "cell_type": "code",
   "execution_count": null,
   "id": "6cdd492c-d449-4f58-943b-1ae5ffb05262",
   "metadata": {},
   "outputs": [],
   "source": [
    "segment_ds.to_pickle(DATA_PATH/\"segment_analysis_test.pkl\")"
   ]
  },
  {
   "cell_type": "code",
   "execution_count": null,
   "id": "95b7a0f8-46d3-4d03-bb9d-86672a93dfc5",
   "metadata": {},
   "outputs": [],
   "source": [
    "segment_ds = pd.read_pickle(DATA_PATH/\"segment_analysis_test.pkl\")"
   ]
  },
  {
   "cell_type": "markdown",
   "id": "4e56e5d4-828c-43ff-8574-6053fb6bfb61",
   "metadata": {},
   "source": [
    "## Compute the metrics\n",
    "\n",
    "We are interested in the errors performed by each method as a function of the segment length."
   ]
  },
  {
   "cell_type": "code",
   "execution_count": null,
   "id": "e26929ad-a0d7-4dcf-87c0-f0543667799e",
   "metadata": {},
   "outputs": [],
   "source": [
    "lengths = segment_ds.length.unique().astype(int)\n",
    "lengths.sort()\n",
    "\n",
    "metrics = ['err', 'err_mean', 'err_segment', 'err_segment_mean', 'err_tmsd']\n",
    "metric_by_length = {m: {'mean': [], 'sem': [], 'global': None} for m in metrics}\n",
    "\n",
    "for m in metrics:\n",
    "    means = [getattr(segment_ds, f\"rel_{m}\")[segment_ds.length == l].mean()\n",
    "             for l in lengths]\n",
    "    sems = [getattr(segment_ds, f\"rel_{m}\")[segment_ds.length == l].sem()\n",
    "            for l in lengths]\n",
    "        \n",
    "    metric_by_length[m]['mean'] = np.array(means)\n",
    "    metric_by_length[m]['sem'] = np.array(sems)\n",
    "    metric_by_length[m]['global'] = ((getattr(segment_ds,\n",
    "                                              f\"rel_{m}\")*segment_ds.length).sum() /\n",
    "                                      segment_ds.length.sum())"
   ]
  },
  {
   "attachments": {},
   "cell_type": "markdown",
   "id": "de9850e4-3e51-4ef8-bbd6-c08b2bcd7e8d",
   "metadata": {},
   "source": [
    "We save all these metrics to plot them nicely later."
   ]
  },
  {
   "cell_type": "code",
   "execution_count": null,
   "id": "8db59d59-f992-46c4-9693-af95630b71e4",
   "metadata": {},
   "outputs": [],
   "source": [
    "figure_name = \"relative_error_segment_length\"\n",
    "plot_data_path = (FIG_PATH/figure_name).with_suffix(\".pkl\")\n",
    "\n",
    "with open(plot_data_path, 'wb') as f:\n",
    "    pickle.dump(metric_by_length, f, protocol=pickle.HIGHEST_PROTOCOL)"
   ]
  },
  {
   "cell_type": "markdown",
   "id": "f1c96802-a711-437a-ab1f-24ddb6fa0afd",
   "metadata": {},
   "source": [
    "## Plot the data\n",
    "\n",
    "Let's start by loading the data for the plot."
   ]
  },
  {
   "cell_type": "code",
   "execution_count": null,
   "id": "dce547ac-54a5-42a5-8453-f1773a5cc423",
   "metadata": {},
   "outputs": [],
   "source": [
    "figure_name = \"relative_error_segment_length\"\n",
    "plot_data_path = (FIG_PATH/figure_name).with_suffix(\".pkl\")"
   ]
  },
  {
   "cell_type": "code",
   "execution_count": null,
   "id": "f342817b-bffb-4bf3-b14a-d03a389fb30f",
   "metadata": {},
   "outputs": [],
   "source": [
    "with open(plot_data_path, 'rb') as f:\n",
    "    metric_by_length = pickle.load(f)"
   ]
  },
  {
   "cell_type": "markdown",
   "id": "28d7ec94-2d09-4e76-87d6-cf7b86f28bb4",
   "metadata": {},
   "source": [
    "Ready to go! Format as you please."
   ]
  },
  {
   "cell_type": "code",
   "execution_count": null,
   "id": "5245cf68-81de-4696-bebc-d55fe71c0b02",
   "metadata": {},
   "outputs": [
    {
     "data": {
      "image/png": "[encoded data removed]",
      "text/plain": [
       "<Figure size 576x342 with 1 Axes>"
      ]
     },
     "metadata": {
      "needs_background": "light"
     },
     "output_type": "display_data"
    }
   ],
   "source": [
    "#| code-fold: true\n",
    "labels = ['prediction on full trajectory', 'prediction with known segments', 'TA-MSD with known segments']\n",
    "lengths = np.arange(10, 191)\n",
    "\n",
    "plt.figure(figsize=(8, 4.75))\n",
    "for i, m in enumerate(metric_by_length.keys()): \n",
    "    linestyle = '-' if i%2 == 0 else 'dotted'\n",
    "    mean, sem = metric_by_length[m]['mean'], metric_by_length[m]['sem']\n",
    "    label = labels[i//2] if i%2 == 0 else None\n",
    "    plt.plot(lengths, mean, linestyle=linestyle, color=f'C{i//2}', label=label)\n",
    "    plt.fill_between(lengths, mean - sem, mean + sem, color=f'C{i//2}', alpha=0.3)\n",
    "\n",
    "plt.legend(fontsize=14)\n",
    "plt.grid()\n",
    "plt.xlim([7, 192])\n",
    "plt.ylim([0.1, 1.05])\n",
    "plt.tick_params(labelsize=14)\n",
    "plt.xlabel(\"Segment length\", fontsize=16)\n",
    "plt.ylabel(\"Relative error\", fontsize=16);\n",
    "# plt.savefig(FIG_PATH/f\"{figure_name}.pdf\", bbox_inches=\"tight\")"
   ]
  },
  {
   "cell_type": "markdown",
   "id": "4970acdc",
   "metadata": {},
   "source": [
    "# Resilience to noise\n",
    "\n",
    "As a final test for the model, we assess its resilience to localization noise. In order to perform the characterization, we use the noiseless dataset with which we have already characterized the effect of the segment length and we add localization noise to the trajectories. We sample the noise from a normal distribution $\\mathcal{N}(0,\\sigma_{\\text{noise}})$ with different values of $\\sigma_{\\text{noise}}$. \n",
    "\n",
    "## Generate the data\n",
    "\n",
    "We start by taking the dataset and performing inference with various noise levels."
   ]
  },
  {
   "cell_type": "code",
   "execution_count": null,
   "id": "47d1ad90",
   "metadata": {},
   "outputs": [],
   "source": [
    "ds_name = '1_to_4_test'\n",
    "ds = load_dataset(n_change=ds_name, dim=dim, bm=True)"
   ]
  },
  {
   "cell_type": "code",
   "execution_count": null,
   "id": "89a4ed70",
   "metadata": {},
   "outputs": [],
   "source": [
    "ds['y'] = ds['y_exp'].apply(torch.squeeze)\n",
    "ds['y_log'] = ds['y'].apply(torch.log10)\n",
    "ds['D'] = ds['exps']\n",
    "ds['D_log'] = ds['exps'].apply(torch.log10)\n",
    "# ds['cp'] = ds['cp'].apply(lambda x: x.numpy())\n",
    "ds = ds.drop(columns=['y_mod', 'y_exp', 'models', 'exps'])"
   ]
  },
  {
   "cell_type": "code",
   "execution_count": null,
   "id": "170da011",
   "metadata": {},
   "outputs": [],
   "source": [
    "bs = 400\n",
    "dls = get_segmentation_dls(target='y_exp', dim=dim, n_change=ds_name, tfm_y=torch.log10, bm=True, \n",
    "                           bs=bs, shuffle=False, split_pct=1.)\n",
    "dls.device = default_device()"
   ]
  },
  {
   "cell_type": "markdown",
   "id": "8ad3be22",
   "metadata": {},
   "source": [
    "To perform a first evaluation, we consider different noise levels in logarithmic scale."
   ]
  },
  {
   "cell_type": "code",
   "execution_count": null,
   "id": "a37f6ada",
   "metadata": {},
   "outputs": [],
   "source": [
    "noise_levels = [-6, -5, -4, -3, -2, -1, 0]"
   ]
  },
  {
   "cell_type": "markdown",
   "id": "54a9ab21",
   "metadata": {},
   "source": [
    "We now perform the predictions on the trajectories at the different noise levels. This will give us an idea about the noise we can handle.  "
   ]
  },
  {
   "cell_type": "code",
   "execution_count": null,
   "id": "e0d83823",
   "metadata": {},
   "outputs": [
    {
     "data": {
      "application/vnd.jupyter.widget-view+json": {
       "model_id": "47b044d774c84a559c2e8c10c68ebe0f",
       "version_major": 2,
       "version_minor": 0
      },
      "text/plain": [
       "  0%|          | 0/120 [00:00<?, ?it/s]"
      ]
     },
     "metadata": {},
     "output_type": "display_data"
    },
    {
     "data": {
      "application/vnd.jupyter.widget-view+json": {
       "model_id": "d97a18a0b6174bf28bcdd4b73d731373",
       "version_major": 2,
       "version_minor": 0
      },
      "text/plain": [
       "  0%|          | 0/120 [00:00<?, ?it/s]"
      ]
     },
     "metadata": {},
     "output_type": "display_data"
    },
    {
     "data": {
      "application/vnd.jupyter.widget-view+json": {
       "model_id": "cd9bdc2f2cc440a4b1e0829b8f762cf0",
       "version_major": 2,
       "version_minor": 0
      },
      "text/plain": [
       "  0%|          | 0/120 [00:00<?, ?it/s]"
      ]
     },
     "metadata": {},
     "output_type": "display_data"
    },
    {
     "data": {
      "application/vnd.jupyter.widget-view+json": {
       "model_id": "8376a361720645a1902ec4121579d445",
       "version_major": 2,
       "version_minor": 0
      },
      "text/plain": [
       "  0%|          | 0/120 [00:00<?, ?it/s]"
      ]
     },
     "metadata": {},
     "output_type": "display_data"
    },
    {
     "data": {
      "application/vnd.jupyter.widget-view+json": {
       "model_id": "9b51822a0f804b75920c8aca84dfc0f3",
       "version_major": 2,
       "version_minor": 0
      },
      "text/plain": [
       "  0%|          | 0/120 [00:00<?, ?it/s]"
      ]
     },
     "metadata": {},
     "output_type": "display_data"
    },
    {
     "data": {
      "application/vnd.jupyter.widget-view+json": {
       "model_id": "6721f97bc6fc4c7280306a4be678ed5b",
       "version_major": 2,
       "version_minor": 0
      },
      "text/plain": [
       "  0%|          | 0/120 [00:00<?, ?it/s]"
      ]
     },
     "metadata": {},
     "output_type": "display_data"
    },
    {
     "data": {
      "application/vnd.jupyter.widget-view+json": {
       "model_id": "5963193acf1b463e880cd698797050c5",
       "version_major": 2,
       "version_minor": 0
      },
      "text/plain": [
       "  0%|          | 0/120 [00:00<?, ?it/s]"
      ]
     },
     "metadata": {},
     "output_type": "display_data"
    }
   ],
   "source": [
    "for noise in noise_levels:\n",
    "    for i, (x, _) in enumerate(tqdm(dls.valid)):\n",
    "        x += 10**(noise)*torch.randn_like(x)\n",
    "        pred = to_detach(learn_diff.model(x).squeeze())\n",
    "        l_pred = np.array([p for p in pred], dtype=object)\n",
    "        ds.loc[i*bs:(i+1)*bs-1, f'pred_{noise}'] = l_pred"
   ]
  },
  {
   "cell_type": "code",
   "execution_count": null,
   "id": "9f1e1739",
   "metadata": {},
   "outputs": [
    {
     "data": {
      "image/png": "[encoded data removed]",
      "text/plain": [
       "<Figure size 504x360 with 1 Axes>"
      ]
     },
     "metadata": {},
     "output_type": "display_data"
    }
   ],
   "source": [
    "idx = 0\n",
    "plt.figure(figsize=(7,5))\n",
    "plt.plot(ds.loc[idx, 'y_log'], linewidth=3., label='true')\n",
    "for n in noise_levels: \n",
    "    plt.plot(ds.loc[idx, f'pred_{n}'], alpha=0.7, label=f'noise {n}')\n",
    "plt.legend()\n",
    "plt.grid()"
   ]
  },
  {
   "cell_type": "markdown",
   "id": "2612175e",
   "metadata": {},
   "source": [
    "We can also consider the prediction by segments and compare it to TA-MSD, which cannot account for changes in D. In this analysis, we consider various noise levels for each trajectory and we predict the diffusion coefficient for each of them. "
   ]
  },
  {
   "cell_type": "code",
   "execution_count": null,
   "id": "0a706bfd",
   "metadata": {},
   "outputs": [
    {
     "data": {
      "application/vnd.jupyter.widget-view+json": {
       "model_id": "11893abb56264143b6d6806bd9450d87",
       "version_major": 2,
       "version_minor": 0
      },
      "text/plain": [
       "0it [00:00, ?it/s]"
      ]
     },
     "metadata": {},
     "output_type": "display_data"
    }
   ],
   "source": [
    "noise_samples = 128\n",
    "noise_max, noise_min = 0, -6\n",
    "noise_range = noise_max - noise_min\n",
    "noise_traj = torch.rand(ds.shape[0], noise_samples)*noise_range + noise_min\n",
    "shape = (ds.shape[0], 200, noise_traj.shape[1])\n",
    "\n",
    "pred_by_noise, pred_seg_by_noise = torch.zeros(shape), torch.zeros(shape) \n",
    "pred_seg_mean_by_noise, pred_tamsd_by_noise = torch.zeros(shape), torch.zeros(shape)\n",
    "for i, (x, cps) in tqdm(ds[['x','cp']].iterrows()):\n",
    "    noise = torch.randn(noise_samples, *x.T.shape)*10**noise_traj[i].unsqueeze(-1).unsqueeze(-1)\n",
    "    noisy_x = x.T.unsqueeze(0) + noise\n",
    "    noisy_x -= noisy_x[:, 0].unsqueeze(1)\n",
    "    split_x = split_tensor(noisy_x.transpose(1, 0), cps)\n",
    "    \n",
    "    pred_by_noise[i] = to_detach(learn_diff.model(noisy_x.cuda()).squeeze()).T\n",
    "    \n",
    "    pred_seg, pred_seg_mean, pred_tamsd = [], [], []\n",
    "    for seg_x in split_x:\n",
    "        seg_x = (seg_x - seg_x[0]).transpose(1, 0)\n",
    "        ones = torch.ones(seg_x.shape[1])\n",
    "        pred = to_detach(learn_diff.model(seg_x.cuda()).squeeze())\n",
    "        pred_seg.append(pred)\n",
    "        pred_seg_mean.append(pred.mean(-1).unsqueeze(1)*ones.unsqueeze(0))\n",
    "        pred_tamsd.append(torch.stack([ones*diffusion_coefficient_tamsd(s) for s in seg_x]))\n",
    "        \n",
    "    pred_seg_by_noise[i] = torch.cat(pred_seg, axis=-1).T\n",
    "    pred_seg_mean_by_noise[i] = torch.cat(pred_seg_mean, axis=-1).T\n",
    "    pred_tamsd_by_noise[i] = torch.cat(pred_tamsd, axis=-1).T"
   ]
  },
  {
   "cell_type": "markdown",
   "id": "d3628d6e",
   "metadata": {},
   "source": [
    "With the predictions, let's compute the error performed at every point as a function of the noise to signal ratio."
   ]
  },
  {
   "cell_type": "code",
   "execution_count": null,
   "id": "84075293",
   "metadata": {},
   "outputs": [],
   "source": [
    "y = torch.stack([t for t in ds['y_log'].values])\n",
    "rel_noise = noise_traj.unsqueeze(1) - y.unsqueeze(-1)\n",
    "predictions = dict(zip(['full', 'seg', 'seg_mean', 'tamsd'],\n",
    "                       [pred_by_noise, pred_seg_by_noise, pred_seg_mean_by_noise, pred_tamsd_by_noise]))"
   ]
  },
  {
   "cell_type": "code",
   "execution_count": null,
   "id": "1673f9fe",
   "metadata": {},
   "outputs": [],
   "source": [
    "errors = {k: p - y.unsqueeze(-1) if k != 'tamsd' else p/(10**y.unsqueeze(-1)) - 1 \n",
    "          for k, p in predictions.items()} # Already get rel error for tamsd\n",
    "bins = torch.linspace(rel_noise.min(), rel_noise.max(), 100)"
   ]
  },
  {
   "cell_type": "code",
   "execution_count": null,
   "id": "2246645c",
   "metadata": {},
   "outputs": [
    {
     "data": {
      "application/vnd.jupyter.widget-view+json": {
       "model_id": "5633f58a7a554f5baff5f1fb1ff0c79a",
       "version_major": 2,
       "version_minor": 0
      },
      "text/plain": [
       "0it [00:00, ?it/s]"
      ]
     },
     "metadata": {},
     "output_type": "display_data"
    }
   ],
   "source": [
    "noise_err, noise_err_std, x, counts = [], [], [], []\n",
    "for low, high in tqdm(zip(bins[:-1], bins[1:])):\n",
    "    mask = (rel_noise >= low) & (rel_noise <= high)\n",
    "    x.append((low + high)/2)\n",
    "    counts.append(mask.float().sum())\n",
    "    rel_errors = [(10**err[mask] - 1).abs() if k != 'tamsd' else err[mask].abs() \n",
    "                  for k, err in errors.items()]\n",
    "    noise_err.append(tensor([rel_err.mean() for rel_err in rel_errors]))\n",
    "    noise_err_std.append(tensor([rel_err.std() for rel_err in rel_errors]))\n",
    "    \n",
    "noise_err = torch.stack(noise_err)\n",
    "noise_err_std = torch.stack(noise_err_std)\n",
    "x = torch.stack(x)\n",
    "counts = torch.stack(counts)"
   ]
  },
  {
   "cell_type": "code",
   "execution_count": null,
   "id": "4032fed0",
   "metadata": {},
   "outputs": [],
   "source": [
    "fig_name = \"noise_analysis\"\n",
    "plot_path = (FIG_PATH/fig_name).with_suffix(\".pkl\")\n",
    "plot_data = (noise_err, noise_err_std, x, counts)\n",
    "with open(plot_path, 'wb') as f:\n",
    "    pickle.dump(plot_data, f, protocol=pickle.HIGHEST_PROTOCOL)"
   ]
  },
  {
   "cell_type": "markdown",
   "id": "cb52d426",
   "metadata": {},
   "source": [
    "## Plot the data "
   ]
  },
  {
   "cell_type": "code",
   "execution_count": null,
   "id": "4c234fcc",
   "metadata": {},
   "outputs": [],
   "source": [
    "fig_name = \"noise_analysis\"\n",
    "plot_path = (FIG_PATH/fig_name).with_suffix(\".pkl\")\n",
    "with open(plot_path, 'rb') as f:\n",
    "    noise_err, noise_err_std, x, counts = pickle.load(f)"
   ]
  },
  {
   "cell_type": "code",
   "execution_count": null,
   "id": "f03b4f91",
   "metadata": {},
   "outputs": [],
   "source": [
    "sem = noise_err_std/counts.sqrt().unsqueeze(-1)"
   ]
  },
  {
   "cell_type": "code",
   "execution_count": null,
   "id": "dbda3fc7",
   "metadata": {},
   "outputs": [
    {
     "data": {
      "image/png": "[encoded data removed]",
      "text/plain": [
       "<Figure size 432x288 with 1 Axes>"
      ]
     },
     "metadata": {},
     "output_type": "display_data"
    }
   ],
   "source": [
    "for err, s, label in zip(noise_err.T, sem.T, predictions.keys()):\n",
    "    plt.semilogx(10**x, err, '-', linewidth=2., label=label)\n",
    "    plt.fill_between(10**x, err - s, err + s, alpha=0.5)\n",
    "plt.grid()\n",
    "plt.ylim([-0.05, 1.05])\n",
    "plt.legend()\n",
    "# plt.xlim([10**(-4.5), 1105])\n",
    "plt.xlim([10**(-4.5), 40])\n",
    "plt.tick_params(labelsize=14)\n",
    "plt.xlabel(r\"$\\sigma/D$\", fontsize=16)\n",
    "plt.ylabel(\"Relative error\", fontsize=16)\n",
    "# plt.savefig(FIG_PATH/'Noise resilience analysis.pdf', bbox_inches='tight')"
   ]
  },
  {
   "attachments": {},
   "cell_type": "markdown",
   "id": "b5d0525d-469f-4d48-8423-9a1acadcd36e",
   "metadata": {},
   "source": [
    "# Effect of the number of segments\n",
    "\n",
    "An important factor to consider is the number of segments along trajectories. Here, we study the pointwise prediction error for trajectories with various segments of constant length. We consider different numbers of segments and segment lengths.\n",
    "\n",
    "## Generate the data\n",
    "\n",
    "First of all, we create our test data. We create our custom methods just for this test, provided that we do not have adhoc functions to generate this kind of data. If we have already created the test set, we can directly load it and skip these cells."
   ]
  },
  {
   "cell_type": "code",
   "execution_count": null,
   "id": "33fe4214-8abf-4c93-96a5-13a8f48075f4",
   "metadata": {},
   "outputs": [],
   "source": [
    "@delegates(brownian_motion)\n",
    "def constant_segment_trajectories(N, segment_length, n_change_points=1,\n",
    "                                  Ds=np.logspace(-3, 3, 1000), **kwargs):\n",
    "    \"Create `N` trajectories with constant segment length.\"\n",
    "    n_segments = n_change_points + 1\n",
    "    max_t = n_segments * segment_length\n",
    "    segment_D = np.random.choice(Ds, size=(N, n_segments))\n",
    "    point_D = np.repeat(segment_D, segment_length, axis=-1)[:, None, :]\n",
    "    bms = brownian_motion(N, max_t, point_D, **kwargs)\n",
    "    return bms, point_D\n",
    "\n",
    "def create_constant_segment_dataset(N, segment_length, n_change_points=1, dim=2):\n",
    "    \"Creates a dataset of `N` trajectories with constant segment length.\"\n",
    "    df = pd.DataFrame(columns=['dim', 'len', 'seg_len', 'n_cp', 'cp', 'x', \n",
    "                               'y', 'y_exp'], dtype=object)\n",
    "    trajs, labels = constant_segment_trajectories(N, segment_length, \n",
    "                                                  n_change_points=n_change_points,\n",
    "                                                  dim=dim)\n",
    "    length = trajs.shape[-1]\n",
    "    cp = np.arange(segment_length, length, segment_length)\n",
    "    for traj, label in zip(trajs, labels):\n",
    "        x, y = tensor(traj), tensor(label).squeeze()\n",
    "        df = df.append({'dim': dim, 'len': length, 'seg_len': segment_length,\n",
    "                        'n_cp': n_change_points, 'cp': cp, 'x': x, 'y': y,\n",
    "                        'y_log': torch.log10(y)}, ignore_index=True)\n",
    "    return df"
   ]
  },
  {
   "attachments": {},
   "cell_type": "markdown",
   "id": "3de0487c",
   "metadata": {},
   "source": [
    "With these functions, we can easily create our data set. We consider trajectories with none to 10 changepoints and segment lengths of 20 to 60 in intervals of 10."
   ]
  },
  {
   "cell_type": "code",
   "execution_count": null,
   "id": "a8fec2c7-a35f-4cf7-8b11-3ac504b22d1b",
   "metadata": {},
   "outputs": [],
   "source": [
    "N_per_set, segment_lengths, cps = 2000, [20, 30, 40, 50, 60], np.arange(11)\n",
    "Ds = np.logspace(-3, 3, 1000) \n",
    "datasets = [create_constant_segment_dataset(N_per_set, sl, n_change_points=n_cp) \n",
    "            for sl in segment_lengths for n_cp in tqdm(cps)]\n",
    "ds = combine_datasets(datasets, shuffle=False)"
   ]
  },
  {
   "attachments": {},
   "cell_type": "markdown",
   "id": "23fd9cbc-d7aa-4dde-98ea-acfeee33287a",
   "metadata": {},
   "source": [
    "## Get the predictions\n",
    "\n",
    "With our dataset ready, we can proceed to perform the predictions. We store them in the same dataframe. "
   ]
  },
  {
   "cell_type": "code",
   "execution_count": null,
   "id": "1b444a72",
   "metadata": {},
   "outputs": [],
   "source": [
    "def make_batch(df, i, bs, col='x'):\n",
    "    \"Return a batch of samples from df.\"\n",
    "    samples = [x.transpose(-1, 0) for x in ds.loc[i*bs:(i+1)*bs-1, col]]\n",
    "    return torch.stack(samples, dim=0)"
   ]
  },
  {
   "cell_type": "code",
   "execution_count": null,
   "id": "7c5f0199-ae7d-4719-90bd-cf9a3ed5807b",
   "metadata": {},
   "outputs": [],
   "source": [
    "bs = 50\n",
    "n_batch = np.ceil(ds.shape[0]/bs).astype(int)\n",
    "for i in tqdm(range(n_batch)):\n",
    "    xb = make_batch(ds, i, bs).to(default_device())\n",
    "    pred = to_detach(learn_diff.model(xb)).squeeze())\n",
    "    ds.loc[i*bs:(i+1)*bs-1, 'pred'] = np.array([p for p in pred], dtype=object)"
   ]
  },
  {
   "attachments": {},
   "cell_type": "markdown",
   "id": "b273f2a7-f868-4133-91c0-52451f01d079",
   "metadata": {},
   "source": [
    "## Compute the metrics\n",
    "\n",
    "So far, we have characterized the prediction error with various metrics, such as the mean absolute error or the relative error, which focus on the pointwise performance.\n",
    "\n",
    "However, the pointwise relative error is a rather volatile quantity. For instance, in the case there is a large change between consecutive diffusion coefficients, e.g., from $10^3$ to $10^{-3}$, even if the agent performs a perfect characterization, but fails by a single point, the relative error for the whole trajectory shoots up to $\\sim10^6$. Therefore, in order to obtain a better understanding of the actual prediction error, $D_{\\text{true}} - D_{\\text{pred}}$, we consider the mean prediction of each segment $D_{\\text{true}} - \\langle D_{\\text{pred}}\\rangle_{\\text{seg}}$. "
   ]
  },
  {
   "cell_type": "code",
   "execution_count": null,
   "id": "f9543cd7-8654-4320-aaf9-2b27bc4f0db5",
   "metadata": {},
   "outputs": [],
   "source": [
    "def segment_rel_error(pred, y, cp):\n",
    "    \"Computes the segment-wise relative error. Assumes `pred` and `y` in log10.\"\n",
    "    segment_preds = split_tensor(pred, cp)\n",
    "    segment_means = torch.stack([p.mean() for p in segment_preds])\n",
    "    true_values = torch.cat([y[0].unsqueeze(0), y[cp]])\n",
    "    return (10**(segment_means - true_values) - 1).abs().mean()"
   ]
  },
  {
   "cell_type": "code",
   "execution_count": null,
   "id": "c3a79ffb-df4b-43a5-a257-566e50f269d7",
   "metadata": {},
   "outputs": [],
   "source": [
    "# metrics\n",
    "ds['mae'] = (ds['pred'] - ds['y_log']).abs().apply(torch.mean)\n",
    "ds['seg_rel_error'] = ds.apply(lambda x: segment_rel_error(x['pred'],\n",
    "                                                           x['y_log'], x['cp']),\n",
    "                                                           axis=1)"
   ]
  },
  {
   "attachments": {},
   "cell_type": "markdown",
   "id": "6462e41f",
   "metadata": {},
   "source": [
    "Save the data for posterior processing."
   ]
  },
  {
   "cell_type": "code",
   "execution_count": null,
   "id": "128d677c-1a80-43ed-b4f5-6947bbf7148b",
   "metadata": {},
   "outputs": [],
   "source": [
    "ds_path = DATA_PATH/\"constant_segment_analysis.pkl\"\n",
    "ds.to_pickle(ds_path)"
   ]
  },
  {
   "cell_type": "markdown",
   "id": "21fdb8aa-97f9-4a03-ac60-1d13c17df80c",
   "metadata": {},
   "source": [
    "## Plot the data\n",
    "\n",
    "Let's see now how the metrics evolve as a function of the number of segments. \n",
    "\n",
    "We start by loading the data."
   ]
  },
  {
   "cell_type": "code",
   "execution_count": null,
   "id": "1f639042-d908-4b82-9425-5a34f1853371",
   "metadata": {},
   "outputs": [],
   "source": [
    "# Load the data\n",
    "ds_path = DATA_PATH/\"constant_segment_analysis.pkl\"\n",
    "ds = pd.read_pickle(ds_path)"
   ]
  },
  {
   "cell_type": "markdown",
   "id": "fd8cc635-8fb3-463e-9416-218a0e4f33fc",
   "metadata": {},
   "source": [
    "Define some plot functions to keep consistent aesthetics."
   ]
  },
  {
   "cell_type": "code",
   "execution_count": null,
   "id": "0efb524d-3856-4515-9a9a-5befc79cb19d",
   "metadata": {},
   "outputs": [],
   "source": [
    "def plot_metric_per_ncp(ds, metric, ylabel=None, figsize=(8, 4.75), fontsize=16, labelsize=14):\n",
    "    \"Plots metric as function of number of change points per segment length.\"\n",
    "    segment_lengths, n_cps = ds.seg_len.unique().astype(int), ds.n_cp.unique().astype(int)\n",
    "    value_per_cp = np.array([getattr(ds, metric)[ds.n_cp == n_cp].mean() for n_cp in n_cps])\n",
    "    err_per_cp = np.array([getattr(ds, metric)[ds.n_cp == n_cp].sem() for n_cp in n_cps])\n",
    "    \n",
    "    plt.figure(figsize=figsize)\n",
    "    plt.plot(n_cps, value_per_cp, marker='o')\n",
    "    plt.fill_between(n_cps, value_per_cp - err_per_cp, value_per_cp + err_per_cp, alpha=0.3)\n",
    "    plt.xlabel(\"Number of change points\", fontsize=fontsize)\n",
    "    plt.ylabel(metric if ylabel is None else ylabel, fontsize=fontsize)\n",
    "    plt.grid()\n",
    "    plt.tick_params(labelsize=14)\n",
    "\n",
    "def plot_metric_per_length_ncp(ds, metric, ylabel=None, figsize=(8, 4.75), fontsize=16, \n",
    "                               labelsize=14, legend_kwargs={}):\n",
    "    \"Plots metric as function of number of change points per segment length.\"\n",
    "    segment_lengths, n_cps = ds.seg_len.unique().astype(int), ds.n_cp.unique().astype(int)\n",
    "    markers = ['o', 's', 'D', 'p']\n",
    "    plt.figure(figsize=figsize)\n",
    "    for k, length in enumerate(segment_lengths):\n",
    "        value_per_cp = np.array([getattr(ds, metric)[(ds.seg_len == length) & (ds.n_cp == n_cp)].mean()\n",
    "                                 for n_cp in n_cps])\n",
    "        err_per_cp = np.array([getattr(ds, metric)[(ds.seg_len == length) & (ds.n_cp == n_cp)].sem() \n",
    "                               for n_cp in n_cps])\n",
    "        plt.plot(n_cps, value_per_cp, marker=markers[k], label=f\"segment length {length}\")\n",
    "        plt.fill_between(n_cps, value_per_cp - err_per_cp, value_per_cp + err_per_cp, alpha=0.3)\n",
    "    plt.xlabel(\"Number of change points\", fontsize=fontsize)\n",
    "    plt.ylabel(metric if ylabel is None else ylabel, fontsize=fontsize)\n",
    "    plt.grid()\n",
    "    plt.tick_params(labelsize=14)\n",
    "    plt.legend(fontsize=labelsize, **legend_kwargs)"
   ]
  },
  {
   "cell_type": "markdown",
   "id": "f580698f-f8b1-4c15-85f6-3308696b6425",
   "metadata": {},
   "source": [
    "We first have a look at the relative error as a function of the number of segments for segment lengths 20, 40, and 60. "
   ]
  },
  {
   "cell_type": "code",
   "execution_count": null,
   "id": "ca83411a-8790-41d1-8a22-e168548ea2c4",
   "metadata": {},
   "outputs": [],
   "source": [
    "sub_ds = ds[(ds.seg_len != 30) & (ds.seg_len != 50)]"
   ]
  },
  {
   "cell_type": "code",
   "execution_count": null,
   "id": "e18ac970-1bc1-4d1b-aeac-d698301bbea1",
   "metadata": {},
   "outputs": [
    {
     "data": {
      "image/png": "[encoded data removed]",
      "text/plain": [
       "<Figure size 576x342 with 1 Axes>"
      ]
     },
     "metadata": {
      "needs_background": "light"
     },
     "output_type": "display_data"
    }
   ],
   "source": [
    "plot_metric_per_length_ncp(sub_ds, 'seg_rel_error', ylabel=\"Segment-wise relative error\",\n",
    "                           legend_kwargs={'loc': 'upper left'})\n",
    "plt.ylim([0.16, 0.37])\n",
    "plt.savefig(FIG_PATH/\"relative_error_num_cp.pdf\", bbox_inches=\"tight\")"
   ]
  },
  {
   "cell_type": "markdown",
   "id": "2b9ad070-74b6-4016-8d57-1912285d3406",
   "metadata": {},
   "source": [
    "We observe that having additional segments is, indeed, a source of error, although we see a weak dependency between both quantities. We can identify that the main contribution to the error comes from the segment length, as we had identified before. \n",
    "\n",
    "Let's see what happens with the accuracy to identify the different calssification modes. "
   ]
  },
  {
   "cell_type": "code",
   "execution_count": null,
   "id": "da9d9a82-c436-46a8-bc08-b74b345d07d3",
   "metadata": {},
   "outputs": [],
   "source": [
    "sub_ds = ds[ds.n_cp != 0]"
   ]
  },
  {
   "cell_type": "code",
   "execution_count": null,
   "id": "8a9f75e6-b09d-4f29-ba98-c1b0d5642c8e",
   "metadata": {},
   "outputs": [
    {
     "data": {
      "image/png": "[encoded data removed]",
      "text/plain": [
       "<Figure size 576x342 with 1 Axes>"
      ]
     },
     "metadata": {
      "needs_background": "light"
     },
     "output_type": "display_data"
    }
   ],
   "source": [
    "plot_metric_per_length_ncp(sub_ds, 'detect_rate', ylabel=\"Accuracy\")\n",
    "plt.ylim([0.825, 1.])\n",
    "plt.savefig(FIG_PATH/\"accuracy_num_cp.pdf\", bbox_inches=\"tight\")"
   ]
  },
  {
   "attachments": {},
   "cell_type": "markdown",
   "id": "440fd4fa-0f23-4fbd-95ab-111a28ab88f7",
   "metadata": {},
   "source": [
    "In this case, we see that the accuracy stabilizes when we reach a high number of segments. This suggests that, with every new change point, the model incurs a similar error. As the trajectories become longer, both with extra or longer segments, these errors become less relevant."
   ]
  },
  {
   "cell_type": "markdown",
   "id": "23f48ee4-29be-4ff0-931f-92ae41984376",
   "metadata": {},
   "source": [
    "# Anomalous diffusion from normal diffusion\n",
    "\n",
    "## Scaled Brownian motion\n",
    "\n",
    "\n",
    "### Generate the data\n",
    "\n",
    "In this analysis, we use scaled Brownian motion (SBM) trajectories, which present an aging phenomenon that dicreases the diffusion coefficient with time. "
   ]
  },
  {
   "cell_type": "code",
   "execution_count": null,
   "id": "b22ef082-d65c-4a7a-a440-5d6e007642ff",
   "metadata": {},
   "outputs": [],
   "source": [
    "n_traj, max_t, exponents, models, dim = 6000, 200, np.array([0.1, 0.5]), [4], 2\n",
    "trajs = create_trajectories(n_traj, max_t, exponents, models, dim, noise=None)\n",
    "trajs = tensor(trajs[:, 2:].reshape((n_traj, dim, max_t)).transpose(0, 2, 1))"
   ]
  },
  {
   "cell_type": "markdown",
   "id": "dc94adaf-baab-46e3-be20-34f585f18418",
   "metadata": {},
   "source": [
    "Let's predict the diffusion coefficient for these trajectories."
   ]
  },
  {
   "cell_type": "code",
   "execution_count": null,
   "id": "500698ee-bd61-4efa-bc20-f05ed81205e9",
   "metadata": {},
   "outputs": [],
   "source": [
    "bs = 128\n",
    "n_batch = np.ceil(n_traj/bs).astype(int)\n",
    "batches = [trajs[i*bs:(i+1)*bs] for i in range(n_batch)]"
   ]
  },
  {
   "cell_type": "code",
   "execution_count": null,
   "id": "6eb21640-f497-4078-821f-75e3a2dd79ae",
   "metadata": {},
   "outputs": [],
   "source": [
    "preds = [to_detach(learn_diff.model(xb.cuda()).squeeze()) for xb in batches]\n",
    "preds = torch.cat(preds, axis=0)"
   ]
  },
  {
   "cell_type": "code",
   "execution_count": null,
   "id": "d29f9abd-1a8f-451d-a36c-a47d2c00ea9b",
   "metadata": {},
   "outputs": [
    {
     "data": {
      "text/plain": [
       "Text(0.5, 0, 't')"
      ]
     },
     "execution_count": null,
     "metadata": {},
     "output_type": "execute_result"
    },
    {
     "data": {
      "image/png": "[encoded data removed]",
      "text/plain": [
       "<Figure size 432x266.4 with 1 Axes>"
      ]
     },
     "metadata": {
      "needs_background": "light"
     },
     "output_type": "display_data"
    }
   ],
   "source": [
    "plt.figure(figsize=(6, 3.7))\n",
    "plt.plot(preds[:n_traj//2].mean(axis=0), label=exponents[0])\n",
    "plt.plot(preds[n_traj//2:].mean(axis=0), label=exponents[1])\n",
    "plt.grid()\n",
    "plt.legend()\n",
    "plt.ylabel(\"D(t)\", fontsize=16)\n",
    "plt.xlabel(\"t\", fontsize=16)"
   ]
  },
  {
   "cell_type": "code",
   "execution_count": null,
   "id": "ec175f49-0408-4cbd-a742-c27e603d06ad",
   "metadata": {},
   "outputs": [],
   "source": [
    "file_name = \"preds_sbm\"\n",
    "data_path = DATA_PATH/file_name\n",
    "with open(data_path.with_suffix('.pkl'), 'wb') as f:\n",
    "    pickle.dump(preds, f, protocol=pickle.HIGHEST_PROTOCOL)"
   ]
  },
  {
   "cell_type": "markdown",
   "id": "78cb35a3-e522-4746-a3f8-3790aac80ce5",
   "metadata": {},
   "source": [
    "## Annealed transit time model\n",
    "\n",
    "### Generate the data"
   ]
  },
  {
   "cell_type": "code",
   "execution_count": null,
   "id": "1cea900c-1432-4c4a-8922-1a0e8870c5ff",
   "metadata": {},
   "outputs": [],
   "source": [
    "n_traj, max_t, sigma, gamma = 10000, 200, 1.16, 1.38\n",
    "trajs, Ds = create_fixed_attm_trajs(n_traj, max_t, sigma, gamma)\n",
    "trajs, Ds = tensor(trajs).transpose(2, 1), tensor(Ds)"
   ]
  },
  {
   "cell_type": "code",
   "execution_count": null,
   "id": "76106ded-467c-45de-ab15-60c22a3f897c",
   "metadata": {},
   "outputs": [],
   "source": [
    "bs = 128\n",
    "n_batch = np.ceil(n_traj/bs).astype(int)\n",
    "batches = [trajs[i*bs:(i+1)*bs] for i in range(n_batch)]"
   ]
  },
  {
   "cell_type": "code",
   "execution_count": null,
   "id": "e94ee905-dc6c-45ee-b4e4-4ca3c0839ebf",
   "metadata": {},
   "outputs": [
    {
     "data": {
      "application/vnd.jupyter.widget-view+json": {
       "model_id": "516ebcff5ec540ecb9bc44e0dec8a090",
       "version_major": 2,
       "version_minor": 0
      },
      "text/plain": [
       "  0%|          | 0/79 [00:00<?, ?it/s]"
      ]
     },
     "metadata": {},
     "output_type": "display_data"
    }
   ],
   "source": [
    "preds = [to_detach(learn_diff.model(xb.cuda().float()).squeeze()) for xb in tqdm(batches)]\n",
    "preds = torch.cat(preds, axis=0)"
   ]
  },
  {
   "cell_type": "code",
   "execution_count": null,
   "id": "4fa960e9-c1f3-4dd2-baf3-45bd9d3e89a2",
   "metadata": {},
   "outputs": [],
   "source": [
    "file_name = \"preds_attm\"\n",
    "data_path = DATA_PATH/file_name\n",
    "with open(data_path.with_suffix('.pkl'), 'wb') as f:\n",
    "    pickle.dump({'pred': preds, 'true': Ds}, f, protocol=pickle.HIGHEST_PROTOCOL)"
   ]
  },
  {
   "cell_type": "markdown",
   "id": "c283e5a0-c04f-44b8-9400-fcd15cf733c6",
   "metadata": {},
   "source": [
    "# Detecting changes\n",
    "\n",
    "With our proposed method, changes in diffusion properties emerge naturally in the prediction. However, we do not obtain the change point positions explicitly and we require some additional post processing. We use [ruptures](https://centre-borelli.github.io/ruptures-docs/) to find the change points in our predictions. "
   ]
  },
  {
   "cell_type": "code",
   "execution_count": null,
   "id": "387a4da3-fa9e-4d74-86d3-cd3e32b2a967",
   "metadata": {},
   "outputs": [],
   "source": [
    "from step.baselines import ruptures_cp"
   ]
  },
  {
   "cell_type": "code",
   "execution_count": null,
   "id": "1fbb9c11-c53b-494c-9ffb-4cce12d05b4e",
   "metadata": {},
   "outputs": [],
   "source": [
    "def get_displacements(x):\n",
    "    \"Returns the displacements.\"\n",
    "    return np.sqrt(np.sum(np.diff(x, axis=1)**2, axis=0))\n",
    "\n",
    "def merge_dict(dict_1, dict_2):\n",
    "    merge = {}\n",
    "    for k, v1 in dict_1.items():\n",
    "        v2 = dict_2.get(k, [])\n",
    "        if isinstance(v1, Iterable) and isinstance(v2, Iterable):\n",
    "            merge[k] = [*v1, *v2]\n",
    "        elif isinstance(v1, Iterable):\n",
    "            merge[k] = [*v1, v2]\n",
    "        elif isinstance(v2, Iterable):\n",
    "            merge[k] = [v1, *v2]\n",
    "        else:\n",
    "            merge[k] = [v1, v2]\n",
    "    return merge"
   ]
  },
  {
   "cell_type": "markdown",
   "id": "0ede6086-37b4-4dcd-ac86-98b325499103",
   "metadata": {},
   "source": [
    "## Generate the data\n",
    "\n",
    "### Full test set\n",
    "We will load the test set we created at the beginning of this notebook."
   ]
  },
  {
   "cell_type": "code",
   "execution_count": null,
   "id": "3c3f7e17-1d2d-4485-8d10-b25585bd4b3e",
   "metadata": {},
   "outputs": [],
   "source": [
    "ds_name = '1_to_4_test'\n",
    "ds = load_dataset(n_change=ds_name, dim=dim, bm=True)"
   ]
  },
  {
   "cell_type": "code",
   "execution_count": null,
   "id": "bc7f53df-53b9-4a9e-9e1d-b1fc0bcad685",
   "metadata": {},
   "outputs": [],
   "source": [
    "bs = 200\n",
    "dls = get_segmentation_dls(target='y_exp', dim=dim, n_change=ds_name, tfm_y=torch.log10, bm=True, \n",
    "                           bs=bs, shuffle=False, split_pct=1.)\n",
    "dls.device = default_device()"
   ]
  },
  {
   "cell_type": "markdown",
   "id": "4b1a7b0a-2f45-4e34-b328-88a8b3fee1dc",
   "metadata": {},
   "source": [
    "We now perform the predictions of the trajectories as a whole and store them in the dataframe to process them later. "
   ]
  },
  {
   "cell_type": "code",
   "execution_count": null,
   "id": "af9e7262-0d93-49c9-82b1-b3966662f286",
   "metadata": {},
   "outputs": [],
   "source": [
    "for i, (x, y) in tqdm(enumerate(dls.valid)):\n",
    "    pred = to_detach(learn_diff.model(x).squeeze())\n",
    "    l_pred = np.array([p for p in pred], dtype=object)\n",
    "    ds.loc[i*bs:(i+1)*bs-1, 'pred'] = l_pred"
   ]
  },
  {
   "cell_type": "code",
   "execution_count": null,
   "id": "a7efa907-b061-4449-986f-b597df3e83ab",
   "metadata": {},
   "outputs": [
    {
     "data": {
      "application/vnd.jupyter.widget-view+json": {
       "model_id": "c0d20ca87ba44d678d70216776dd11c8",
       "version_major": 2,
       "version_minor": 0
      },
      "text/plain": [
       "0it [00:01, ?it/s]"
      ]
     },
     "metadata": {},
     "output_type": "display_data"
    }
   ],
   "source": [
    "method_pen = {'pred': 2., 'displ': 6.}\n",
    "methods = list(method_pen.keys())\n",
    "\n",
    "metrics_method = {m: {} for m in methods}\n",
    "for _, row in tqdm(ds.iterrows()):\n",
    "    traj, pred, true_cp = row.x.numpy(), row.pred.numpy(), row.cp.numpy()\n",
    "    displacements = np.log(get_displacements(traj))\n",
    "\n",
    "    for m in methods:\n",
    "        seg_data = (pred if m == 'pred' else displacements if m == 'displ' else None)\n",
    "        pred_cp = ruptures_cp(seg_data, pen=method_pen[m], min_size=5)\n",
    "        metrics_method[m] = merge_dict(evaluate_cp_prediction(true_cp, pred_cp), metrics_method[m])\n",
    "\n",
    "method_mse, method_j_idx = {}, {}\n",
    "for m, v in metrics_method.items():\n",
    "    method_mse[m] = np.mean(v['squared_error'])\n",
    "    tp, fp, fn = np.sum(v['tp']), np.sum(v['fp']), np.sum(v['fn'])\n",
    "    method_j_idx[m] = jaccard_index(tp, fp, fn)"
   ]
  },
  {
   "cell_type": "code",
   "execution_count": null,
   "id": "e4558e85-f3a8-451b-99dd-176a3dd96ef5",
   "metadata": {},
   "outputs": [
    {
     "data": {
      "text/plain": [
       "{'pred': 0.8124350210797757, 'displ': 0.8202676240208877}"
      ]
     },
     "execution_count": null,
     "metadata": {},
     "output_type": "execute_result"
    }
   ],
   "source": [
    "method_j_idx"
   ]
  },
  {
   "cell_type": "code",
   "execution_count": null,
   "id": "e18df46f-eecc-4988-87aa-3fbc79724a4e",
   "metadata": {},
   "outputs": [
    {
     "data": {
      "text/plain": [
       "{'pred': 1.3098757594994106, 'displ': 1.488351967532726}"
      ]
     },
     "execution_count": null,
     "metadata": {},
     "output_type": "execute_result"
    }
   ],
   "source": [
    "method_mse"
   ]
  },
  {
   "cell_type": "markdown",
   "id": "7a25e288-4f96-473b-ba4a-c9cfdce6ab71",
   "metadata": {},
   "source": [
    "### Single change point\n",
    "\n",
    "In order to obtain a better insight about the strengths of the methods, we need a more restricted environment where we can better asses the effect of different factors. In this case, we can look at how the difference between diffusion coefficient in consecutive segments affects the performance as well as the change point position."
   ]
  },
  {
   "cell_type": "code",
   "execution_count": null,
   "id": "ccf932f9",
   "metadata": {},
   "outputs": [],
   "source": [
    "Ds = np.logspace(-3, 3, 1000) \n",
    "ds = create_bm_segmentation_dataset(50000, dim=dim, Ds=Ds)"
   ]
  },
  {
   "cell_type": "code",
   "execution_count": null,
   "id": "53328c42",
   "metadata": {},
   "outputs": [],
   "source": [
    "ds['y'] = ds['y_exp'].apply(torch.squeeze)\n",
    "ds['y_log'] = ds['y'].apply(torch.log10)\n",
    "ds['D'] = ds['exps']\n",
    "ds['D_log'] = ds['exps'].apply(torch.log10)\n",
    "ds['cp'] = ds['cp'].apply(lambda x: x.numpy())\n",
    "ds = ds.drop(columns=['y_mod', 'y_exp', 'models', 'exps'])"
   ]
  },
  {
   "cell_type": "markdown",
   "id": "a276da76",
   "metadata": {},
   "source": [
    "Let's proceed with the predictions! "
   ]
  },
  {
   "cell_type": "code",
   "execution_count": null,
   "id": "3c77e817",
   "metadata": {},
   "outputs": [
    {
     "data": {
      "application/vnd.jupyter.widget-view+json": {
       "model_id": "2a5e2c477243450aa46e5101c6be4bf9",
       "version_major": 2,
       "version_minor": 0
      },
      "text/plain": [
       "  0%|          | 0/125 [00:00<?, ?it/s]"
      ]
     },
     "metadata": {},
     "output_type": "display_data"
    }
   ],
   "source": [
    "bs = 400\n",
    "n_batch = np.ceil(ds.shape[0]/bs).astype(int)\n",
    "for i in tqdm(range(n_batch)):\n",
    "    xb = torch.stack([x.transpose(-1, 0) for x in ds.loc[i*bs:(i+1)*bs-1, 'x']], dim=0)\n",
    "    pred = to_detach(learn_diff.model(xb.to(default_device())).squeeze())\n",
    "    ds.loc[i*bs:(i+1)*bs-1, 'pred'] = np.array([p for p in pred], dtype=object)"
   ]
  },
  {
   "cell_type": "code",
   "execution_count": null,
   "id": "aa936580-0a60-4572-a61f-618edf02a82c",
   "metadata": {},
   "outputs": [],
   "source": [
    "ds_path = DATA_PATH/\"bmds_1change_dim2_with_preds.pkl\""
   ]
  },
  {
   "cell_type": "code",
   "execution_count": null,
   "id": "ad9bd8bc-5101-4945-aa0f-2390cdb2cb88",
   "metadata": {},
   "outputs": [],
   "source": [
    "# ds = pd.read_pickle(ds_path)\n",
    "# ds['D_diff'] = ds['D_log'].apply(lambda x: (x[1] - x[0]).item())\n",
    "# ds['D_rel_diff'] = ds['D'].apply(lambda x: (x[1]/x[0] - 1).item())\n",
    "# ds.to_pickle(ds_path)"
   ]
  },
  {
   "cell_type": "code",
   "execution_count": null,
   "id": "7567a884-f16e-4f8d-8dd1-a039500f7606",
   "metadata": {},
   "outputs": [],
   "source": [
    "ds = pd.read_pickle(ds_path)"
   ]
  },
  {
   "cell_type": "code",
   "execution_count": null,
   "id": "dce6d327-d04c-4ee0-86b4-7f2b9fc90d32",
   "metadata": {},
   "outputs": [
    {
     "data": {
      "application/vnd.jupyter.widget-view+json": {
       "model_id": "d30cd0cd50384d289788e40c07a0b8d0",
       "version_major": 2,
       "version_minor": 0
      },
      "text/plain": [
       "0it [00:00, ?it/s]"
      ]
     },
     "metadata": {},
     "output_type": "display_data"
    }
   ],
   "source": [
    "method_pen = {'pred': 2., 'displ': 6.}#, 'var_5': 10., 'var_10': 10.}\n",
    "methods = list(method_pen.keys())\n",
    "\n",
    "metrics_method = {m: {} for m in methods}\n",
    "for i, row in tqdm(ds.iterrows()):\n",
    "    traj, pred, true_cp = row.x.numpy(), row.pred.numpy(), row.cp\n",
    "    displacements = np.log(get_displacements(traj))\n",
    "    # variances_5 = np.log(swin_var(displacements, win_size=5))\n",
    "    # variances_10 = np.log(swin_var(displacements, win_size=10))\n",
    "\n",
    "    for m in methods:\n",
    "        seg_data = (pred if m == 'pred' else displacements if m == 'displ' else\n",
    "                    variances_5 if m == 'var_5' else variances_10 if m == 'var_10' else None)\n",
    "        pred_cp = ruptures_cp(seg_data, pen=method_pen[m], min_size=5)\n",
    "        metrics = evaluate_cp_prediction(true_cp, pred_cp, changepoint_threshold=5)\n",
    "        metrics_method[m] = merge_dict(metrics, metrics_method[m])\n",
    "        for k, v in metrics.items():\n",
    "            if metrics['tp']:\n",
    "                ds.loc[i, f'cp_{m}_{k}'] = v[0] if k == 'squared_error' else v\n",
    "            else:\n",
    "                ds.loc[i, f'cp_{m}_{k}'] = -1 if k == 'squared_error' else v\n",
    "\n",
    "method_mse, method_j_idx = {}, {}\n",
    "for m, v in metrics_method.items():\n",
    "    method_mse[m] = np.mean(v['squared_error'])\n",
    "    tp, fp, fn = np.sum(v['tp']), np.sum(v['fp']), np.sum(v['fn'])\n",
    "    method_j_idx[m] = jaccard_index(tp, fp, fn)"
   ]
  },
  {
   "cell_type": "code",
   "execution_count": null,
   "id": "51f9864a-032c-4de0-b7be-bcf4451bebe2",
   "metadata": {},
   "outputs": [
    {
     "data": {
      "text/plain": [
       "({'pred': 0.8333494778851929, 'displ': 0.7963921392139214},\n",
       " {'pred': 0.6803905614320586, 'displ': 0.6163644925829997})"
      ]
     },
     "execution_count": null,
     "metadata": {},
     "output_type": "execute_result"
    }
   ],
   "source": [
    "method_j_idx, method_mse"
   ]
  },
  {
   "cell_type": "code",
   "execution_count": null,
   "id": "9ffa0a76-44e1-4368-bce9-abd61a6fb03c",
   "metadata": {},
   "outputs": [],
   "source": [
    "# ds.to_pickle(ds_path)"
   ]
  },
  {
   "cell_type": "code",
   "execution_count": null,
   "id": "d578b2eb-8693-4cd8-a1f1-e53b3658385b",
   "metadata": {},
   "outputs": [],
   "source": [
    "bins_D_diff = np.linspace(-6, 6, 100)"
   ]
  },
  {
   "cell_type": "code",
   "execution_count": null,
   "id": "f2d16d59-24dd-40f3-bf4d-498b972ea89f",
   "metadata": {},
   "outputs": [],
   "source": [
    "j_idx_by_diff = {m: [] for m in methods}\n",
    "mse_by_diff = {m: [] for m in methods}\n",
    "\n",
    "for low, high in zip(bins_D_diff[:-1], bins_D_diff[1:]):\n",
    "    mask = (ds.D_diff >= low) & (ds.D_diff < high)\n",
    "    for m in methods:\n",
    "        tp = ds.loc[mask, f'cp_{m}_tp'].sum()\n",
    "        fp = ds.loc[mask, f'cp_{m}_fp'].sum()\n",
    "        fn = ds.loc[mask, f'cp_{m}_fn'].sum()\n",
    "        j_idx_by_diff[m].append(jaccard_index(tp, fp, fn))\n",
    "        \n",
    "        mask_mse = mask & (ds.loc[:, f'cp_{m}_tp'] == 1)\n",
    "        mse_by_diff[m].append(ds.loc[mask_mse, f'cp_{m}_squared_error'].mean())"
   ]
  },
  {
   "cell_type": "code",
   "execution_count": null,
   "id": "5394fe0c-fc46-42f5-a4bb-6b35108ac0f9",
   "metadata": {},
   "outputs": [
    {
     "data": {
      "text/plain": [
       "Text(0, 0.5, 'Jaccard index')"
      ]
     },
     "execution_count": null,
     "metadata": {},
     "output_type": "execute_result"
    },
    {
     "data": {
      "image/png": "[encoded data removed]",
      "text/plain": [
       "<Figure size 600x400 with 1 Axes>"
      ]
     },
     "metadata": {},
     "output_type": "display_data"
    }
   ],
   "source": [
    "plt.figure(figsize=(6, 4))\n",
    "plt_x = bins_D_diff[:-1] + np.diff(bins_D_diff)\n",
    "for m in methods:\n",
    "    plt.plot(plt_x, j_idx_by_diff[m], label=m)\n",
    "plt.legend()\n",
    "plt.xlabel(r\"$D_2/D_1$\")\n",
    "plt.ylabel(\"Jaccard index\")"
   ]
  }
 ],
 "metadata": {
  "kernelspec": {
   "display_name": "andi",
   "language": "python",
   "name": "python3"
  }
 },
 "nbformat": 4,
 "nbformat_minor": 5
}
