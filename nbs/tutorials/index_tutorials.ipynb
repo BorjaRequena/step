{
 "cells": [
  {
   "cell_type": "markdown",
   "id": "5e26b713-0160-4231-a525-fb5c696bd258",
   "metadata": {},
   "source": [
    "# Tutorials\n",
    "> Step-by-step guide of STEP"
   ]
  },
  {
   "cell_type": "markdown",
   "id": "a31d7f60",
   "metadata": {},
   "source": [
    "With these tutorials, we aim to make our library more accessible to everyone. Our goal is to show how to reproduce the results of [our paper](https://arxiv.org/abs/2302.00410) and provide you with the necessary tools to tackle your problems following our approach.\n",
    "\n",
    "The tutorials include:\n",
    "\n",
    "1. [Model training](https://borjarequena.github.io/step/tutorials/model_training.html): an introduction to generate data sets and train machine learning models to characterize heterogeneous diffusive processes.\n",
    "2. [Benchmark: Brownian motion](https://borjarequena.github.io/step/tutorials/analysis_bm.html): a characterization of the capabilities of our approach to study Brownian motion with changes over time.\n",
    "3. [Benchmark: anomalous diffusion](https://borjarequena.github.io/step/tutorials/analysis_andi.html): a characterization of the capabilities of our approach to study anomalous diffusion processes with changes over time."
   ]
  }
 ],
 "metadata": {
  "kernelspec": {
   "display_name": "Python 3 (ipykernel)",
   "language": "python",
   "name": "python3"
  }
 },
 "nbformat": 4,
 "nbformat_minor": 5
}
