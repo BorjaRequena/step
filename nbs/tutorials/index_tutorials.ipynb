{
 "cells": [
  {
   "attachments": {},
   "cell_type": "markdown",
   "id": "5e26b713-0160-4231-a525-fb5c696bd258",
   "metadata": {},
   "source": [
    "# Tutorials\n",
    "> Step-by-step guide of STEP"
   ]
  },
  {
   "attachments": {},
   "cell_type": "markdown",
   "id": "a31d7f60",
   "metadata": {},
   "source": [
    "\n",
    "With these tutorials, we aim to make our library more accessible to everyone. Our goal is to show how to reproduce the results of [our paper](https://arxiv.org/abs/2302.00410) and provide you with the necessary tools to tackle your problems following our approach."
   ]
  }
 ],
 "metadata": {
  "kernelspec": {
   "display_name": "base",
   "language": "python",
   "name": "python3"
  }
 },
 "nbformat": 4,
 "nbformat_minor": 5
}
