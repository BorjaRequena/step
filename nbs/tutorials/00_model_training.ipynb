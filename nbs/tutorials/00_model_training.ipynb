{
 "cells": [
  {
   "attachments": {},
   "cell_type": "markdown",
   "id": "6a96c394",
   "metadata": {},
   "source": [
    "# Model training\n",
    "> Examples of how to train machine learning model to perform the pointwise characterization of single-trajectories.\n",
    "\n",
    "In this tutorial, we show how to train machine learning models to predict diffusion properties of interest, such as the diffusion coefficient $D$, the anomalous diffusion exponent $\\alpha$ or the diffusion model that best describes the observation (as in the [AnDi Challenge](https://www.nature.com/articles/s41467-021-26320-w)).\n",
    "\n",
    "The methods presented here make extensive use of our [STEP library](https://borjarequena.github.io/step/). Follow the steps thoroughly to replicate the results of [our paper](https://arxiv.org/abs/2302.00410)."
   ]
  },
  {
   "cell_type": "code",
   "execution_count": null,
   "id": "159103b6-5f58-4280-92b1-48edb67349f1",
   "metadata": {},
   "outputs": [],
   "source": [
    "#| hide\n",
    "from step.data import *\n",
    "from step.utils import *\n",
    "from step.models import *\n",
    "from fastai.vision.all import * "
   ]
  },
  {
   "attachments": {},
   "cell_type": "markdown",
   "id": "36c4bd96",
   "metadata": {},
   "source": [
    "# Reproducing experimental conditions\n",
    "\n",
    "When training machine learning models to characterize diffusion processes, we need to keep in mind that these should be robust to the adversities related with the typical experimental conditions.\n",
    "\n",
    "A key factor to consider, is the localization precision of the experiment or localization noise. Here, we simulate it as white noise with standard deviation $\\sigma_{\\text{noise}}$ that we add to the trajectories. This also acts as a form of data augmentation and helps our model generalize better."
   ]
  },
  {
   "cell_type": "code",
   "execution_count": null,
   "id": "b8d84629-1eee-4faa-b5fd-30d98d9fa240",
   "metadata": {},
   "outputs": [],
   "source": [
    "class LocalizationNoise(ItemTransform):\n",
    "    \"Add localization noise to the trajectories.\"\n",
    "    def __init__(self, noise_lvls): self.noise_lvls = tensor(noise_lvls)\n",
    "    def encodes(self, sample):\n",
    "        x, y = sample\n",
    "        idx = torch.randint(self.noise_lvls.shape[0], (1,))\n",
    "        noise = self.noise_lvls[idx]\n",
    "        noisy_x = x + 10**(noise)*torch.randn_like(x)\n",
    "        return noisy_x - noisy_x[0], y"
   ]
  },
  {
   "attachments": {},
   "cell_type": "markdown",
   "id": "d0f6eca9",
   "metadata": {},
   "source": [
    "With `LocalizationNoise`, we add noise to every trajectory in a training batch. It takes `noise_lvls` as input, which is a list of the different $\\sigma_{\\text{noise}}$ to consider in $\\log_{10}$ scale. This way, we can choose to randomly add different levels of noise to each trajectory.   "
   ]
  },
  {
   "attachments": {},
   "cell_type": "markdown",
   "id": "a1e8cafe-6923-488d-a49b-c73d2ae23572",
   "metadata": {},
   "source": [
    "# Brownian motion\n",
    "\n",
    "Brownian motion, or normal diffusion, is characterized by a mean squared displacement $\\langle x^2\\rangle=2dDt$, where $d$ denotes the dimension, $D$ is the diffusion coefficient and $t$ is the time. Thus, the goal is to find $D$ given the observations.\n",
    "\n",
    "## Generate the data\n",
    "\n",
    "In order to train our models, we need to generate a data set. As we explain in the [data docs](https://borjarequena.github.io/step/source/data.html#datasets-with-variable-number-of-change-points), our trajectories contain different numbers of changepoints. To do so, we generate separate data sets with a fixed number of change points and combine them together.\n",
    "\n",
    "We have found that training our models with 2 to 5 segments (1 to 4 changepoints) is more than enough to generalize well to trajectories with an abritrary number of segments.\n",
    "\n",
    "::: {.callout-note}\n",
    "Skip this section if you already have a data set to train!\n",
    ":::"
   ]
  },
  {
   "cell_type": "code",
   "execution_count": null,
   "id": "23928f7e",
   "metadata": {},
   "outputs": [],
   "source": [
    "n_per_set = 12000\n",
    "max_t = 200\n",
    "dim = 2\n",
    "Ds = np.logspace(-3, 3, 1000) \n",
    "cps = [1, 2, 3, 4]\n",
    "ds_fun = partial(create_bm_segmentation_dataset,\n",
    "                 max_t=max_t, dim=dim, Ds=Ds, save=False)"
   ]
  },
  {
   "cell_type": "code",
   "execution_count": null,
   "id": "d96c1eb8",
   "metadata": {},
   "outputs": [],
   "source": [
    "datasets = [ds_fun(n_per_set, n_change_points=n_cp) for n_cp in cps]\n",
    "dataset = combine_datasets(datasets)\n",
    "\n",
    "n_change = f\"{min(cps)}_to_{max(cps)}\"\n",
    "save_path = DATA_PATH/get_bmds_fname(n_change + \"_train\", max_t, dim)\n",
    "dataset.to_pickle(save_path)"
   ]
  },
  {
   "attachments": {},
   "cell_type": "markdown",
   "id": "082c58f5",
   "metadata": {},
   "source": [
    "## Train the model\n",
    "\n",
    "We train our models using the [fastai library](https://docs.fast.ai/) to handle the training loop. To do so, we combine the essential blocks of any training loop:\n",
    "\n",
    "- A model to train\n",
    "- A data loader\n",
    "- A loss function\n",
    "- An optimization algorithm (we use the default Adam)\n",
    "\n",
    "Into a [`Learner`](https://docs.fast.ai/learner.html#learner) object. We can tweak all sorts of parameters and add, for example, data agumentation transforms, such as the `LocalizationNoise` we have defined above.\n",
    "\n",
    "::: {.callout-note}\n",
    "For anyone starting with machine learning, we recommend checking the [fastai courses](fast.ai) and their [book](https://www.amazon.com/Deep-Learning-Coders-fastai-PyTorch/dp/1492045527), which is also available in [open source](https://github.com/fastai/fastbook).\n",
    ":::\n",
    "\n",
    "We start by creating the data loaders that will take the data from above. Since we are working with Brownian motion trajectories and we wish to find the diffusion coefficient, we need to set `bm=True` and `target=y_exp`. `y_exp` is the option for continuous targets, do not use `y_mod` as it expects integer values. We know it's not the cleanest API for brownian motion :(\n",
    "    \n",
    "Additionally, rather than predicting the actual value of the diffusion coefficient, we will work with its logarithm, so we set `tfm_y=torch.log10`. This allows us to mantain a constant relative error across all the orders of magnitude. Finally, we set the device to be the `default_device`, which is the first GPU, in case there is one, or the CPU."
   ]
  },
  {
   "cell_type": "code",
   "execution_count": null,
   "id": "2ef7731f-7033-4a10-9600-9f5b5c5c60c6",
   "metadata": {},
   "outputs": [],
   "source": [
    "dim = 2\n",
    "dls = get_segmentation_dls(target='y_exp', dim=dim,\n",
    "                           n_change='1_to_4_train', tfm_y=torch.log10, bm=True)\n",
    "dls.device = default_device()"
   ]
  },
  {
   "attachments": {},
   "cell_type": "markdown",
   "id": "f6753031",
   "metadata": {},
   "source": [
    "We can add the localization noise transform to our data. We will leave some noiseless trajectories ($\\log_{10}\\sigma_{\\text{noise}}=-\\infty$) and then take noise amplitudes from $10^{-6}$ to $10^{1}$."
   ]
  },
  {
   "cell_type": "code",
   "execution_count": null,
   "id": "3f1ce6d7-7f89-4022-b70a-a531eb09ced9",
   "metadata": {},
   "outputs": [],
   "source": [
    "noise_levels = torch.cat([-tensor([float('inf')]), torch.linspace(-6, 1, 8)])\n",
    "dls.add_tfms(LocalizationNoise(noise_levels), 'after_item')"
   ]
  },
  {
   "attachments": {},
   "cell_type": "markdown",
   "id": "ac1fcd7c",
   "metadata": {},
   "source": [
    "For the machine learning model, we have found that our `XResAtnn` model works the best and trains rather fast."
   ]
  },
  {
   "cell_type": "code",
   "execution_count": null,
   "id": "9a24083d-eaaf-4742-a9fd-5794b09e3487",
   "metadata": {},
   "outputs": [],
   "source": [
    "model = XResAttn(dim, n_class=1, stem_szs=(64,), conv_blocks=[1, 1, 1],\n",
    "                 block_szs=[128, 256, 512], pos_enc=False, \n",
    "                 n_encoder_layers=4, dim_ff=512, nhead_enc=8,\n",
    "                 linear_layers=[], norm=False, yrange=(-3.1, 5.1))\n",
    "model.to(default_device())"
   ]
  },
  {
   "attachments": {},
   "cell_type": "markdown",
   "id": "4fb83cfa",
   "metadata": {},
   "source": [
    "Finally, we put all together in a `Leaner`. We will use the mean absolute error loss, or $L_1$ loss and the Adam optimizer (default option in the learner)."
   ]
  },
  {
   "cell_type": "code",
   "execution_count": null,
   "id": "b91c71b8",
   "metadata": {},
   "outputs": [],
   "source": [
    "learn = Learner(dls, model, loss_func=L1LossFlat(), model_dir=MODEL_PATH)"
   ]
  },
  {
   "attachments": {},
   "cell_type": "markdown",
   "id": "4301030b",
   "metadata": {},
   "source": [
    "A rather handy functionality of the learner is the `lr_find` method. This function trains the model for a few mini-batches changing the learning rate. Then, we can visualize the loss and determine the regions where the model is learning, where the learning rate is too low and where it diverges."
   ]
  },
  {
   "cell_type": "code",
   "execution_count": null,
   "id": "9935aba9-6aeb-4e40-9981-97c157916d72",
   "metadata": {},
   "outputs": [
    {
     "data": {
      "text/html": [],
      "text/plain": [
       "<IPython.core.display.HTML object>"
      ]
     },
     "metadata": {},
     "output_type": "display_data"
    },
    {
     "data": {
      "text/plain": [
       "SuggestedLRs(lr_min=0.0005248074419796466, lr_steep=1.3182567499825382e-06)"
      ]
     },
     "execution_count": null,
     "metadata": {},
     "output_type": "execute_result"
    },
    {
     "data": {
      "image/png": "[encoded data removed]",
      "text/plain": [
       "<Figure size 640x480 with 1 Axes>"
      ]
     },
     "metadata": {},
     "output_type": "display_data"
    }
   ],
   "source": [
    "learn.lr_find()"
   ]
  },
  {
   "attachments": {},
   "cell_type": "markdown",
   "id": "9f87a5ce",
   "metadata": {},
   "source": [
    "This is a typical shape where we have a regime where the model is not learning, followed by a fast-learning regime (slope downhill) and then a divergence region. We usually take a learning rate that is about 10x below the valley.\n",
    "\n",
    "Then we train with `fit_one_cycle`, which follows the [one-cycle policy](https://www.spiedigitallibrary.org/conference-proceedings-of-spie/11006/1100612/Super-convergence--very-fast-training-of-neural-networks-using/10.1117/12.2520589.short). We typically train with a few epochs and, if we see the model is still learning and not overfitting, we resume the training. "
   ]
  },
  {
   "cell_type": "code",
   "execution_count": null,
   "id": "9857bd1b-9549-400b-ab7b-e3160b1bdb8d",
   "metadata": {},
   "outputs": [],
   "source": [
    "learn.fit_one_cycle(30, lr_max=2e-4)"
   ]
  },
  {
   "attachments": {},
   "cell_type": "markdown",
   "id": "255b17ad",
   "metadata": {},
   "source": [
    "Finally, we can save the model."
   ]
  },
  {
   "cell_type": "code",
   "execution_count": null,
   "id": "b808f459",
   "metadata": {},
   "outputs": [],
   "source": [
    "learn.save(f'xresattn_bm_{dim}d_1_to_4_cp')"
   ]
  },
  {
   "attachments": {},
   "cell_type": "markdown",
   "id": "c9b125cf-858c-449c-a322-2888a7dd2b32",
   "metadata": {},
   "source": [
    "# Anomalous diffusion\n",
    "\n",
    "In complex environments, such as cells, we find that the diffusive behaviour of many particles deviates from Brownian motion. This is typically characterized by effective models whose mean squared displacement scales as a power-law with time $\\langle x^2\\rangle\\propto t^\\alpha$, as opposed to the linear dependence in Brownian motion. We could see normal diffusion as the particular case of $\\alpha=1$.\n",
    "\n",
    "Here, we consider the same five anomalous diffusion models as in the [AnDi challenge](https://www.nature.com/articles/s41467-021-26320-w):\n",
    "\n",
    " - Annealed transit time (ATTM) with $\\alpha\\in\\left[0.05, 1\\right]$.\n",
    " - Continuous time random walk (CTRW) with $\\alpha\\in\\left[0.05, 1\\right]$.\n",
    " - Fractional Brownian motion (FBM) with $\\alpha\\in\\left[0.05, 1.95\\right]$.\n",
    " - Lévy Walk (LW) with $\\alpha\\in\\left[1.05, 2\\right]$.\n",
    " - Scaled Brownian motion (SBM) with $\\alpha\\in\\left[0.05, 2\\right]$.\n",
    "\n",
    " and we consider intervals of 0.05 within the specified ranges of $\\alpha$.\n",
    "\n",
    "::: {.callout-note}\n",
    "Some of these anomalous diffusion models are \"Brownian motion with extra steps\", usually due to the interaction between the particles and their environments. In [our work](https://arxiv.org/abs/2302.00410), we show how to study anomalous diffusion directly from the pointwise characterization of normal diffusion taking ATTM and SBM trajectories as examples.\n",
    ":::\n",
    "\n",
    "Hence, when we study anomalous diffusion, we can consider two tasks: predicting $\\alpha$, or the model that best describes the observation.\n",
    "\n",
    "## Generate the data\n",
    "\n",
    "We generate the data in a very similar way as in the Brownian motion case. We combine data sets with anomalous diffusion trajectories that have different numbers of segments. Since there are two variables: $\\alpha$ and anomalous diffusion model, we consider a new segment whenever, at least one, of the two quantities varies.\n",
    "\n",
    "::: {.callout-note}\n",
    "Skip this section if you already have a data set to train!\n",
    ":::\n",
    "\n",
    "In this training data set, we will consider all the diffusion models with all their available exponents. Furthermore, we will not add any localization noise to the raw data, as we will use our `LocalizationNoise` data augmentation during training. "
   ]
  },
  {
   "cell_type": "code",
   "execution_count": null,
   "id": "5da8b4ae",
   "metadata": {},
   "outputs": [],
   "source": [
    "n_per_set = 12500\n",
    "max_t = 200\n",
    "dim = 2 \n",
    "cps = [1, 2, 3, 4]\n",
    "ds_fun = partial(create_andi_segmentation_dataset,\n",
    "                 max_t=max_t, dim=dim, noise=[0.], save=False)"
   ]
  },
  {
   "cell_type": "code",
   "execution_count": null,
   "id": "97354533",
   "metadata": {},
   "outputs": [],
   "source": [
    "datasets = [ds_fun(n_per_set, n_change_points=n_cp) for n_cp in cps]\n",
    "dataset = combine_datasets(datasets)\n",
    "\n",
    "n_change = f\"{min(cps)}_to_{max(cps)}\"\n",
    "save_path = DATA_PATH/get_andids_fname(n_change + \"_train\", max_t, dim)\n",
    "dataset.to_pickle(save_path)"
   ]
  },
  {
   "attachments": {},
   "cell_type": "markdown",
   "id": "3381f231",
   "metadata": {},
   "source": [
    "::: {.callout-note}\n",
    "You may see some warnings while the data set is createad, but don't panic, they're harmless.\n",
    ":::\n",
    "\n",
    "## Train the models\n",
    "\n",
    "We will show two examples: a regression task for the anomalous diffusion exponent and a classification task for the anomalous diffusion model. The whole pipeline is very similar to the case of Brownian motion: load data loaders, model and cost function in a learner and train.\n",
    "\n",
    "### Anomalous diffusion exponent\n",
    "\n",
    "The task here is to predict $\\alpha$. Thus, we will set `target=y_exp` in the data loader. "
   ]
  },
  {
   "cell_type": "code",
   "execution_count": null,
   "id": "613b729f",
   "metadata": {},
   "outputs": [],
   "source": [
    "dim = 2\n",
    "dls = get_segmentation_dls(dim=dim, target='y_exp', n_change='1_to_4_train')\n",
    "dls.device = default_device()"
   ]
  },
  {
   "attachments": {},
   "cell_type": "markdown",
   "id": "a755736b",
   "metadata": {},
   "source": [
    "In this case, we add localization noise with $\\sigma_{\\text{noise}}\\in\\left[10^{-4}, 10^0\\right]$ and we leave some noiseless trajectories."
   ]
  },
  {
   "cell_type": "code",
   "execution_count": null,
   "id": "ca1b4f48",
   "metadata": {},
   "outputs": [],
   "source": [
    "noise_levels = torch.cat([-tensor([float('inf')]), torch.linspace(-4, 0, 11)])\n",
    "dls.add_tfms(LocalizationNoise(noise_levels), 'after_item')"
   ]
  },
  {
   "attachments": {},
   "cell_type": "markdown",
   "id": "188add96",
   "metadata": {},
   "source": [
    "Then, we can create our model and combine all together in a `Learner`."
   ]
  },
  {
   "cell_type": "code",
   "execution_count": null,
   "id": "a473c50d",
   "metadata": {},
   "outputs": [],
   "source": [
    "model = XResAttn(dim, n_class=1, stem_szs=(32,), conv_blocks=[1, 1, 1],\n",
    "                 block_szs=[128, 256, 512], pos_enc=False, n_encoder_layers=4,\n",
    "                 dim_ff=512, nhead_enc=8, linear_layers=[])\n",
    "model.to(default_device())\n",
    "learn_exp = Learner(dls, model, loss_func=L1LossFlat(), model_dir=MODEL_PATH)"
   ]
  },
  {
   "attachments": {},
   "cell_type": "markdown",
   "id": "52363c89",
   "metadata": {},
   "source": [
    "Just as before, we can look for a suitable learning rate and train the model."
   ]
  },
  {
   "cell_type": "code",
   "execution_count": null,
   "id": "80eed83f",
   "metadata": {},
   "outputs": [],
   "source": [
    "learn_exp.lr_find()"
   ]
  },
  {
   "cell_type": "code",
   "execution_count": null,
   "id": "66ee1c82",
   "metadata": {},
   "outputs": [],
   "source": [
    "learn_exp.fit_one_cycle(20, lr_max=2e-4)"
   ]
  },
  {
   "attachments": {},
   "cell_type": "markdown",
   "id": "ed0c7b56",
   "metadata": {},
   "source": [
    "Finally, we can save the trained model."
   ]
  },
  {
   "cell_type": "code",
   "execution_count": null,
   "id": "c1e9f16d",
   "metadata": {},
   "outputs": [],
   "source": [
    "learn_exp.save(f'xresattn_exp_{dim}d_1_to_4_cp')"
   ]
  },
  {
   "attachments": {},
   "cell_type": "markdown",
   "id": "7a763d8e-2277-4c0f-9a86-951b8759543f",
   "metadata": {},
   "source": [
    "### Anomalous diffusion model\n",
    "\n",
    "To know what is the anomalous diffusion model that best describes the observations, we need to perform a pointwise classification task. We have 5 possible classes corresponding to each of the models.\n",
    "\n",
    "::: {.callout-note}\n",
    "In [our paper](https://arxiv.org/abs/2302.00410), we do not show any example of this task.\n",
    ":::\n",
    "\n",
    "In this case, we do not need to set `target=y_mod`, as it is the default option for our data loaders."
   ]
  },
  {
   "cell_type": "code",
   "execution_count": null,
   "id": "e55b9ce4-8e91-49c1-80f8-84afed78b45c",
   "metadata": {},
   "outputs": [],
   "source": [
    "dim = 2\n",
    "dls = get_segmentation_dls(dim=dim, n_change='1_to_4_train')\n",
    "dls.device = default_device()\n",
    "noise_levels = torch.cat([-tensor([float('inf')]), torch.linspace(-4, 0, 11)])\n",
    "dls.add_tfms(LocalizationNoise(noise_levels), 'after_item')"
   ]
  },
  {
   "attachments": {},
   "cell_type": "markdown",
   "id": "d78582e2",
   "metadata": {},
   "source": [
    "Creating our model, we do not need to specify `n_class=5` because it's the default option."
   ]
  },
  {
   "cell_type": "code",
   "execution_count": null,
   "id": "244237e9-863b-4f0a-9601-a63e1ceb6630",
   "metadata": {},
   "outputs": [],
   "source": [
    "model = XResAttn(dim, stem_szs=(32,), conv_blocks=[1, 1, 1],\n",
    "                 block_szs=[128, 256, 512], pos_enc=False, \n",
    "                 n_encoder_layers=4, dim_ff=512, nhead_enc=8,\n",
    "                 p=0.5, dropout=0.6, linear_layers=[])\n",
    "model.to(default_device())"
   ]
  },
  {
   "attachments": {},
   "cell_type": "markdown",
   "id": "e1fce78b",
   "metadata": {},
   "source": [
    "In the previous cases, the loss function was a direct indicative of the metric that we cared about. However, in this case, it is convenient to track additional metrics, such as the [F1 score](https://en.wikipedia.org/wiki/F-score).\n",
    "\n",
    "As loss function, we use the cross entropy loss with label smoothing, a very sucessful regularization technique."
   ]
  },
  {
   "cell_type": "code",
   "execution_count": null,
   "id": "675aeeb7",
   "metadata": {},
   "outputs": [],
   "source": [
    "\n",
    "metrics = [F1Score(average='micro')]\n",
    "learn = Learner(dls, model, loss_func=LabelSmoothingCrossEntropyFlat(),\n",
    "                metrics=metrics, model_dir=MODEL_PATH)"
   ]
  },
  {
   "attachments": {},
   "cell_type": "markdown",
   "id": "636fa7a0",
   "metadata": {},
   "source": [
    "Just as before, we can look for a suitable learning rate."
   ]
  },
  {
   "cell_type": "code",
   "execution_count": null,
   "id": "39220b39-a1a0-4944-aa16-0d6bfef172c4",
   "metadata": {},
   "outputs": [],
   "source": [
    "learn.lr_find()"
   ]
  },
  {
   "attachments": {},
   "cell_type": "markdown",
   "id": "d37d075c",
   "metadata": {},
   "source": [
    "Train our model."
   ]
  },
  {
   "cell_type": "code",
   "execution_count": null,
   "id": "3183237d-4220-430e-9d4a-498e4ff4484e",
   "metadata": {},
   "outputs": [],
   "source": [
    "learn.fit_one_cycle(20, lr_max=2e-3)"
   ]
  },
  {
   "attachments": {},
   "cell_type": "markdown",
   "id": "099f03e6",
   "metadata": {},
   "source": [
    "And save it!"
   ]
  },
  {
   "cell_type": "code",
   "execution_count": null,
   "id": "61ebbd99-d3ff-40b5-8e72-dd905f8bd61d",
   "metadata": {},
   "outputs": [],
   "source": [
    "learn.save(f'xresattn_class_{dim}d_1_to_4cp')"
   ]
  }
 ],
 "metadata": {
  "kernelspec": {
   "display_name": "andi",
   "language": "python",
   "name": "python3"
  }
 },
 "nbformat": 4,
 "nbformat_minor": 5
}
