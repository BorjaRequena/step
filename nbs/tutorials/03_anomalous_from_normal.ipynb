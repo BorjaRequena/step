{
 "cells": [
  {
   "cell_type": "markdown",
   "id": "5e2358e7-e6b4-4d41-9f2a-cb7f744bce09",
   "metadata": {},
   "source": [
    "# Anomalous diffusion from normal diffusion\n",
    "> We show how to study anomalous diffusion by characterizing the Brownian motion properties through time."
   ]
  },
  {
   "cell_type": "markdown",
   "id": "c816328f-5e83-4bee-ae44-4f32cce68045",
   "metadata": {},
   "source": [
    "# Scaled Brownian motion\n",
    "\n",
    "\n",
    "## Generate the data\n",
    "\n",
    "In this analysis, we use scaled Brownian motion (SBM) trajectories, which present an aging phenomenon that dicreases the diffusion coefficient with time. "
   ]
  },
  {
   "cell_type": "code",
   "execution_count": null,
   "id": "9f656799-4159-4cf8-9293-735b217e9e8c",
   "metadata": {},
   "outputs": [],
   "source": [
    "n_traj, max_t, exponents, models, dim = 6000, 200, np.array([0.1, 0.5]), [4], 2\n",
    "trajs = create_trajectories(n_traj, max_t, exponents, models, dim, noise=None)\n",
    "trajs = tensor(trajs[:, 2:].reshape((n_traj, dim, max_t)).transpose(0, 2, 1))"
   ]
  },
  {
   "cell_type": "markdown",
   "id": "8df49c9a-b221-46fa-8f3e-bd0c8b722b9c",
   "metadata": {},
   "source": [
    "Let's predict the diffusion coefficient for these trajectories."
   ]
  },
  {
   "cell_type": "code",
   "execution_count": null,
   "id": "ee346304-1f85-4e1c-a3b7-dc03073e4f9f",
   "metadata": {},
   "outputs": [],
   "source": [
    "bs = 128\n",
    "n_batch = np.ceil(n_traj/bs).astype(int)\n",
    "batches = [trajs[i*bs:(i+1)*bs] for i in range(n_batch)]"
   ]
  },
  {
   "cell_type": "code",
   "execution_count": null,
   "id": "7af9153c-0698-468b-beb1-4ee95f05a32c",
   "metadata": {},
   "outputs": [],
   "source": [
    "preds = [to_detach(learn_diff.model(xb.cuda()).squeeze()) for xb in batches]\n",
    "preds = torch.cat(preds, axis=0)"
   ]
  },
  {
   "cell_type": "code",
   "execution_count": null,
   "id": "da478736-ff90-4b4b-9498-4a9e3b77cd5b",
   "metadata": {},
   "outputs": [
    {
     "data": {
      "text/plain": [
       "Text(0.5, 0, 't')"
      ]
     },
     "execution_count": null,
     "metadata": {},
     "output_type": "execute_result"
    },
    {
     "data": {
      "image/png": "[encoded data removed]",
      "text/plain": [
       "<Figure size 432x266.4 with 1 Axes>"
      ]
     },
     "metadata": {
      "needs_background": "light"
     },
     "output_type": "display_data"
    }
   ],
   "source": [
    "plt.figure(figsize=(6, 3.7))\n",
    "plt.plot(preds[:n_traj//2].mean(axis=0), label=exponents[0])\n",
    "plt.plot(preds[n_traj//2:].mean(axis=0), label=exponents[1])\n",
    "plt.grid()\n",
    "plt.legend()\n",
    "plt.ylabel(\"D(t)\", fontsize=16)\n",
    "plt.xlabel(\"t\", fontsize=16)"
   ]
  },
  {
   "cell_type": "code",
   "execution_count": null,
   "id": "c5b260af-9c48-45a9-a80a-75ffcdbb9808",
   "metadata": {},
   "outputs": [],
   "source": [
    "file_name = \"preds_sbm\"\n",
    "data_path = DATA_PATH/file_name\n",
    "with open(data_path.with_suffix('.pkl'), 'wb') as f:\n",
    "    pickle.dump(preds, f, protocol=pickle.HIGHEST_PROTOCOL)"
   ]
  },
  {
   "cell_type": "markdown",
   "id": "ae93fb40-c95a-4807-b906-280fdac2b312",
   "metadata": {},
   "source": [
    "# Annealed transit time model\n",
    "\n",
    "## Generate the data"
   ]
  },
  {
   "cell_type": "code",
   "execution_count": null,
   "id": "42b5b83a-9d88-4a86-af7a-52595a644e70",
   "metadata": {},
   "outputs": [],
   "source": [
    "n_traj, max_t, sigma, gamma = 10000, 200, 1.16, 1.38\n",
    "trajs, Ds = create_fixed_attm_trajs(n_traj, max_t, sigma, gamma)\n",
    "trajs, Ds = tensor(trajs).transpose(2, 1), tensor(Ds)"
   ]
  },
  {
   "cell_type": "code",
   "execution_count": null,
   "id": "494c789e-99a9-43d5-8c1d-9f5a252ef521",
   "metadata": {},
   "outputs": [],
   "source": [
    "bs = 128\n",
    "n_batch = np.ceil(n_traj/bs).astype(int)\n",
    "batches = [trajs[i*bs:(i+1)*bs] for i in range(n_batch)]"
   ]
  },
  {
   "cell_type": "code",
   "execution_count": null,
   "id": "1088ae53-8192-452c-8a30-7b5bb4d879ac",
   "metadata": {},
   "outputs": [
    {
     "data": {
      "application/vnd.jupyter.widget-view+json": {
       "model_id": "516ebcff5ec540ecb9bc44e0dec8a090",
       "version_major": 2,
       "version_minor": 0
      },
      "text/plain": [
       "  0%|          | 0/79 [00:00<?, ?it/s]"
      ]
     },
     "metadata": {},
     "output_type": "display_data"
    }
   ],
   "source": [
    "preds = [to_detach(learn_diff.model(xb.cuda().float()).squeeze()) for xb in tqdm(batches)]\n",
    "preds = torch.cat(preds, axis=0)"
   ]
  },
  {
   "cell_type": "code",
   "execution_count": null,
   "id": "d427d87a-9198-408b-b26e-a82365efd144",
   "metadata": {},
   "outputs": [],
   "source": [
    "file_name = \"preds_attm\"\n",
    "data_path = DATA_PATH/file_name\n",
    "with open(data_path.with_suffix('.pkl'), 'wb') as f:\n",
    "    pickle.dump({'pred': preds, 'true': Ds}, f, protocol=pickle.HIGHEST_PROTOCOL)"
   ]
  }
 ],
 "metadata": {
  "kernelspec": {
   "display_name": "Python [conda env:andi]",
   "language": "python",
   "name": "conda-env-andi-py"
  }
 },
 "nbformat": 4,
 "nbformat_minor": 5
}
